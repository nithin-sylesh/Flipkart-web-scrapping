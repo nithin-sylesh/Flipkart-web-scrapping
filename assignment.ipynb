{
 "cells": [
  {
   "cell_type": "markdown",
   "metadata": {},
   "source": [
    "WEB SCRAPPING"
   ]
  },
  {
   "cell_type": "code",
   "execution_count": 1,
   "metadata": {
    "colab": {},
    "colab_type": "code",
    "executionInfo": {
     "elapsed": 1170,
     "status": "ok",
     "timestamp": 1601035026801,
     "user": {
      "displayName": "Shabbir Governor",
      "photoUrl": "https://lh3.googleusercontent.com/a-/AOh14GgG7YXnGlLzQEi0NEdesJ1XL80D1VttfZm-jIGU=s64",
      "userId": "06507395772645635637"
     },
     "user_tz": -330
    },
    "id": "J_dtrK2l6Qp_"
   },
   "outputs": [],
   "source": [
    "from bs4 import BeautifulSoup \n",
    "import requests \n",
    "import csv\n",
    "import pandas as pd"
   ]
  },
  {
   "cell_type": "code",
   "execution_count": 2,
   "metadata": {
    "colab": {},
    "colab_type": "code",
    "executionInfo": {
     "elapsed": 879,
     "status": "ok",
     "timestamp": 1601035028356,
     "user": {
      "displayName": "Shabbir Governor",
      "photoUrl": "https://lh3.googleusercontent.com/a-/AOh14GgG7YXnGlLzQEi0NEdesJ1XL80D1VttfZm-jIGU=s64",
      "userId": "06507395772645635637"
     },
     "user_tz": -330
    },
    "id": "vyIRV_um_161"
   },
   "outputs": [],
   "source": [
    "descriptions = [] # Create a list to store the descriptions\n",
    "processors=[]\n",
    "ram=[]\n",
    "os=[]\n",
    "storage=[]\n",
    "inches=[]\n",
    "warranty=[]\n",
    "prices = []\n",
    "ratings = []"
   ]
  },
  {
   "cell_type": "code",
   "execution_count": 3,
   "metadata": {
    "colab": {},
    "colab_type": "code",
    "executionInfo": {
     "elapsed": 57581,
     "status": "ok",
     "timestamp": 1601035366807,
     "user": {
      "displayName": "Shabbir Governor",
      "photoUrl": "https://lh3.googleusercontent.com/a-/AOh14GgG7YXnGlLzQEi0NEdesJ1XL80D1VttfZm-jIGU=s64",
      "userId": "06507395772645635637"
     },
     "user_tz": -330
    },
    "id": "ONAYmXkX6SeC"
   },
   "outputs": [],
   "source": [
    "pages = list(range(1,21))\n",
    "for page in pages:\n",
    "  req = requests.get(\"https://www.flipkart.com/search?q=laptop&sid=6bo%2Cb5g&as=on&as-show=on&otracker=AS_QueryStore_OrganicAutoSuggest_1_6_na_na_na&otracker1=AS_QueryStore_OrganicAutoSuggest_1_6_na_na_na&as-pos=1&as-type=RECENT&suggestionId=laptop%7CLaptops&requestId=7ec220e8-4f02-4150-9e0b-9e90cf692f4b&as-searchtext=laptop\".format(page)).text  # URL of the website which you want to scrape\n",
    "  #content = req.content # Get the content\n",
    "  soup = BeautifulSoup(req,'html.parser')\n",
    "  #print(soup.prettify())\n",
    "\n",
    "  desc = soup.find_all('div' , class_='_4rR01T')\n",
    "  for i in range(len(desc)):\n",
    "      descriptions.append(desc[i].text)\n",
    "  len(descriptions)\n",
    "\n",
    "  commonclass = soup.find_all('li',class_='rgWa7D') # We observe that the classnames for the different specifications are under one div.So we need to apply some method to extract the different features.\n",
    "  # Create empty lists for the features\n",
    "  for i in range(0,len(commonclass)):\n",
    "    p=commonclass[i].text # Extracting the text from the tags\n",
    "    if(\"Core\" in p): \n",
    "        processors.append(p)\n",
    "    elif(\"RAM\" in p): \n",
    "        ram.append(p)\n",
    "    elif(\"HDD\" in p or \"SSD\" in p):\n",
    "        storage.append(p)\n",
    "    elif(\"Operating\" in p):\n",
    "        os.append(p)\n",
    "    elif(\"Display\" in p):\n",
    "        inches.append(p)\n",
    "    elif(\"Warranty\" in p):\n",
    "        warranty.append(p)\n",
    "\n",
    "  price = soup.find_all('div',class_='_30jeq3 _1_WHN1') \n",
    "  # Extracting price of each laptop from the website\n",
    "  for i in range(len(price)):\n",
    "    prices.append(price[i].text)\n",
    "    len(prices)\n",
    "\n",
    "  rating = soup.find_all('div',class_='_3LWZlK') \n",
    "  #Extracting the ratings of each laptop from the website\n",
    "  for i in range(len(rating)):\n",
    "    ratings.append(rating[i].text)\n",
    "    len(ratings)"
   ]
  },
  {
   "cell_type": "code",
   "execution_count": 4,
   "metadata": {
    "colab": {
     "base_uri": "https://localhost:8080/",
     "height": 167
    },
    "colab_type": "code",
    "executionInfo": {
     "elapsed": 1063,
     "status": "ok",
     "timestamp": 1601035980539,
     "user": {
      "displayName": "Shabbir Governor",
      "photoUrl": "https://lh3.googleusercontent.com/a-/AOh14GgG7YXnGlLzQEi0NEdesJ1XL80D1VttfZm-jIGU=s64",
      "userId": "06507395772645635637"
     },
     "user_tz": -330
    },
    "id": "WRciTqFm9ixm",
    "outputId": "2e711397-f5c0-4693-9f3a-22cebb4118a7"
   },
   "outputs": [
    {
     "name": "stdout",
     "output_type": "stream",
     "text": [
      "480\n",
      "520\n",
      "480\n",
      "480\n",
      "489\n",
      "440\n",
      "480\n",
      "480\n",
      "747\n"
     ]
    }
   ],
   "source": [
    "print(len(descriptions))\n",
    "print(len(processors))\n",
    "print(len(ram))\n",
    "print(len(os))\n",
    "print(len(storage))\n",
    "print(len(warranty))\n",
    "print(len(inches))\n",
    "print(len(prices))\n",
    "print(len(ratings))"
   ]
  },
  {
   "cell_type": "code",
   "execution_count": 12,
   "metadata": {
    "colab": {},
    "colab_type": "code",
    "executionInfo": {
     "elapsed": 1176,
     "status": "ok",
     "timestamp": 1601036068447,
     "user": {
      "displayName": "Shabbir Governor",
      "photoUrl": "https://lh3.googleusercontent.com/a-/AOh14GgG7YXnGlLzQEi0NEdesJ1XL80D1VttfZm-jIGU=s64",
      "userId": "06507395772645635637"
     },
     "user_tz": -330
    },
    "id": "pGZS51dM8Vzo"
   },
   "outputs": [],
   "source": [
    "df = {'Description':descriptions[425],'Processor':processors[425],'RAM':ram[425],'Operating System':os[slice(425)],'Storage':storage[slice(425)],'Display':inches[slice(425)],'Warranty':warranty[slice(425)],'Price':prices[slice(425)], 'rating':ratings[slice(425)]}\n",
    "dataset = pd.DataFrame(data = df) # Finally merging all the features into a single dataframe"
   ]
  },
  {
   "cell_type": "code",
   "execution_count": 13,
   "metadata": {
    "colab": {
     "base_uri": "https://localhost:8080/",
     "height": 739
    },
    "colab_type": "code",
    "executionInfo": {
     "elapsed": 640,
     "status": "ok",
     "timestamp": 1601036072414,
     "user": {
      "displayName": "Shabbir Governor",
      "photoUrl": "https://lh3.googleusercontent.com/a-/AOh14GgG7YXnGlLzQEi0NEdesJ1XL80D1VttfZm-jIGU=s64",
      "userId": "06507395772645635637"
     },
     "user_tz": -330
    },
    "id": "SjbwHTRY9T5x",
    "outputId": "67eec500-48d9-4863-96ff-ab4d839d2f28"
   },
   "outputs": [
    {
     "data": {
      "text/html": [
       "<div>\n",
       "<style scoped>\n",
       "    .dataframe tbody tr th:only-of-type {\n",
       "        vertical-align: middle;\n",
       "    }\n",
       "\n",
       "    .dataframe tbody tr th {\n",
       "        vertical-align: top;\n",
       "    }\n",
       "\n",
       "    .dataframe thead th {\n",
       "        text-align: right;\n",
       "    }\n",
       "</style>\n",
       "<table border=\"1\" class=\"dataframe\">\n",
       "  <thead>\n",
       "    <tr style=\"text-align: right;\">\n",
       "      <th></th>\n",
       "      <th>Description</th>\n",
       "      <th>Processor</th>\n",
       "      <th>RAM</th>\n",
       "      <th>Operating System</th>\n",
       "      <th>Storage</th>\n",
       "      <th>Display</th>\n",
       "      <th>Warranty</th>\n",
       "      <th>Price</th>\n",
       "      <th>rating</th>\n",
       "    </tr>\n",
       "  </thead>\n",
       "  <tbody>\n",
       "    <tr>\n",
       "      <th>0</th>\n",
       "      <td>Lenovo IdeaPad 3 Core i3 10th Gen - (8 GB/1 TB...</td>\n",
       "      <td>Intel Core i7 Processor (11th Gen)</td>\n",
       "      <td>8 GB DDR4 RAM</td>\n",
       "      <td>64 bit Windows 10 Operating System</td>\n",
       "      <td>1 TB HDD</td>\n",
       "      <td>39.62 cm (15.6 inch) Display</td>\n",
       "      <td>1 Year Onsite Warranty</td>\n",
       "      <td>₹55,990</td>\n",
       "      <td>4.2</td>\n",
       "    </tr>\n",
       "    <tr>\n",
       "      <th>1</th>\n",
       "      <td>Lenovo IdeaPad 3 Core i3 10th Gen - (8 GB/1 TB...</td>\n",
       "      <td>Intel Core i7 Processor (11th Gen)</td>\n",
       "      <td>8 GB DDR4 RAM</td>\n",
       "      <td>64 bit Windows 10 Operating System</td>\n",
       "      <td>1 TB SSD</td>\n",
       "      <td>35.56 cm (14 inch) Touchscreen Display</td>\n",
       "      <td>1 Year International Travelers Warranty (ITW)</td>\n",
       "      <td>₹94,990</td>\n",
       "      <td>4.3</td>\n",
       "    </tr>\n",
       "    <tr>\n",
       "      <th>2</th>\n",
       "      <td>Lenovo IdeaPad 3 Core i3 10th Gen - (8 GB/1 TB...</td>\n",
       "      <td>Intel Core i7 Processor (11th Gen)</td>\n",
       "      <td>8 GB DDR4 RAM</td>\n",
       "      <td>64 bit Windows 10 Operating System</td>\n",
       "      <td>256 GB SSD</td>\n",
       "      <td>39.62 cm (15.6 Inch) Display</td>\n",
       "      <td>1 Year Onsite Warranty</td>\n",
       "      <td>₹39,990</td>\n",
       "      <td>4.4</td>\n",
       "    </tr>\n",
       "    <tr>\n",
       "      <th>3</th>\n",
       "      <td>Lenovo IdeaPad 3 Core i3 10th Gen - (8 GB/1 TB...</td>\n",
       "      <td>Intel Core i7 Processor (11th Gen)</td>\n",
       "      <td>8 GB DDR4 RAM</td>\n",
       "      <td>64 bit Windows 10 Operating System</td>\n",
       "      <td>256 GB SSD</td>\n",
       "      <td>39.62 cm (15.6 inch) Display</td>\n",
       "      <td>1 Year Onsite Warranty</td>\n",
       "      <td>₹38,990</td>\n",
       "      <td>4.4</td>\n",
       "    </tr>\n",
       "    <tr>\n",
       "      <th>4</th>\n",
       "      <td>Lenovo IdeaPad 3 Core i3 10th Gen - (8 GB/1 TB...</td>\n",
       "      <td>Intel Core i7 Processor (11th Gen)</td>\n",
       "      <td>8 GB DDR4 RAM</td>\n",
       "      <td>Windows 10 Operating System</td>\n",
       "      <td>256 GB SSD</td>\n",
       "      <td>39.62 cm (15.6 inch) Display</td>\n",
       "      <td>1 Year Onsite Warranty</td>\n",
       "      <td>₹36,990</td>\n",
       "      <td>4.3</td>\n",
       "    </tr>\n",
       "    <tr>\n",
       "      <th>...</th>\n",
       "      <td>...</td>\n",
       "      <td>...</td>\n",
       "      <td>...</td>\n",
       "      <td>...</td>\n",
       "      <td>...</td>\n",
       "      <td>...</td>\n",
       "      <td>...</td>\n",
       "      <td>...</td>\n",
       "      <td>...</td>\n",
       "    </tr>\n",
       "    <tr>\n",
       "      <th>420</th>\n",
       "      <td>Lenovo IdeaPad 3 Core i3 10th Gen - (8 GB/1 TB...</td>\n",
       "      <td>Intel Core i7 Processor (11th Gen)</td>\n",
       "      <td>8 GB DDR4 RAM</td>\n",
       "      <td>64 bit Windows 10 Operating System</td>\n",
       "      <td>256 GB SSD</td>\n",
       "      <td>35.56 cm (14 inch) Display</td>\n",
       "      <td>1 Year Onsite Warranty</td>\n",
       "      <td>₹37,990</td>\n",
       "      <td>4.5</td>\n",
       "    </tr>\n",
       "    <tr>\n",
       "      <th>421</th>\n",
       "      <td>Lenovo IdeaPad 3 Core i3 10th Gen - (8 GB/1 TB...</td>\n",
       "      <td>Intel Core i7 Processor (11th Gen)</td>\n",
       "      <td>8 GB DDR4 RAM</td>\n",
       "      <td>64 bit Windows 10 Operating System</td>\n",
       "      <td>256 GB SSD</td>\n",
       "      <td>39.62 cm (15.6 inch) Display</td>\n",
       "      <td>1 Year Onsite Warranty</td>\n",
       "      <td>₹59,990</td>\n",
       "      <td>4.5</td>\n",
       "    </tr>\n",
       "    <tr>\n",
       "      <th>422</th>\n",
       "      <td>Lenovo IdeaPad 3 Core i3 10th Gen - (8 GB/1 TB...</td>\n",
       "      <td>Intel Core i7 Processor (11th Gen)</td>\n",
       "      <td>8 GB DDR4 RAM</td>\n",
       "      <td>64 bit Windows 10 Operating System</td>\n",
       "      <td>256 GB SSD</td>\n",
       "      <td>39.62 cm (15.6 inch) Display</td>\n",
       "      <td>1 Year Onsite Warranty</td>\n",
       "      <td>₹61,990</td>\n",
       "      <td>4.5</td>\n",
       "    </tr>\n",
       "    <tr>\n",
       "      <th>423</th>\n",
       "      <td>Lenovo IdeaPad 3 Core i3 10th Gen - (8 GB/1 TB...</td>\n",
       "      <td>Intel Core i7 Processor (11th Gen)</td>\n",
       "      <td>8 GB DDR4 RAM</td>\n",
       "      <td>64 bit Windows 10 Operating System</td>\n",
       "      <td>512 GB SSD</td>\n",
       "      <td>39.62 cm (15.6 inch) Display</td>\n",
       "      <td>1 Year Onsite Warranty</td>\n",
       "      <td>₹59,990</td>\n",
       "      <td>4</td>\n",
       "    </tr>\n",
       "    <tr>\n",
       "      <th>424</th>\n",
       "      <td>Lenovo IdeaPad 3 Core i3 10th Gen - (8 GB/1 TB...</td>\n",
       "      <td>Intel Core i7 Processor (11th Gen)</td>\n",
       "      <td>8 GB DDR4 RAM</td>\n",
       "      <td>64 bit Windows 10 Operating System</td>\n",
       "      <td>1 TB SSD</td>\n",
       "      <td>39.62 cm (15.6 inch) Display</td>\n",
       "      <td>1 Year International Travelers Warranty</td>\n",
       "      <td>₹37,990</td>\n",
       "      <td>4.5</td>\n",
       "    </tr>\n",
       "  </tbody>\n",
       "</table>\n",
       "<p>425 rows × 9 columns</p>\n",
       "</div>"
      ],
      "text/plain": [
       "                                           Description  \\\n",
       "0    Lenovo IdeaPad 3 Core i3 10th Gen - (8 GB/1 TB...   \n",
       "1    Lenovo IdeaPad 3 Core i3 10th Gen - (8 GB/1 TB...   \n",
       "2    Lenovo IdeaPad 3 Core i3 10th Gen - (8 GB/1 TB...   \n",
       "3    Lenovo IdeaPad 3 Core i3 10th Gen - (8 GB/1 TB...   \n",
       "4    Lenovo IdeaPad 3 Core i3 10th Gen - (8 GB/1 TB...   \n",
       "..                                                 ...   \n",
       "420  Lenovo IdeaPad 3 Core i3 10th Gen - (8 GB/1 TB...   \n",
       "421  Lenovo IdeaPad 3 Core i3 10th Gen - (8 GB/1 TB...   \n",
       "422  Lenovo IdeaPad 3 Core i3 10th Gen - (8 GB/1 TB...   \n",
       "423  Lenovo IdeaPad 3 Core i3 10th Gen - (8 GB/1 TB...   \n",
       "424  Lenovo IdeaPad 3 Core i3 10th Gen - (8 GB/1 TB...   \n",
       "\n",
       "                              Processor            RAM  \\\n",
       "0    Intel Core i7 Processor (11th Gen)  8 GB DDR4 RAM   \n",
       "1    Intel Core i7 Processor (11th Gen)  8 GB DDR4 RAM   \n",
       "2    Intel Core i7 Processor (11th Gen)  8 GB DDR4 RAM   \n",
       "3    Intel Core i7 Processor (11th Gen)  8 GB DDR4 RAM   \n",
       "4    Intel Core i7 Processor (11th Gen)  8 GB DDR4 RAM   \n",
       "..                                  ...            ...   \n",
       "420  Intel Core i7 Processor (11th Gen)  8 GB DDR4 RAM   \n",
       "421  Intel Core i7 Processor (11th Gen)  8 GB DDR4 RAM   \n",
       "422  Intel Core i7 Processor (11th Gen)  8 GB DDR4 RAM   \n",
       "423  Intel Core i7 Processor (11th Gen)  8 GB DDR4 RAM   \n",
       "424  Intel Core i7 Processor (11th Gen)  8 GB DDR4 RAM   \n",
       "\n",
       "                       Operating System     Storage  \\\n",
       "0    64 bit Windows 10 Operating System    1 TB HDD   \n",
       "1    64 bit Windows 10 Operating System    1 TB SSD   \n",
       "2    64 bit Windows 10 Operating System  256 GB SSD   \n",
       "3    64 bit Windows 10 Operating System  256 GB SSD   \n",
       "4           Windows 10 Operating System  256 GB SSD   \n",
       "..                                  ...         ...   \n",
       "420  64 bit Windows 10 Operating System  256 GB SSD   \n",
       "421  64 bit Windows 10 Operating System  256 GB SSD   \n",
       "422  64 bit Windows 10 Operating System  256 GB SSD   \n",
       "423  64 bit Windows 10 Operating System  512 GB SSD   \n",
       "424  64 bit Windows 10 Operating System    1 TB SSD   \n",
       "\n",
       "                                    Display  \\\n",
       "0              39.62 cm (15.6 inch) Display   \n",
       "1    35.56 cm (14 inch) Touchscreen Display   \n",
       "2              39.62 cm (15.6 Inch) Display   \n",
       "3              39.62 cm (15.6 inch) Display   \n",
       "4              39.62 cm (15.6 inch) Display   \n",
       "..                                      ...   \n",
       "420              35.56 cm (14 inch) Display   \n",
       "421            39.62 cm (15.6 inch) Display   \n",
       "422            39.62 cm (15.6 inch) Display   \n",
       "423            39.62 cm (15.6 inch) Display   \n",
       "424            39.62 cm (15.6 inch) Display   \n",
       "\n",
       "                                          Warranty    Price rating  \n",
       "0                           1 Year Onsite Warranty  ₹55,990    4.2  \n",
       "1    1 Year International Travelers Warranty (ITW)  ₹94,990    4.3  \n",
       "2                           1 Year Onsite Warranty  ₹39,990    4.4  \n",
       "3                           1 Year Onsite Warranty  ₹38,990    4.4  \n",
       "4                           1 Year Onsite Warranty  ₹36,990    4.3  \n",
       "..                                             ...      ...    ...  \n",
       "420                         1 Year Onsite Warranty  ₹37,990    4.5  \n",
       "421                         1 Year Onsite Warranty  ₹59,990    4.5  \n",
       "422                         1 Year Onsite Warranty  ₹61,990    4.5  \n",
       "423                         1 Year Onsite Warranty  ₹59,990      4  \n",
       "424        1 Year International Travelers Warranty  ₹37,990    4.5  \n",
       "\n",
       "[425 rows x 9 columns]"
      ]
     },
     "execution_count": 13,
     "metadata": {},
     "output_type": "execute_result"
    }
   ],
   "source": [
    "dataset"
   ]
  },
  {
   "cell_type": "code",
   "execution_count": 14,
   "metadata": {
    "colab": {},
    "colab_type": "code",
    "executionInfo": {
     "elapsed": 1040,
     "status": "ok",
     "timestamp": 1601036115137,
     "user": {
      "displayName": "Shabbir Governor",
      "photoUrl": "https://lh3.googleusercontent.com/a-/AOh14GgG7YXnGlLzQEi0NEdesJ1XL80D1VttfZm-jIGU=s64",
      "userId": "06507395772645635637"
     },
     "user_tz": -330
    },
    "id": "DK4NIkl0D2E7"
   },
   "outputs": [],
   "source": [
    "dataset.to_csv('laptop.csv')"
   ]
  },
  {
   "cell_type": "code",
   "execution_count": 17,
   "metadata": {
    "colab": {
     "base_uri": "https://localhost:8080/",
     "height": 33
    },
    "colab_type": "code",
    "executionInfo": {
     "elapsed": 1153,
     "status": "ok",
     "timestamp": 1601036339747,
     "user": {
      "displayName": "Shabbir Governor",
      "photoUrl": "https://lh3.googleusercontent.com/a-/AOh14GgG7YXnGlLzQEi0NEdesJ1XL80D1VttfZm-jIGU=s64",
      "userId": "06507395772645635637"
     },
     "user_tz": -330
    },
    "id": "GuiMIVQZHN-e",
    "outputId": "4a5c3503-4eba-49d6-842b-7ff6a77e07d0"
   },
   "outputs": [
    {
     "data": {
      "text/plain": [
       "(425, 10)"
      ]
     },
     "execution_count": 17,
     "metadata": {},
     "output_type": "execute_result"
    }
   ],
   "source": [
    "df = pd.read_csv('laptop.csv')\n",
    "df.shape"
   ]
  },
  {
   "cell_type": "code",
   "execution_count": 18,
   "metadata": {
    "colab": {},
    "colab_type": "code",
    "executionInfo": {
     "elapsed": 1406,
     "status": "ok",
     "timestamp": 1601036164124,
     "user": {
      "displayName": "Shabbir Governor",
      "photoUrl": "https://lh3.googleusercontent.com/a-/AOh14GgG7YXnGlLzQEi0NEdesJ1XL80D1VttfZm-jIGU=s64",
      "userId": "06507395772645635637"
     },
     "user_tz": -330
    },
    "id": "kAVeRcxNN5D1"
   },
   "outputs": [],
   "source": [
    "import sqlite3"
   ]
  },
  {
   "cell_type": "code",
   "execution_count": 19,
   "metadata": {
    "colab": {},
    "colab_type": "code",
    "executionInfo": {
     "elapsed": 976,
     "status": "ok",
     "timestamp": 1601036177523,
     "user": {
      "displayName": "Shabbir Governor",
      "photoUrl": "https://lh3.googleusercontent.com/a-/AOh14GgG7YXnGlLzQEi0NEdesJ1XL80D1VttfZm-jIGU=s64",
      "userId": "06507395772645635637"
     },
     "user_tz": -330
    },
    "id": "H1HggCM5PA99"
   },
   "outputs": [],
   "source": [
    "conn = sqlite3.connect('TestDB1.db')\n",
    "c = conn.cursor()"
   ]
  },
  {
   "cell_type": "code",
   "execution_count": 20,
   "metadata": {
    "colab": {},
    "colab_type": "code",
    "executionInfo": {
     "elapsed": 958,
     "status": "ok",
     "timestamp": 1601036292580,
     "user": {
      "displayName": "Shabbir Governor",
      "photoUrl": "https://lh3.googleusercontent.com/a-/AOh14GgG7YXnGlLzQEi0NEdesJ1XL80D1VttfZm-jIGU=s64",
      "userId": "06507395772645635637"
     },
     "user_tz": -330
    },
    "id": "6Ap8mk52PDh_"
   },
   "outputs": [],
   "source": [
    "c.execute('CREATE TABLE IF NOT EXISTS laptop20 (Laptop_Id, Description, Processor, RAM, Operating System, Storage, Display, Warranty, Price)')\n",
    "conn.commit()"
   ]
  },
  {
   "cell_type": "code",
   "execution_count": 21,
   "metadata": {
    "colab": {
     "base_uri": "https://localhost:8080/",
     "height": 70
    },
    "colab_type": "code",
    "executionInfo": {
     "elapsed": 1270,
     "status": "ok",
     "timestamp": 1601036346991,
     "user": {
      "displayName": "Shabbir Governor",
      "photoUrl": "https://lh3.googleusercontent.com/a-/AOh14GgG7YXnGlLzQEi0NEdesJ1XL80D1VttfZm-jIGU=s64",
      "userId": "06507395772645635637"
     },
     "user_tz": -330
    },
    "id": "3MIyfIutPYDc",
    "outputId": "440a6bdb-f466-4fd4-bfb9-728651c45edd"
   },
   "outputs": [
    {
     "name": "stderr",
     "output_type": "stream",
     "text": [
      "D:\\anaconda3\\lib\\site-packages\\pandas\\core\\generic.py:2872: UserWarning: The spaces in these column names will not be changed. In pandas versions < 0.14, spaces were converted to underscores.\n",
      "  sql.to_sql(\n"
     ]
    }
   ],
   "source": [
    "df.to_sql('laptop20', conn, if_exists='replace', index = False)"
   ]
  },
  {
   "cell_type": "code",
   "execution_count": 22,
   "metadata": {
    "colab": {
     "base_uri": "https://localhost:8080/",
     "height": 33
    },
    "colab_type": "code",
    "executionInfo": {
     "elapsed": 944,
     "status": "ok",
     "timestamp": 1601036367113,
     "user": {
      "displayName": "Shabbir Governor",
      "photoUrl": "https://lh3.googleusercontent.com/a-/AOh14GgG7YXnGlLzQEi0NEdesJ1XL80D1VttfZm-jIGU=s64",
      "userId": "06507395772645635637"
     },
     "user_tz": -330
    },
    "id": "mT5Z5yxlPZwM",
    "outputId": "71ff8a72-54ef-443e-f0cf-07e3b3766f11"
   },
   "outputs": [
    {
     "data": {
      "text/plain": [
       "<sqlite3.Cursor at 0x25b64ded260>"
      ]
     },
     "execution_count": 22,
     "metadata": {},
     "output_type": "execute_result"
    }
   ],
   "source": [
    "c.execute('''SELECT * FROM laptop20''')"
   ]
  },
  {
   "cell_type": "code",
   "execution_count": 23,
   "metadata": {
    "colab": {
     "base_uri": "https://localhost:8080/",
     "height": 1000
    },
    "colab_type": "code",
    "executionInfo": {
     "elapsed": 995,
     "status": "ok",
     "timestamp": 1601036391169,
     "user": {
      "displayName": "Shabbir Governor",
      "photoUrl": "https://lh3.googleusercontent.com/a-/AOh14GgG7YXnGlLzQEi0NEdesJ1XL80D1VttfZm-jIGU=s64",
      "userId": "06507395772645635637"
     },
     "user_tz": -330
    },
    "id": "-AtDQv6gREiH",
    "outputId": "225d8e8d-4023-4272-8cb7-4400ece5c6a2"
   },
   "outputs": [
    {
     "name": "stdout",
     "output_type": "stream",
     "text": [
      "(0, 'Lenovo IdeaPad 3 Core i3 10th Gen - (8 GB/1 TB HDD/Windows 10 Home) 15IML05 Thin and Light Laptop', 'Intel Core i7 Processor (11th Gen)', '8 GB DDR4 RAM', '64 bit Windows 10 Operating System', '1 TB HDD', '39.62 cm (15.6 inch) Display', '1 Year Onsite Warranty', '₹55,990', 4.2)\n",
      "(1, 'Lenovo IdeaPad 3 Core i3 10th Gen - (8 GB/1 TB HDD/Windows 10 Home) 15IML05 Thin and Light Laptop', 'Intel Core i7 Processor (11th Gen)', '8 GB DDR4 RAM', '64 bit Windows 10 Operating System', '1 TB SSD', '35.56 cm (14 inch) Touchscreen Display', '1 Year International Travelers Warranty (ITW)', '₹94,990', 4.3)\n",
      "(2, 'Lenovo IdeaPad 3 Core i3 10th Gen - (8 GB/1 TB HDD/Windows 10 Home) 15IML05 Thin and Light Laptop', 'Intel Core i7 Processor (11th Gen)', '8 GB DDR4 RAM', '64 bit Windows 10 Operating System', '256 GB SSD', '39.62 cm (15.6 Inch) Display', '1 Year Onsite Warranty', '₹39,990', 4.4)\n",
      "(3, 'Lenovo IdeaPad 3 Core i3 10th Gen - (8 GB/1 TB HDD/Windows 10 Home) 15IML05 Thin and Light Laptop', 'Intel Core i7 Processor (11th Gen)', '8 GB DDR4 RAM', '64 bit Windows 10 Operating System', '256 GB SSD', '39.62 cm (15.6 inch) Display', '1 Year Onsite Warranty', '₹38,990', 4.4)\n",
      "(4, 'Lenovo IdeaPad 3 Core i3 10th Gen - (8 GB/1 TB HDD/Windows 10 Home) 15IML05 Thin and Light Laptop', 'Intel Core i7 Processor (11th Gen)', '8 GB DDR4 RAM', 'Windows 10 Operating System', '256 GB SSD', '39.62 cm (15.6 inch) Display', '1 Year Onsite Warranty', '₹36,990', 4.3)\n",
      "(5, 'Lenovo IdeaPad 3 Core i3 10th Gen - (8 GB/1 TB HDD/Windows 10 Home) 15IML05 Thin and Light Laptop', 'Intel Core i7 Processor (11th Gen)', '8 GB DDR4 RAM', '64 bit Windows 10 Operating System', '512 GB SSD', '39.62 cm (15.6 inch) Display', '1 Year International Travelers Warranty', '₹52,990', 4.4)\n",
      "(6, 'Lenovo IdeaPad 3 Core i3 10th Gen - (8 GB/1 TB HDD/Windows 10 Home) 15IML05 Thin and Light Laptop', 'Intel Core i7 Processor (11th Gen)', '8 GB DDR4 RAM', '64 bit Windows 10 Operating System', '256 GB SSD', '35.56 cm (14 inch) Display', '1 Year Onsite Warranty', '₹41,990', 4.3)\n",
      "(7, 'Lenovo IdeaPad 3 Core i3 10th Gen - (8 GB/1 TB HDD/Windows 10 Home) 15IML05 Thin and Light Laptop', 'Intel Core i7 Processor (11th Gen)', '8 GB DDR4 RAM', '64 bit Windows 10 Operating System', '512 GB SSD', '35.56 cm (14 inch) Touchscreen Display', '1 Year Onsite Warranty', '₹99,990', 4.6)\n",
      "(8, 'Lenovo IdeaPad 3 Core i3 10th Gen - (8 GB/1 TB HDD/Windows 10 Home) 15IML05 Thin and Light Laptop', 'Intel Core i7 Processor (11th Gen)', '8 GB DDR4 RAM', '64 bit Windows 10 Operating System', '256 GB SSD', '39.62 cm (15.6 inch) Display', '1 Year Onsite Warranty', '₹34,990', 4.3)\n",
      "(9, 'Lenovo IdeaPad 3 Core i3 10th Gen - (8 GB/1 TB HDD/Windows 10 Home) 15IML05 Thin and Light Laptop', 'Intel Core i7 Processor (11th Gen)', '8 GB DDR4 RAM', '64 bit Windows 10 Operating System', '512 GB SSD', '39.62 cm (15.6 inch) Display', '1 Year Onsite Warranty', '₹57,990', 4.6)\n",
      "(10, 'Lenovo IdeaPad 3 Core i3 10th Gen - (8 GB/1 TB HDD/Windows 10 Home) 15IML05 Thin and Light Laptop', 'Intel Core i7 Processor (11th Gen)', '8 GB DDR4 RAM', '64 bit Windows 10 Operating System', '512 GB SSD', '39.62 cm (15.6 inch) Display', '1 Year International Travelers Warranty (ITW)', '₹54,990', 4.5)\n",
      "(11, 'Lenovo IdeaPad 3 Core i3 10th Gen - (8 GB/1 TB HDD/Windows 10 Home) 15IML05 Thin and Light Laptop', 'Intel Core i7 Processor (11th Gen)', '8 GB DDR4 RAM', '64 bit Windows 10 Operating System', '1 TB SSD', '39.62 cm (15.6 inch) Display', '1 Year Onsite Warranty', '₹1,21,990', 4.5)\n",
      "(12, 'Lenovo IdeaPad 3 Core i3 10th Gen - (8 GB/1 TB HDD/Windows 10 Home) 15IML05 Thin and Light Laptop', 'Intel Core i7 Processor (11th Gen)', '8 GB DDR4 RAM', '64 bit Windows 10 Operating System', '512 GB SSD', '39.62 cm (15.6 inch) Display', '1 Year Onsite Warranty', '₹59,990', 4.5)\n",
      "(13, 'Lenovo IdeaPad 3 Core i3 10th Gen - (8 GB/1 TB HDD/Windows 10 Home) 15IML05 Thin and Light Laptop', 'Intel Core i7 Processor (11th Gen)', '8 GB DDR4 RAM', '64 bit Windows 10 Operating System', '1 TB HDD', '35.56 cm (14 inch) Display', '1 Year Onsite Warranty', '₹37,990', 4.0)\n",
      "(14, 'Lenovo IdeaPad 3 Core i3 10th Gen - (8 GB/1 TB HDD/Windows 10 Home) 15IML05 Thin and Light Laptop', 'Intel Core i7 Processor (11th Gen)', '8 GB DDR4 RAM', '64 bit Windows 10 Operating System', '512 GB SSD', '39.62 cm (15.6 inch) Display', '1 Year Onsite Warranty', '₹61,990', 4.5)\n",
      "(15, 'Lenovo IdeaPad 3 Core i3 10th Gen - (8 GB/1 TB HDD/Windows 10 Home) 15IML05 Thin and Light Laptop', 'Intel Core i7 Processor (11th Gen)', '8 GB DDR4 RAM', '64 bit Windows 10 Operating System', '512 GB SSD', '39.62 cm (15.6 inch) Display', '1 Year Onsite Warranty', '₹59,990', 4.4)\n",
      "(16, 'Lenovo IdeaPad 3 Core i3 10th Gen - (8 GB/1 TB HDD/Windows 10 Home) 15IML05 Thin and Light Laptop', 'Intel Core i7 Processor (11th Gen)', '8 GB DDR4 RAM', '64 bit Windows 10 Operating System', '256 GB SSD', '39.62 cm (15.6 inch) Display', '1 Year Onsite Warranty', '₹37,990', 4.3)\n",
      "(17, 'Lenovo IdeaPad 3 Core i3 10th Gen - (8 GB/1 TB HDD/Windows 10 Home) 15IML05 Thin and Light Laptop', 'Intel Core i7 Processor (11th Gen)', '8 GB DDR4 RAM', '64 bit Windows 10 Operating System', '1 TB HDD', '39.62 cm (15.6 inch) Display', '1 Year Warranty Term', '₹38,990', 4.2)\n",
      "(18, 'Lenovo IdeaPad 3 Core i3 10th Gen - (8 GB/1 TB HDD/Windows 10 Home) 15IML05 Thin and Light Laptop', 'Intel Core i7 Processor (11th Gen)', '8 GB DDR4 RAM', '64 bit Windows 10 Operating System', '512 GB SSD', '39.62 cm (15.6 inches) Display', '1 Year Onsite Warranty', '₹59,990', 4.3)\n",
      "(19, 'Lenovo IdeaPad 3 Core i3 10th Gen - (8 GB/1 TB HDD/Windows 10 Home) 15IML05 Thin and Light Laptop', 'Intel Core i7 Processor (11th Gen)', '8 GB DDR4 RAM', '64 bit Windows 10 Operating System', '512 GB SSD', '39.62 cm (15.6 inch) Display', '1 Year International Travelers Warranty (ITW)', '₹72,990', 4.6)\n",
      "(20, 'Lenovo IdeaPad 3 Core i3 10th Gen - (8 GB/1 TB HDD/Windows 10 Home) 15IML05 Thin and Light Laptop', 'Intel Core i7 Processor (11th Gen)', '8 GB DDR4 RAM', '64 bit Windows 10 Operating System', '512 GB SSD', '39.62 cm (15.6 Inch) Display', '2 Year Warranty Term', '₹69,990', 4.5)\n",
      "(21, 'Lenovo IdeaPad 3 Core i3 10th Gen - (8 GB/1 TB HDD/Windows 10 Home) 15IML05 Thin and Light Laptop', 'Intel Core i7 Processor (11th Gen)', '8 GB DDR4 RAM', '64 bit Windows 10 Operating System', '512 GB SSD', '39.62 cm (15.6 inch) Display', '1 Year Onsite Warranty', '₹45,990', 4.6)\n",
      "(22, 'Lenovo IdeaPad 3 Core i3 10th Gen - (8 GB/1 TB HDD/Windows 10 Home) 15IML05 Thin and Light Laptop', 'Intel Core i7 Processor (11th Gen)', '8 GB DDR4 RAM', '64 bit Windows 10 Operating System', '512 GB SSD', '39.62 cm (15.6 inch) Display', '1 Year Onsite Warranty', '₹76,990', 4.3)\n",
      "(23, 'Lenovo IdeaPad 3 Core i3 10th Gen - (8 GB/1 TB HDD/Windows 10 Home) 15IML05 Thin and Light Laptop', 'Intel Core i7 Processor (11th Gen)', '8 GB DDR4 RAM', '64 bit Windows 10 Operating System', 'PCI-e SSD (NVMe) ready,Cooler Boost,Matrix Display (Extend),Hi-Res Audio,Nahimic 3,144Hz Panel,Thin Bezel', '38.1 cm (15 inch) Display', '1 Year International Travelers Warranty (ITW)', '₹58,990', 4.0)\n",
      "(24, 'Lenovo IdeaPad 3 Core i3 10th Gen - (8 GB/1 TB HDD/Windows 10 Home) 15IML05 Thin and Light Laptop', 'Intel Core i7 Processor (11th Gen)', '8 GB DDR4 RAM', '64 bit Windows 10 Operating System', '1 TB HDD|256 GB SSD', '39.62 cm (15.6 inch) Display', '1 Year Onsite Warranty', '₹55,990', 1.0)\n",
      "(25, 'Lenovo IdeaPad 3 Core i3 10th Gen - (8 GB/1 TB HDD/Windows 10 Home) 15IML05 Thin and Light Laptop', 'Intel Core i7 Processor (11th Gen)', '8 GB DDR4 RAM', '64 bit Windows 10 Operating System', '1 TB HDD', '35.56 cm (14 inch) Touchscreen Display', '1 Year Onsite Warranty', '₹94,990', 4.5)\n",
      "(26, 'Lenovo IdeaPad 3 Core i3 10th Gen - (8 GB/1 TB HDD/Windows 10 Home) 15IML05 Thin and Light Laptop', 'Intel Core i7 Processor (11th Gen)', '8 GB DDR4 RAM', '64 bit Windows 10 Operating System', '1 TB SSD', '39.62 cm (15.6 Inch) Display', '1 Year Onsite Warranty', '₹39,990', 4.0)\n",
      "(27, 'Lenovo IdeaPad 3 Core i3 10th Gen - (8 GB/1 TB HDD/Windows 10 Home) 15IML05 Thin and Light Laptop', 'Intel Core i7 Processor (11th Gen)', '8 GB DDR4 RAM', '64 bit Windows 10 Operating System', '256 GB SSD', '39.62 cm (15.6 inch) Display', '1 Year International Travelers Warranty', '₹38,990', 4.0)\n",
      "(28, 'Lenovo IdeaPad 3 Core i3 10th Gen - (8 GB/1 TB HDD/Windows 10 Home) 15IML05 Thin and Light Laptop', 'Intel Core i7 Processor (11th Gen)', '8 GB DDR4 RAM', 'Windows 10 Operating System', '256 GB SSD', '39.62 cm (15.6 inch) Display', '1 Year Onsite Warranty', '₹36,990', 4.0)\n",
      "(29, 'Lenovo IdeaPad 3 Core i3 10th Gen - (8 GB/1 TB HDD/Windows 10 Home) 15IML05 Thin and Light Laptop', 'Intel Core i7 Processor (11th Gen)', '8 GB DDR4 RAM', '64 bit Windows 10 Operating System', '256 GB SSD', '39.62 cm (15.6 inch) Display', '1 Year Onsite Warranty', '₹52,990', 5.0)\n",
      "(30, 'Lenovo IdeaPad 3 Core i3 10th Gen - (8 GB/1 TB HDD/Windows 10 Home) 15IML05 Thin and Light Laptop', 'Intel Core i7 Processor (11th Gen)', '8 GB DDR4 RAM', '64 bit Windows 10 Operating System', '512 GB SSD', '35.56 cm (14 inch) Display', '1 Year Onsite Warranty', '₹41,990', 1.0)\n",
      "(31, 'Lenovo IdeaPad 3 Core i3 10th Gen - (8 GB/1 TB HDD/Windows 10 Home) 15IML05 Thin and Light Laptop', 'Intel Core i7 Processor (11th Gen)', '8 GB DDR4 RAM', '64 bit Windows 10 Operating System', '256 GB SSD', '35.56 cm (14 inch) Touchscreen Display', '1 Year Onsite Warranty', '₹99,990', 4.4)\n",
      "(32, 'Lenovo IdeaPad 3 Core i3 10th Gen - (8 GB/1 TB HDD/Windows 10 Home) 15IML05 Thin and Light Laptop', 'Intel Core i7 Processor (11th Gen)', '8 GB DDR4 RAM', '64 bit Windows 10 Operating System', '512 GB SSD', '39.62 cm (15.6 inch) Display', '1 Year International Travelers Warranty (ITW)', '₹34,990', 4.0)\n",
      "(33, 'Lenovo IdeaPad 3 Core i3 10th Gen - (8 GB/1 TB HDD/Windows 10 Home) 15IML05 Thin and Light Laptop', 'Intel Core i7 Processor (11th Gen)', '8 GB DDR4 RAM', '64 bit Windows 10 Operating System', '256 GB SSD', '39.62 cm (15.6 inch) Display', '1 Year Onsite Warranty', '₹57,990', 5.0)\n",
      "(34, 'Lenovo IdeaPad 3 Core i3 10th Gen - (8 GB/1 TB HDD/Windows 10 Home) 15IML05 Thin and Light Laptop', 'Intel Core i7 Processor (11th Gen)', '8 GB DDR4 RAM', '64 bit Windows 10 Operating System', '512 GB SSD', '39.62 cm (15.6 inch) Display', '1 Year Onsite Warranty', '₹54,990', 4.2)\n",
      "(35, 'Lenovo IdeaPad 3 Core i3 10th Gen - (8 GB/1 TB HDD/Windows 10 Home) 15IML05 Thin and Light Laptop', 'Intel Core i7 Processor (11th Gen)', '8 GB DDR4 RAM', '64 bit Windows 10 Operating System', '512 GB SSD', '39.62 cm (15.6 inch) Display', '1 Year Onsite Warranty', '₹1,21,990', 5.0)\n",
      "(36, 'Lenovo IdeaPad 3 Core i3 10th Gen - (8 GB/1 TB HDD/Windows 10 Home) 15IML05 Thin and Light Laptop', 'Intel Core i7 Processor (11th Gen)', '8 GB DDR4 RAM', '64 bit Windows 10 Operating System', '1 TB SSD', '39.62 cm (15.6 inch) Display', '1 Year Onsite Warranty', '₹59,990', 1.0)\n",
      "(37, 'Lenovo IdeaPad 3 Core i3 10th Gen - (8 GB/1 TB HDD/Windows 10 Home) 15IML05 Thin and Light Laptop', 'Intel Core i7 Processor (11th Gen)', '8 GB DDR4 RAM', '64 bit Windows 10 Operating System', '512 GB SSD', '35.56 cm (14 inch) Display', '1 Year Onsite Warranty', '₹37,990', 4.2)\n",
      "(38, 'Lenovo IdeaPad 3 Core i3 10th Gen - (8 GB/1 TB HDD/Windows 10 Home) 15IML05 Thin and Light Laptop', 'Intel Core i7 Processor (11th Gen)', '8 GB DDR4 RAM', '64 bit Windows 10 Operating System', '1 TB HDD', '39.62 cm (15.6 inch) Display', '1 Year Onsite Warranty', '₹61,990', 4.3)\n",
      "(39, 'Lenovo IdeaPad 3 Core i3 10th Gen - (8 GB/1 TB HDD/Windows 10 Home) 15IML05 Thin and Light Laptop', 'Intel Core i7 Processor (11th Gen)', '8 GB DDR4 RAM', '64 bit Windows 10 Operating System', '512 GB SSD', '39.62 cm (15.6 inch) Display', '1 Year Warranty Term', '₹59,990', 4.4)\n",
      "(40, 'Lenovo IdeaPad 3 Core i3 10th Gen - (8 GB/1 TB HDD/Windows 10 Home) 15IML05 Thin and Light Laptop', 'Intel Core i7 Processor (11th Gen)', '8 GB DDR4 RAM', '64 bit Windows 10 Operating System', '512 GB SSD', '39.62 cm (15.6 inch) Display', '1 Year Onsite Warranty', '₹37,990', 4.4)\n",
      "(41, 'Lenovo IdeaPad 3 Core i3 10th Gen - (8 GB/1 TB HDD/Windows 10 Home) 15IML05 Thin and Light Laptop', 'Intel Core i7 Processor (11th Gen)', '8 GB DDR4 RAM', '64 bit Windows 10 Operating System', '256 GB SSD', '39.62 cm (15.6 inch) Display', '1 Year International Travelers Warranty (ITW)', '₹38,990', 4.3)\n",
      "(42, 'Lenovo IdeaPad 3 Core i3 10th Gen - (8 GB/1 TB HDD/Windows 10 Home) 15IML05 Thin and Light Laptop', 'Intel Core i7 Processor (11th Gen)', '8 GB DDR4 RAM', '64 bit Windows 10 Operating System', '1 TB HDD', '39.62 cm (15.6 inches) Display', '2 Year Warranty Term', '₹59,990', 4.4)\n",
      "(43, 'Lenovo IdeaPad 3 Core i3 10th Gen - (8 GB/1 TB HDD/Windows 10 Home) 15IML05 Thin and Light Laptop', 'Intel Core i7 Processor (11th Gen)', '8 GB DDR4 RAM', '64 bit Windows 10 Operating System', '512 GB SSD', '38.1 cm (15 inch) Display', '1 Year Onsite Warranty', '₹58,990', 4.3)\n",
      "(44, 'Lenovo IdeaPad 3 Core i3 10th Gen - (8 GB/1 TB HDD/Windows 10 Home) 15IML05 Thin and Light Laptop', 'Intel Core i7 Processor (11th Gen)', '8 GB DDR4 RAM', '64 bit Windows 10 Operating System', '1 TB HDD|256 GB SSD', '39.62 cm (15.6 Inch) Display', '1 Year Onsite Warranty', '₹69,990', 4.6)\n",
      "(45, 'Lenovo IdeaPad 3 Core i3 10th Gen - (8 GB/1 TB HDD/Windows 10 Home) 15IML05 Thin and Light Laptop', 'Intel Core i7 Processor (11th Gen)', '8 GB DDR4 RAM', '64 bit Windows 10 Operating System', '512 GB SSD', '39.62 cm (15.6 inch) Display', '1 Year International Travelers Warranty (ITW)', '₹45,990', 4.3)\n",
      "(46, 'Lenovo IdeaPad 3 Core i3 10th Gen - (8 GB/1 TB HDD/Windows 10 Home) 15IML05 Thin and Light Laptop', 'Intel Core i7 Processor (11th Gen)', '8 GB DDR4 RAM', '64 bit Windows 10 Operating System', '512 GB SSD', '39.62 cm (15.6 inch) Display', '1 Year Onsite Warranty', '₹76,990', 4.6)\n",
      "(47, 'Lenovo IdeaPad 3 Core i3 10th Gen - (8 GB/1 TB HDD/Windows 10 Home) 15IML05 Thin and Light Laptop', 'Intel Core i7 Processor (11th Gen)', '8 GB DDR4 RAM', '64 bit Windows 10 Operating System', '512 GB SSD', '39.62 cm (15.6 inch) Display', '1 Year Onsite Warranty', '₹72,990', 4.5)\n",
      "(48, 'Lenovo IdeaPad 3 Core i3 10th Gen - (8 GB/1 TB HDD/Windows 10 Home) 15IML05 Thin and Light Laptop', 'Intel Core i7 Processor (11th Gen)', '8 GB DDR4 RAM', '64 bit Windows 10 Operating System', 'PCI-e SSD (NVMe) ready,Cooler Boost,Matrix Display (Extend),Hi-Res Audio,Nahimic 3,144Hz Panel,Thin Bezel', '39.62 cm (15.6 inch) Display', '1 Year Onsite Warranty', '₹55,990', 4.5)\n",
      "(49, 'Lenovo IdeaPad 3 Core i3 10th Gen - (8 GB/1 TB HDD/Windows 10 Home) 15IML05 Thin and Light Laptop', 'Intel Core i7 Processor (11th Gen)', '8 GB DDR4 RAM', '64 bit Windows 10 Operating System', '512 GB SSD', '35.56 cm (14 inch) Touchscreen Display', '1 Year Onsite Warranty', '₹94,990', 4.5)\n",
      "(50, 'Lenovo IdeaPad 3 Core i3 10th Gen - (8 GB/1 TB HDD/Windows 10 Home) 15IML05 Thin and Light Laptop', 'Intel Core i7 Processor (11th Gen)', '8 GB DDR4 RAM', '64 bit Windows 10 Operating System', '1 TB HDD', '39.62 cm (15.6 Inch) Display', '1 Year International Travelers Warranty', '₹39,990', 4.0)\n",
      "(51, 'Lenovo IdeaPad 3 Core i3 10th Gen - (8 GB/1 TB HDD/Windows 10 Home) 15IML05 Thin and Light Laptop', 'Intel Core i7 Processor (11th Gen)', '8 GB DDR4 RAM', '64 bit Windows 10 Operating System', '1 TB SSD', '39.62 cm (15.6 inch) Display', '1 Year Onsite Warranty', '₹38,990', 4.5)\n",
      "(52, 'Lenovo IdeaPad 3 Core i3 10th Gen - (8 GB/1 TB HDD/Windows 10 Home) 15IML05 Thin and Light Laptop', 'Intel Core i7 Processor (11th Gen)', '8 GB DDR4 RAM', 'Windows 10 Operating System', '256 GB SSD', '39.62 cm (15.6 inch) Display', '1 Year International Travelers Warranty (ITW)', '₹36,990', 4.4)\n",
      "(53, 'Lenovo IdeaPad 3 Core i3 10th Gen - (8 GB/1 TB HDD/Windows 10 Home) 15IML05 Thin and Light Laptop', 'Intel Core i7 Processor (11th Gen)', '8 GB DDR4 RAM', '64 bit Windows 10 Operating System', '256 GB SSD', '35.56 cm (14 inch) Display', '1 Year Onsite Warranty', '₹41,990', 4.3)\n",
      "(54, 'Lenovo IdeaPad 3 Core i3 10th Gen - (8 GB/1 TB HDD/Windows 10 Home) 15IML05 Thin and Light Laptop', 'Intel Core i7 Processor (11th Gen)', '8 GB DDR4 RAM', '64 bit Windows 10 Operating System', '256 GB SSD', '39.62 cm (15.6 inch) Display', '1 Year Onsite Warranty', '₹52,990', 4.2)\n",
      "(55, 'Lenovo IdeaPad 3 Core i3 10th Gen - (8 GB/1 TB HDD/Windows 10 Home) 15IML05 Thin and Light Laptop', 'Intel Core i7 Processor (11th Gen)', '8 GB DDR4 RAM', '64 bit Windows 10 Operating System', '256 GB SSD', '35.56 cm (14 inch) Touchscreen Display', '1 Year Onsite Warranty', '₹99,990', 4.3)\n",
      "(56, 'Lenovo IdeaPad 3 Core i3 10th Gen - (8 GB/1 TB HDD/Windows 10 Home) 15IML05 Thin and Light Laptop', 'Intel Core i7 Processor (11th Gen)', '8 GB DDR4 RAM', '64 bit Windows 10 Operating System', '512 GB SSD', '39.62 cm (15.6 inch) Display', '1 Year Onsite Warranty', '₹54,990', 4.6)\n",
      "(57, 'Lenovo IdeaPad 3 Core i3 10th Gen - (8 GB/1 TB HDD/Windows 10 Home) 15IML05 Thin and Light Laptop', 'Intel Core i7 Processor (11th Gen)', '8 GB DDR4 RAM', '64 bit Windows 10 Operating System', '512 GB SSD', '39.62 cm (15.6 inch) Display', '1 Year Onsite Warranty', '₹34,990', 4.5)\n",
      "(58, 'Lenovo IdeaPad 3 Core i3 10th Gen - (8 GB/1 TB HDD/Windows 10 Home) 15IML05 Thin and Light Laptop', 'Intel Core i7 Processor (11th Gen)', '8 GB DDR4 RAM', '64 bit Windows 10 Operating System', '512 GB SSD', '39.62 cm (15.6 inch) Display', '1 Year Onsite Warranty', '₹57,990', 4.6)\n",
      "(59, 'Lenovo IdeaPad 3 Core i3 10th Gen - (8 GB/1 TB HDD/Windows 10 Home) 15IML05 Thin and Light Laptop', 'Intel Core i7 Processor (11th Gen)', '8 GB DDR4 RAM', '64 bit Windows 10 Operating System', '256 GB SSD', '39.62 cm (15.6 inch) Display', '1 Year Onsite Warranty', '₹1,21,990', 4.3)\n",
      "(60, 'Lenovo IdeaPad 3 Core i3 10th Gen - (8 GB/1 TB HDD/Windows 10 Home) 15IML05 Thin and Light Laptop', 'Intel Core i7 Processor (11th Gen)', '8 GB DDR4 RAM', '64 bit Windows 10 Operating System', '512 GB SSD', '39.62 cm (15.6 inch) Display', '1 Year Onsite Warranty', '₹59,990', 4.0)\n",
      "(61, 'Lenovo IdeaPad 3 Core i3 10th Gen - (8 GB/1 TB HDD/Windows 10 Home) 15IML05 Thin and Light Laptop', 'Intel Core i7 Processor (11th Gen)', '8 GB DDR4 RAM', '64 bit Windows 10 Operating System', '1 TB SSD', '35.56 cm (14 inch) Display', '1 Year Warranty Term', '₹37,990', 1.0)\n",
      "(62, 'Lenovo IdeaPad 3 Core i3 10th Gen - (8 GB/1 TB HDD/Windows 10 Home) 15IML05 Thin and Light Laptop', 'Intel Core i7 Processor (11th Gen)', '8 GB DDR4 RAM', '64 bit Windows 10 Operating System', '512 GB SSD', '39.62 cm (15.6 inch) Display', '1 Year Onsite Warranty', '₹61,990', 4.5)\n",
      "(63, 'Lenovo IdeaPad 3 Core i3 10th Gen - (8 GB/1 TB HDD/Windows 10 Home) 15IML05 Thin and Light Laptop', 'Intel Core i7 Processor (11th Gen)', '8 GB DDR4 RAM', '64 bit Windows 10 Operating System', '1 TB HDD', '39.62 cm (15.6 inch) Display', '1 Year Onsite Warranty', '₹59,990', 4.0)\n",
      "(64, 'Lenovo IdeaPad 3 Core i3 10th Gen - (8 GB/1 TB HDD/Windows 10 Home) 15IML05 Thin and Light Laptop', 'Intel Core i7 Processor (11th Gen)', '8 GB DDR4 RAM', '64 bit Windows 10 Operating System', '512 GB SSD', '39.62 cm (15.6 inch) Display', '1 Year International Travelers Warranty (ITW)', '₹37,990', 4.0)\n",
      "(65, 'Lenovo IdeaPad 3 Core i3 10th Gen - (8 GB/1 TB HDD/Windows 10 Home) 15IML05 Thin and Light Laptop', 'Intel Core i7 Processor (11th Gen)', '8 GB DDR4 RAM', '64 bit Windows 10 Operating System', '512 GB SSD', '39.62 cm (15.6 inch) Display', '1 Year Onsite Warranty', '₹38,990', 4.0)\n",
      "(66, 'Lenovo IdeaPad 3 Core i3 10th Gen - (8 GB/1 TB HDD/Windows 10 Home) 15IML05 Thin and Light Laptop', 'Intel Core i7 Processor (11th Gen)', '8 GB DDR4 RAM', '64 bit Windows 10 Operating System', '256 GB SSD', '39.62 cm (15.6 Inch) Display', '1 Year Onsite Warranty', '₹69,990', 5.0)\n",
      "(67, 'Lenovo IdeaPad 3 Core i3 10th Gen - (8 GB/1 TB HDD/Windows 10 Home) 15IML05 Thin and Light Laptop', 'Intel Core i7 Processor (11th Gen)', '8 GB DDR4 RAM', '64 bit Windows 10 Operating System', '1 TB HDD', '39.62 cm (15.6 inch) Display', '1 Year International Travelers Warranty (ITW)', '₹72,990', 1.0)\n",
      "(68, 'Lenovo IdeaPad 3 Core i3 10th Gen - (8 GB/1 TB HDD/Windows 10 Home) 15IML05 Thin and Light Laptop', 'Intel Core i7 Processor (11th Gen)', '8 GB DDR4 RAM', '64 bit Windows 10 Operating System', '512 GB SSD', '39.62 cm (15.6 inches) Display', '1 Year Onsite Warranty', '₹59,990', 4.4)\n",
      "(69, 'Lenovo IdeaPad 3 Core i3 10th Gen - (8 GB/1 TB HDD/Windows 10 Home) 15IML05 Thin and Light Laptop', 'Intel Core i7 Processor (11th Gen)', '8 GB DDR4 RAM', '64 bit Windows 10 Operating System', '512 GB SSD', '39.62 cm (15.6 Inch) Display', '1 Year Onsite Warranty', '₹63,990', 4.0)\n",
      "(70, 'Lenovo IdeaPad 3 Core i3 10th Gen - (8 GB/1 TB HDD/Windows 10 Home) 15IML05 Thin and Light Laptop', 'Intel Core i7 Processor (11th Gen)', '8 GB DDR4 RAM', '64 bit Windows 10 Operating System', '512 GB SSD', '39.62 cm (15.6 inch) Display', '1 Year Onsite Warranty', '₹45,990', 5.0)\n",
      "(71, 'Lenovo IdeaPad 3 Core i3 10th Gen - (8 GB/1 TB HDD/Windows 10 Home) 15IML05 Thin and Light Laptop', 'Intel Core i7 Processor (11th Gen)', '8 GB DDR4 RAM', '64 bit Windows 10 Operating System', '512 GB SSD', '39.62 cm (15.6 inch) Display', '1 Year Onsite Warranty', '₹75,990', 4.2)\n",
      "(72, 'Lenovo IdeaPad 3 Core i3 10th Gen - (8 GB/1 TB HDD/Windows 10 Home) 15IML05 Thin and Light Laptop', 'Intel Core i7 Processor (11th Gen)', '8 GB DDR4 RAM', '64 bit Windows 10 Operating System', '512 GB SSD', '39.62 cm (15.6 inch) Display', '1 Year International Travelers Warranty', '₹55,990', 5.0)\n",
      "(73, 'Lenovo IdeaPad 3 Core i3 10th Gen - (8 GB/1 TB HDD/Windows 10 Home) 15IML05 Thin and Light Laptop', 'Intel Core i7 Processor (11th Gen)', '8 GB DDR4 RAM', '64 bit Windows 10 Operating System', '1 TB HDD|256 GB SSD', '35.56 cm (14 inch) Touchscreen Display', '1 Year Onsite Warranty', '₹94,990', 1.0)\n",
      "(74, 'Lenovo IdeaPad 3 Core i3 10th Gen - (8 GB/1 TB HDD/Windows 10 Home) 15IML05 Thin and Light Laptop', 'Intel Core i7 Processor (11th Gen)', '8 GB DDR4 RAM', '64 bit Windows 10 Operating System', '1 TB HDD', '39.62 cm (15.6 Inch) Display', '1 Year International Travelers Warranty (ITW)', '₹39,990', 4.2)\n",
      "(75, 'Lenovo IdeaPad 3 Core i3 10th Gen - (8 GB/1 TB HDD/Windows 10 Home) 15IML05 Thin and Light Laptop', 'Intel Core i7 Processor (11th Gen)', '8 GB DDR4 RAM', '64 bit Windows 10 Operating System', '1 TB SSD', '39.62 cm (15.6 inch) Display', '1 Year Onsite Warranty', '₹38,990', 4.3)\n",
      "(76, 'Lenovo IdeaPad 3 Core i3 10th Gen - (8 GB/1 TB HDD/Windows 10 Home) 15IML05 Thin and Light Laptop', 'Intel Core i7 Processor (11th Gen)', '8 GB DDR4 RAM', 'Windows 10 Operating System', '256 GB SSD', '39.62 cm (15.6 inch) Display', '1 Year Onsite Warranty', '₹36,990', 4.4)\n",
      "(77, 'Lenovo IdeaPad 3 Core i3 10th Gen - (8 GB/1 TB HDD/Windows 10 Home) 15IML05 Thin and Light Laptop', 'Intel Core i7 Processor (11th Gen)', '8 GB DDR4 RAM', '64 bit Windows 10 Operating System', '256 GB SSD', '35.56 cm (14 inch) Display', '1 Year Onsite Warranty', '₹41,990', 4.4)\n",
      "(78, 'Lenovo IdeaPad 3 Core i3 10th Gen - (8 GB/1 TB HDD/Windows 10 Home) 15IML05 Thin and Light Laptop', 'Intel Core i7 Processor (11th Gen)', '8 GB DDR4 RAM', '64 bit Windows 10 Operating System', '256 GB SSD', '39.62 cm (15.6 inch) Display', '1 Year Onsite Warranty', '₹52,990', 4.3)\n",
      "(79, 'Lenovo IdeaPad 3 Core i3 10th Gen - (8 GB/1 TB HDD/Windows 10 Home) 15IML05 Thin and Light Laptop', 'Intel Core i7 Processor (11th Gen)', '8 GB DDR4 RAM', '64 bit Windows 10 Operating System', '256 GB SSD', '39.62 cm (15.6 inch) Display', '1 Year Onsite Warranty', '₹1,21,990', 4.3)\n",
      "(80, 'Lenovo IdeaPad 3 Core i3 10th Gen - (8 GB/1 TB HDD/Windows 10 Home) 15IML05 Thin and Light Laptop', 'Intel Core i7 Processor (11th Gen)', '8 GB DDR4 RAM', '64 bit Windows 10 Operating System', '512 GB SSD', '39.62 cm (15.6 inch) Display', '1 Year Onsite Warranty', '₹54,990', 4.4)\n",
      "(81, 'Lenovo IdeaPad 3 Core i3 10th Gen - (8 GB/1 TB HDD/Windows 10 Home) 15IML05 Thin and Light Laptop', 'Intel Core i7 Processor (11th Gen)', '8 GB DDR4 RAM', '64 bit Windows 10 Operating System', '1 TB SSD', '39.62 cm (15.6 inch) Display', '1 Year Onsite Warranty', '₹34,990', 4.6)\n",
      "(82, 'Lenovo IdeaPad 3 Core i3 10th Gen - (8 GB/1 TB HDD/Windows 10 Home) 15IML05 Thin and Light Laptop', 'Intel Core i7 Processor (11th Gen)', '8 GB DDR4 RAM', '64 bit Windows 10 Operating System', '512 GB SSD', '39.62 cm (15.6 inch) Display', '1 Year Onsite Warranty', '₹57,990', 4.5)\n",
      "(83, 'Lenovo IdeaPad 3 Core i3 10th Gen - (8 GB/1 TB HDD/Windows 10 Home) 15IML05 Thin and Light Laptop', 'Intel Core i7 Processor (11th Gen)', '8 GB DDR4 RAM', '64 bit Windows 10 Operating System', '256 GB SSD', '35.56 cm (14 inch) Touchscreen Display', '1 Year Warranty Term', '₹99,990', 4.3)\n",
      "(84, 'Lenovo IdeaPad 3 Core i3 10th Gen - (8 GB/1 TB HDD/Windows 10 Home) 15IML05 Thin and Light Laptop', 'Intel Core i7 Processor (11th Gen)', '8 GB DDR4 RAM', '64 bit Windows 10 Operating System', '512 GB SSD', '39.62 cm (15.6 inch) Display', '1 Year Onsite Warranty', '₹59,990', 4.6)\n",
      "(85, 'Lenovo IdeaPad 3 Core i3 10th Gen - (8 GB/1 TB HDD/Windows 10 Home) 15IML05 Thin and Light Laptop', 'Intel Core i7 Processor (11th Gen)', '8 GB DDR4 RAM', '64 bit Windows 10 Operating System', '512 GB SSD', '35.56 cm (14 inch) Display', '1 Year Onsite Warranty', '₹37,990', 4.5)\n",
      "(86, 'Lenovo IdeaPad 3 Core i3 10th Gen - (8 GB/1 TB HDD/Windows 10 Home) 15IML05 Thin and Light Laptop', 'Intel Core i7 Processor (11th Gen)', '8 GB DDR4 RAM', '64 bit Windows 10 Operating System', '512 GB SSD', '39.62 cm (15.6 inch) Display', '1 Year International Travelers Warranty (ITW)', '₹61,990', 4.5)\n",
      "(87, 'Lenovo IdeaPad 3 Core i3 10th Gen - (8 GB/1 TB HDD/Windows 10 Home) 15IML05 Thin and Light Laptop', 'Intel Core i7 Processor (11th Gen)', '8 GB DDR4 RAM', '64 bit Windows 10 Operating System', '1 TB HDD', '39.62 cm (15.6 inch) Display', '1 Year Onsite Warranty', '₹59,990', 4.0)\n",
      "(88, 'Lenovo IdeaPad 3 Core i3 10th Gen - (8 GB/1 TB HDD/Windows 10 Home) 15IML05 Thin and Light Laptop', 'Intel Core i7 Processor (11th Gen)', '8 GB DDR4 RAM', '64 bit Windows 10 Operating System', '512 GB SSD', '39.62 cm (15.6 inch) Display', '1 Year Onsite Warranty', '₹37,990', 4.5)\n",
      "(89, 'Lenovo IdeaPad 3 Core i3 10th Gen - (8 GB/1 TB HDD/Windows 10 Home) 15IML05 Thin and Light Laptop', 'Intel Core i7 Processor (11th Gen)', '8 GB DDR4 RAM', '64 bit Windows 10 Operating System', '512 GB SSD', '39.62 cm (15.6 inch) Display', '1 Year International Travelers Warranty (ITW)', '₹38,990', 4.4)\n",
      "(90, 'Lenovo IdeaPad 3 Core i3 10th Gen - (8 GB/1 TB HDD/Windows 10 Home) 15IML05 Thin and Light Laptop', 'Intel Core i7 Processor (11th Gen)', '8 GB DDR4 RAM', '64 bit Windows 10 Operating System', '256 GB SSD', '39.62 cm (15.6 Inch) Display', '1 Year Onsite Warranty', '₹69,990', 4.3)\n",
      "(91, 'Lenovo IdeaPad 3 Core i3 10th Gen - (8 GB/1 TB HDD/Windows 10 Home) 15IML05 Thin and Light Laptop', 'Intel Core i7 Processor (11th Gen)', '8 GB DDR4 RAM', '64 bit Windows 10 Operating System', '1 TB HDD', '39.62 cm (15.6 inch) Display', '1 Year Onsite Warranty', '₹72,990', 4.2)\n",
      "(92, 'Lenovo IdeaPad 3 Core i3 10th Gen - (8 GB/1 TB HDD/Windows 10 Home) 15IML05 Thin and Light Laptop', 'Intel Core i7 Processor (11th Gen)', '8 GB DDR4 RAM', '64 bit Windows 10 Operating System', '512 GB SSD', '39.62 cm (15.6 inches) Display', '1 Year Onsite Warranty', '₹59,990', 4.6)\n",
      "(93, 'Lenovo IdeaPad 3 Core i3 10th Gen - (8 GB/1 TB HDD/Windows 10 Home) 15IML05 Thin and Light Laptop', 'Intel Core i7 Processor (11th Gen)', '8 GB DDR4 RAM', '64 bit Windows 10 Operating System', '512 GB SSD', '39.62 cm (15.6 Inch) Display', '1 Year International Travelers Warranty', '₹63,990', 4.3)\n",
      "(94, 'Lenovo IdeaPad 3 Core i3 10th Gen - (8 GB/1 TB HDD/Windows 10 Home) 15IML05 Thin and Light Laptop', 'Intel Core i7 Processor (11th Gen)', '8 GB DDR4 RAM', '64 bit Windows 10 Operating System', '512 GB SSD', '39.62 cm (15.6 inch) Display', '1 Year Onsite Warranty', '₹45,990', 4.4)\n",
      "(95, 'Lenovo IdeaPad 3 Core i3 10th Gen - (8 GB/1 TB HDD/Windows 10 Home) 15IML05 Thin and Light Laptop', 'Intel Core i7 Processor (11th Gen)', '8 GB DDR4 RAM', '64 bit Windows 10 Operating System', '512 GB SSD', '39.62 cm (15.6 inch) Display', '1 Year Onsite Warranty', '₹75,990', 4.5)\n",
      "(96, 'Lenovo IdeaPad 3 Core i3 10th Gen - (8 GB/1 TB HDD/Windows 10 Home) 15IML05 Thin and Light Laptop', 'Intel Core i7 Processor (11th Gen)', '8 GB DDR4 RAM', '64 bit Windows 10 Operating System', '512 GB SSD', '39.62 cm (15.6 inch) Display', '1 Year Onsite Warranty', '₹55,990', 4.5)\n",
      "(97, 'Lenovo IdeaPad 3 Core i3 10th Gen - (8 GB/1 TB HDD/Windows 10 Home) 15IML05 Thin and Light Laptop', 'Intel Core i7 Processor (11th Gen)', '8 GB DDR4 RAM', '64 bit Windows 10 Operating System', '1 TB HDD|256 GB SSD', '35.56 cm (14 inch) Touchscreen Display', '1 Year Onsite Warranty', '₹94,990', 4.3)\n",
      "(98, 'Lenovo IdeaPad 3 Core i3 10th Gen - (8 GB/1 TB HDD/Windows 10 Home) 15IML05 Thin and Light Laptop', 'Intel Core i7 Processor (11th Gen)', '8 GB DDR4 RAM', '64 bit Windows 10 Operating System', '1 TB HDD', '39.62 cm (15.6 Inch) Display', '1 Year International Travelers Warranty (ITW)', '₹39,990', 4.0)\n",
      "(99, 'Lenovo IdeaPad 3 Core i3 10th Gen - (8 GB/1 TB HDD/Windows 10 Home) 15IML05 Thin and Light Laptop', 'Intel Core i7 Processor (11th Gen)', '8 GB DDR4 RAM', '64 bit Windows 10 Operating System', '1 TB SSD', '39.62 cm (15.6 inch) Display', '1 Year Onsite Warranty', '₹38,990', 1.0)\n",
      "(100, 'Lenovo IdeaPad 3 Core i3 10th Gen - (8 GB/1 TB HDD/Windows 10 Home) 15IML05 Thin and Light Laptop', 'Intel Core i7 Processor (11th Gen)', '8 GB DDR4 RAM', 'Windows 10 Operating System', '256 GB SSD', '39.62 cm (15.6 inch) Display', '1 Year Onsite Warranty', '₹36,990', 4.5)\n",
      "(101, 'Lenovo IdeaPad 3 Core i3 10th Gen - (8 GB/1 TB HDD/Windows 10 Home) 15IML05 Thin and Light Laptop', 'Intel Core i7 Processor (11th Gen)', '8 GB DDR4 RAM', '64 bit Windows 10 Operating System', '256 GB SSD', '39.62 cm (15.6 inch) Display', '1 Year Onsite Warranty', '₹52,990', 4.0)\n",
      "(102, 'Lenovo IdeaPad 3 Core i3 10th Gen - (8 GB/1 TB HDD/Windows 10 Home) 15IML05 Thin and Light Laptop', 'Intel Core i7 Processor (11th Gen)', '8 GB DDR4 RAM', '64 bit Windows 10 Operating System', '256 GB SSD', '35.56 cm (14 inch) Display', '1 Year Onsite Warranty', '₹41,990', 4.0)\n",
      "(103, 'Lenovo IdeaPad 3 Core i3 10th Gen - (8 GB/1 TB HDD/Windows 10 Home) 15IML05 Thin and Light Laptop', 'Intel Core i7 Processor (11th Gen)', '8 GB DDR4 RAM', '64 bit Windows 10 Operating System', '512 GB SSD', '35.56 cm (14 inch) Touchscreen Display', '1 Year Onsite Warranty', '₹99,990', 4.0)\n",
      "(104, 'Lenovo IdeaPad 3 Core i3 10th Gen - (8 GB/1 TB HDD/Windows 10 Home) 15IML05 Thin and Light Laptop', 'Intel Core i7 Processor (11th Gen)', '8 GB DDR4 RAM', '64 bit Windows 10 Operating System', '256 GB SSD', '39.62 cm (15.6 inch) Display', '1 Year Onsite Warranty', '₹34,990', 5.0)\n",
      "(105, 'Lenovo IdeaPad 3 Core i3 10th Gen - (8 GB/1 TB HDD/Windows 10 Home) 15IML05 Thin and Light Laptop', 'Intel Core i7 Processor (11th Gen)', '8 GB DDR4 RAM', '64 bit Windows 10 Operating System', '512 GB SSD', '39.62 cm (15.6 inch) Display', '1 Year Warranty Term', '₹57,990', 1.0)\n",
      "(106, 'Lenovo IdeaPad 3 Core i3 10th Gen - (8 GB/1 TB HDD/Windows 10 Home) 15IML05 Thin and Light Laptop', 'Intel Core i7 Processor (11th Gen)', '8 GB DDR4 RAM', '64 bit Windows 10 Operating System', '256 GB SSD', '39.62 cm (15.6 inch) Display', '1 Year Onsite Warranty', '₹54,990', 4.4)\n",
      "(107, 'Lenovo IdeaPad 3 Core i3 10th Gen - (8 GB/1 TB HDD/Windows 10 Home) 15IML05 Thin and Light Laptop', 'Intel Core i7 Processor (11th Gen)', '8 GB DDR4 RAM', '64 bit Windows 10 Operating System', '512 GB SSD', '39.62 cm (15.6 inch) Display', '1 Year International Travelers Warranty (ITW)', '₹1,21,990', 4.0)\n",
      "(108, 'Lenovo IdeaPad 3 Core i3 10th Gen - (8 GB/1 TB HDD/Windows 10 Home) 15IML05 Thin and Light Laptop', 'Intel Core i7 Processor (11th Gen)', '8 GB DDR4 RAM', '64 bit Windows 10 Operating System', '512 GB SSD', '39.62 cm (15.6 inch) Display', '2 Year Warranty Term', '₹59,990', 5.0)\n",
      "(109, 'Lenovo IdeaPad 3 Core i3 10th Gen - (8 GB/1 TB HDD/Windows 10 Home) 15IML05 Thin and Light Laptop', 'Intel Core i7 Processor (11th Gen)', '8 GB DDR4 RAM', '64 bit Windows 10 Operating System', '1 TB SSD', '35.56 cm (14 inch) Display', '1 Year Onsite Warranty', '₹37,990', 4.2)\n",
      "(110, 'Lenovo IdeaPad 3 Core i3 10th Gen - (8 GB/1 TB HDD/Windows 10 Home) 15IML05 Thin and Light Laptop', 'Intel Core i7 Processor (11th Gen)', '8 GB DDR4 RAM', '64 bit Windows 10 Operating System', '512 GB SSD', '39.62 cm (15.6 inch) Display', '1 Year Onsite Warranty', '₹61,990', 5.0)\n",
      "(111, 'Lenovo IdeaPad 3 Core i3 10th Gen - (8 GB/1 TB HDD/Windows 10 Home) 15IML05 Thin and Light Laptop', 'Intel Core i7 Processor (11th Gen)', '8 GB DDR4 RAM', '64 bit Windows 10 Operating System', '1 TB HDD', '39.62 cm (15.6 inch) Display', '1 Year International Travelers Warranty (ITW)', '₹59,990', 1.0)\n",
      "(112, 'Lenovo IdeaPad 3 Core i3 10th Gen - (8 GB/1 TB HDD/Windows 10 Home) 15IML05 Thin and Light Laptop', 'Intel Core i7 Processor (11th Gen)', '8 GB DDR4 RAM', '64 bit Windows 10 Operating System', '512 GB SSD', '39.62 cm (15.6 inch) Display', '1 Year Onsite Warranty', '₹37,990', 4.2)\n",
      "(113, 'Lenovo IdeaPad 3 Core i3 10th Gen - (8 GB/1 TB HDD/Windows 10 Home) 15IML05 Thin and Light Laptop', 'Intel Core i7 Processor (11th Gen)', '8 GB DDR4 RAM', '64 bit Windows 10 Operating System', '512 GB SSD', '39.62 cm (15.6 inch) Display', '1 Year Onsite Warranty', '₹38,990', 4.3)\n",
      "(114, 'Lenovo IdeaPad 3 Core i3 10th Gen - (8 GB/1 TB HDD/Windows 10 Home) 15IML05 Thin and Light Laptop', 'Intel Core i7 Processor (11th Gen)', '8 GB DDR4 RAM', '64 bit Windows 10 Operating System', '256 GB SSD', '39.62 cm (15.6 inches) Display', '1 Year Onsite Warranty', '₹59,990', 4.4)\n",
      "(115, 'Lenovo IdeaPad 3 Core i3 10th Gen - (8 GB/1 TB HDD/Windows 10 Home) 15IML05 Thin and Light Laptop', 'Intel Core i7 Processor (11th Gen)', '8 GB DDR4 RAM', '64 bit Windows 10 Operating System', '1 TB HDD', '39.62 cm (15.6 inch) Display', '1 Year International Travelers Warranty', '₹72,990', 4.4)\n",
      "(116, 'Lenovo IdeaPad 3 Core i3 10th Gen - (8 GB/1 TB HDD/Windows 10 Home) 15IML05 Thin and Light Laptop', 'Intel Core i7 Processor (11th Gen)', '8 GB DDR4 RAM', '64 bit Windows 10 Operating System', '512 GB SSD', '39.62 cm (15.6 Inch) Display', '1 Year Onsite Warranty', '₹69,990', 4.3)\n",
      "(117, 'Lenovo IdeaPad 3 Core i3 10th Gen - (8 GB/1 TB HDD/Windows 10 Home) 15IML05 Thin and Light Laptop', 'Intel Core i7 Processor (11th Gen)', '8 GB DDR4 RAM', '64 bit Windows 10 Operating System', '512 GB SSD', '39.62 cm (15.6 inch) Display', '1 Year Onsite Warranty', '₹45,990', 4.3)\n",
      "(118, 'Lenovo IdeaPad 3 Core i3 10th Gen - (8 GB/1 TB HDD/Windows 10 Home) 15IML05 Thin and Light Laptop', 'Intel Core i7 Processor (11th Gen)', '8 GB DDR4 RAM', '64 bit Windows 10 Operating System', '512 GB SSD', '39.62 cm (15.6 inch) Display', '1 Year Onsite Warranty', '₹76,990', 4.4)\n",
      "(119, 'Lenovo IdeaPad 3 Core i3 10th Gen - (8 GB/1 TB HDD/Windows 10 Home) 15IML05 Thin and Light Laptop', 'Intel Core i7 Processor (11th Gen)', '8 GB DDR4 RAM', '64 bit Windows 10 Operating System', '512 GB SSD', '38.1 cm (15 inch) Display', '1 Year Onsite Warranty', '₹58,990', 4.5)\n",
      "(120, 'Lenovo IdeaPad 3 Core i3 10th Gen - (8 GB/1 TB HDD/Windows 10 Home) 15IML05 Thin and Light Laptop', 'Intel Core i7 Processor (11th Gen)', '8 GB DDR4 RAM', '64 bit Windows 10 Operating System', '512 GB SSD', '39.62 cm (15.6 inch) Display', '1 Year International Travelers Warranty (ITW)', '₹55,990', 4.5)\n",
      "(121, 'Lenovo IdeaPad 3 Core i3 10th Gen - (8 GB/1 TB HDD/Windows 10 Home) 15IML05 Thin and Light Laptop', 'Intel Core i7 Processor (11th Gen)', '8 GB DDR4 RAM', '64 bit Windows 10 Operating System', 'PCI-e SSD (NVMe) ready,Cooler Boost,Matrix Display (Extend),Hi-Res Audio,Nahimic 3,144Hz Panel,Thin Bezel', '35.56 cm (14 inch) Touchscreen Display', '1 Year Onsite Warranty', '₹94,990', 4.3)\n",
      "(122, 'Lenovo IdeaPad 3 Core i3 10th Gen - (8 GB/1 TB HDD/Windows 10 Home) 15IML05 Thin and Light Laptop', 'Intel Core i7 Processor (11th Gen)', '8 GB DDR4 RAM', '64 bit Windows 10 Operating System', '1 TB HDD|256 GB SSD', '39.62 cm (15.6 Inch) Display', '1 Year Onsite Warranty', '₹39,990', 4.6)\n",
      "(123, 'Lenovo IdeaPad 3 Core i3 10th Gen - (8 GB/1 TB HDD/Windows 10 Home) 15IML05 Thin and Light Laptop', 'Intel Core i7 Processor (11th Gen)', '8 GB DDR4 RAM', '64 bit Windows 10 Operating System', '1 TB HDD', '39.62 cm (15.6 inch) Display', '1 Year Onsite Warranty', '₹38,990', 4.6)\n",
      "(124, 'Lenovo IdeaPad 3 Core i3 10th Gen - (8 GB/1 TB HDD/Windows 10 Home) 15IML05 Thin and Light Laptop', 'Intel Core i7 Processor (11th Gen)', '8 GB DDR4 RAM', 'Windows 10 Operating System', '1 TB SSD', '39.62 cm (15.6 inch) Display', '1 Year Onsite Warranty', '₹36,990', 4.5)\n",
      "(125, 'Lenovo IdeaPad 3 Core i3 10th Gen - (8 GB/1 TB HDD/Windows 10 Home) 15IML05 Thin and Light Laptop', 'Intel Core i7 Processor (11th Gen)', '8 GB DDR4 RAM', '64 bit Windows 10 Operating System', '256 GB SSD', '39.62 cm (15.6 inch) Display', '1 Year Onsite Warranty', '₹52,990', 4.0)\n",
      "(126, 'Lenovo IdeaPad 3 Core i3 10th Gen - (8 GB/1 TB HDD/Windows 10 Home) 15IML05 Thin and Light Laptop', 'Intel Core i7 Processor (11th Gen)', '8 GB DDR4 RAM', '64 bit Windows 10 Operating System', '256 GB SSD', '35.56 cm (14 inch) Display', '1 Year Onsite Warranty', '₹41,990', 4.5)\n",
      "(127, 'Lenovo IdeaPad 3 Core i3 10th Gen - (8 GB/1 TB HDD/Windows 10 Home) 15IML05 Thin and Light Laptop', 'Intel Core i7 Processor (11th Gen)', '8 GB DDR4 RAM', '64 bit Windows 10 Operating System', '256 GB SSD', '35.56 cm (14 inch) Touchscreen Display', '1 Year Warranty Term', '₹99,990', 4.4)\n",
      "(128, 'Lenovo IdeaPad 3 Core i3 10th Gen - (8 GB/1 TB HDD/Windows 10 Home) 15IML05 Thin and Light Laptop', 'Intel Core i7 Processor (11th Gen)', '8 GB DDR4 RAM', '64 bit Windows 10 Operating System', '512 GB SSD', '39.62 cm (15.6 inch) Display', '1 Year Onsite Warranty', '₹34,990', 4.3)\n",
      "(129, 'Lenovo IdeaPad 3 Core i3 10th Gen - (8 GB/1 TB HDD/Windows 10 Home) 15IML05 Thin and Light Laptop', 'Intel Core i7 Processor (11th Gen)', '8 GB DDR4 RAM', '64 bit Windows 10 Operating System', '256 GB SSD', '39.62 cm (15.6 inch) Display', '1 Year International Travelers Warranty (ITW)', '₹57,990', 4.2)\n",
      "(130, 'Lenovo IdeaPad 3 Core i3 10th Gen - (8 GB/1 TB HDD/Windows 10 Home) 15IML05 Thin and Light Laptop', 'Intel Core i7 Processor (11th Gen)', '8 GB DDR4 RAM', '64 bit Windows 10 Operating System', '512 GB SSD', '39.62 cm (15.6 inch) Display', '2 Year Warranty Term', '₹54,990', 4.6)\n",
      "(131, 'Lenovo IdeaPad 3 Core i3 10th Gen - (8 GB/1 TB HDD/Windows 10 Home) 15IML05 Thin and Light Laptop', 'Intel Core i7 Processor (11th Gen)', '8 GB DDR4 RAM', '64 bit Windows 10 Operating System', '256 GB SSD', '39.62 cm (15.6 inch) Display', '1 Year Onsite Warranty', '₹1,21,990', 4.3)\n",
      "(132, 'Lenovo IdeaPad 3 Core i3 10th Gen - (8 GB/1 TB HDD/Windows 10 Home) 15IML05 Thin and Light Laptop', 'Intel Core i7 Processor (11th Gen)', '8 GB DDR4 RAM', '64 bit Windows 10 Operating System', '512 GB SSD', '39.62 cm (15.6 inch) Display', '1 Year Onsite Warranty', '₹59,990', 4.4)\n",
      "(133, 'Lenovo IdeaPad 3 Core i3 10th Gen - (8 GB/1 TB HDD/Windows 10 Home) 15IML05 Thin and Light Laptop', 'Intel Core i7 Processor (11th Gen)', '8 GB DDR4 RAM', '64 bit Windows 10 Operating System', '512 GB SSD', '35.56 cm (14 inch) Display', '1 Year International Travelers Warranty (ITW)', '₹37,990', 4.5)\n",
      "(134, 'Lenovo IdeaPad 3 Core i3 10th Gen - (8 GB/1 TB HDD/Windows 10 Home) 15IML05 Thin and Light Laptop', 'Intel Core i7 Processor (11th Gen)', '8 GB DDR4 RAM', '64 bit Windows 10 Operating System', '1 TB SSD', '39.62 cm (15.6 inch) Display', '1 Year Onsite Warranty', '₹61,990', 4.5)\n",
      "(135, 'Lenovo IdeaPad 3 Core i3 10th Gen - (8 GB/1 TB HDD/Windows 10 Home) 15IML05 Thin and Light Laptop', 'Intel Core i7 Processor (11th Gen)', '8 GB DDR4 RAM', '64 bit Windows 10 Operating System', '512 GB SSD', '39.62 cm (15.6 inch) Display', '1 Year Onsite Warranty', '₹59,990', 4.3)\n",
      "(136, 'Lenovo IdeaPad 3 Core i3 10th Gen - (8 GB/1 TB HDD/Windows 10 Home) 15IML05 Thin and Light Laptop', 'Intel Core i7 Processor (11th Gen)', '8 GB DDR4 RAM', '64 bit Windows 10 Operating System', '1 TB HDD', '39.62 cm (15.6 inch) Display', '1 Year Onsite Warranty', '₹37,990', 4.0)\n",
      "(137, 'Lenovo IdeaPad 3 Core i3 10th Gen - (8 GB/1 TB HDD/Windows 10 Home) 15IML05 Thin and Light Laptop', 'Intel Core i7 Processor (11th Gen)', '8 GB DDR4 RAM', '64 bit Windows 10 Operating System', '512 GB SSD', '39.62 cm (15.6 inch) Display', '1 Year Onsite Warranty', '₹38,990', 1.0)\n",
      "(138, 'Lenovo IdeaPad 3 Core i3 10th Gen - (8 GB/1 TB HDD/Windows 10 Home) 15IML05 Thin and Light Laptop', 'Intel Core i7 Processor (11th Gen)', '8 GB DDR4 RAM', '64 bit Windows 10 Operating System', '512 GB SSD', '39.62 cm (15.6 inches) Display', '1 Year International Travelers Warranty', '₹59,990', 4.5)\n",
      "(139, 'Lenovo IdeaPad 3 Core i3 10th Gen - (8 GB/1 TB HDD/Windows 10 Home) 15IML05 Thin and Light Laptop', 'Intel Core i7 Processor (11th Gen)', '8 GB DDR4 RAM', '64 bit Windows 10 Operating System', '256 GB SSD', '39.62 cm (15.6 inch) Display', '1 Year Onsite Warranty', '₹72,990', 4.0)\n",
      "(140, 'Lenovo IdeaPad 3 Core i3 10th Gen - (8 GB/1 TB HDD/Windows 10 Home) 15IML05 Thin and Light Laptop', 'Intel Core i7 Processor (11th Gen)', '8 GB DDR4 RAM', '64 bit Windows 10 Operating System', '1 TB HDD', '39.62 cm (15.6 Inch) Display', '1 Year International Travelers Warranty (ITW)', '₹69,990', 4.0)\n",
      "(141, 'Lenovo IdeaPad 3 Core i3 10th Gen - (8 GB/1 TB HDD/Windows 10 Home) 15IML05 Thin and Light Laptop', 'Intel Core i7 Processor (11th Gen)', '8 GB DDR4 RAM', '64 bit Windows 10 Operating System', '512 GB SSD', '39.62 cm (15.6 inch) Display', '1 Year Onsite Warranty', '₹45,990', 4.0)\n",
      "(142, 'Lenovo IdeaPad 3 Core i3 10th Gen - (8 GB/1 TB HDD/Windows 10 Home) 15IML05 Thin and Light Laptop', 'Intel Core i7 Processor (11th Gen)', '8 GB DDR4 RAM', '64 bit Windows 10 Operating System', '512 GB SSD', '39.62 cm (15.6 inch) Display', '1 Year Onsite Warranty', '₹76,990', 5.0)\n",
      "(143, 'Lenovo IdeaPad 3 Core i3 10th Gen - (8 GB/1 TB HDD/Windows 10 Home) 15IML05 Thin and Light Laptop', 'Intel Core i7 Processor (11th Gen)', '8 GB DDR4 RAM', '64 bit Windows 10 Operating System', '512 GB SSD', '38.1 cm (15 inch) Display', '1 Year Onsite Warranty', '₹58,990', 1.0)\n",
      "(144, 'Lenovo IdeaPad 3 Core i3 10th Gen - (8 GB/1 TB HDD/Windows 10 Home) 15IML05 Thin and Light Laptop', 'Intel Core i7 Processor (11th Gen)', '8 GB DDR4 RAM', '64 bit Windows 10 Operating System', '512 GB SSD', '39.62 cm (15.6 inch) Display', '1 Year Onsite Warranty', '₹55,990', 4.4)\n",
      "(145, 'Lenovo IdeaPad 3 Core i3 10th Gen - (8 GB/1 TB HDD/Windows 10 Home) 15IML05 Thin and Light Laptop', 'Intel Core i7 Processor (11th Gen)', '8 GB DDR4 RAM', '64 bit Windows 10 Operating System', '512 GB SSD', '35.56 cm (14 inch) Touchscreen Display', '1 Year Onsite Warranty', '₹94,990', 4.0)\n",
      "(146, 'Lenovo IdeaPad 3 Core i3 10th Gen - (8 GB/1 TB HDD/Windows 10 Home) 15IML05 Thin and Light Laptop', 'Intel Core i7 Processor (11th Gen)', '8 GB DDR4 RAM', '64 bit Windows 10 Operating System', 'PCI-e SSD (NVMe) ready,Cooler Boost,Matrix Display (Extend),Hi-Res Audio,Nahimic 3,144Hz Panel,Thin Bezel', '39.62 cm (15.6 Inch) Display', '1 Year Onsite Warranty', '₹39,990', 5.0)\n",
      "(147, 'Lenovo IdeaPad 3 Core i3 10th Gen - (8 GB/1 TB HDD/Windows 10 Home) 15IML05 Thin and Light Laptop', 'Intel Core i7 Processor (11th Gen)', '8 GB DDR4 RAM', '64 bit Windows 10 Operating System', '1 TB HDD|256 GB SSD', '39.62 cm (15.6 inch) Display', '1 Year Onsite Warranty', '₹38,990', 4.2)\n",
      "(148, 'Lenovo IdeaPad 3 Core i3 10th Gen - (8 GB/1 TB HDD/Windows 10 Home) 15IML05 Thin and Light Laptop', 'Intel Core i7 Processor (11th Gen)', '8 GB DDR4 RAM', 'Windows 10 Operating System', '1 TB HDD', '39.62 cm (15.6 inch) Display', '1 Year Onsite Warranty', '₹36,990', 5.0)\n",
      "(149, 'Lenovo IdeaPad 3 Core i3 10th Gen - (8 GB/1 TB HDD/Windows 10 Home) 15IML05 Thin and Light Laptop', 'Intel Core i7 Processor (11th Gen)', '8 GB DDR4 RAM', '64 bit Windows 10 Operating System', '1 TB SSD', '35.56 cm (14 inch) Display', '1 Year Warranty Term', '₹41,990', 1.0)\n",
      "(150, 'Lenovo IdeaPad 3 Core i3 10th Gen - (8 GB/1 TB HDD/Windows 10 Home) 15IML05 Thin and Light Laptop', 'Intel Core i7 Processor (11th Gen)', '8 GB DDR4 RAM', '64 bit Windows 10 Operating System', '256 GB SSD', '39.62 cm (15.6 inch) Display', '1 Year Onsite Warranty', '₹52,990', 4.2)\n",
      "(151, 'Lenovo IdeaPad 3 Core i3 10th Gen - (8 GB/1 TB HDD/Windows 10 Home) 15IML05 Thin and Light Laptop', 'Intel Core i7 Processor (11th Gen)', '8 GB DDR4 RAM', '64 bit Windows 10 Operating System', '256 GB SSD', '35.56 cm (14 inch) Touchscreen Display', '1 Year Onsite Warranty', '₹99,990', 4.3)\n",
      "(152, 'Lenovo IdeaPad 3 Core i3 10th Gen - (8 GB/1 TB HDD/Windows 10 Home) 15IML05 Thin and Light Laptop', 'Intel Core i7 Processor (11th Gen)', '8 GB DDR4 RAM', '64 bit Windows 10 Operating System', '256 GB SSD', '39.62 cm (15.6 inch) Display', '1 Year International Travelers Warranty (ITW)', '₹54,990', 4.4)\n",
      "(153, 'Lenovo IdeaPad 3 Core i3 10th Gen - (8 GB/1 TB HDD/Windows 10 Home) 15IML05 Thin and Light Laptop', 'Intel Core i7 Processor (11th Gen)', '8 GB DDR4 RAM', '64 bit Windows 10 Operating System', '256 GB SSD', '39.62 cm (15.6 inch) Display', '1 Year Onsite Warranty', '₹34,990', 4.4)\n",
      "(154, 'Lenovo IdeaPad 3 Core i3 10th Gen - (8 GB/1 TB HDD/Windows 10 Home) 15IML05 Thin and Light Laptop', 'Intel Core i7 Processor (11th Gen)', '8 GB DDR4 RAM', '64 bit Windows 10 Operating System', '512 GB SSD', '39.62 cm (15.6 inch) Display', '1 Year Onsite Warranty', '₹57,990', 4.3)\n",
      "(155, 'Lenovo IdeaPad 3 Core i3 10th Gen - (8 GB/1 TB HDD/Windows 10 Home) 15IML05 Thin and Light Laptop', 'Intel Core i7 Processor (11th Gen)', '8 GB DDR4 RAM', '64 bit Windows 10 Operating System', '512 GB SSD', '39.62 cm (15.6 inch) Display', '1 Year International Travelers Warranty (ITW)', '₹1,21,990', 4.4)\n",
      "(156, 'Lenovo IdeaPad 3 Core i3 10th Gen - (8 GB/1 TB HDD/Windows 10 Home) 15IML05 Thin and Light Laptop', 'Intel Core i7 Processor (11th Gen)', '8 GB DDR4 RAM', '64 bit Windows 10 Operating System', '512 GB SSD', '39.62 cm (15.6 inch) Display', '1 Year Onsite Warranty', '₹59,990', 4.3)\n",
      "(157, 'Lenovo IdeaPad 3 Core i3 10th Gen - (8 GB/1 TB HDD/Windows 10 Home) 15IML05 Thin and Light Laptop', 'Intel Core i7 Processor (11th Gen)', '8 GB DDR4 RAM', '64 bit Windows 10 Operating System', '256 GB SSD', '35.56 cm (14 inch) Display', '1 Year Onsite Warranty', '₹37,990', 4.6)\n",
      "(158, 'Lenovo IdeaPad 3 Core i3 10th Gen - (8 GB/1 TB HDD/Windows 10 Home) 15IML05 Thin and Light Laptop', 'Intel Core i7 Processor (11th Gen)', '8 GB DDR4 RAM', '64 bit Windows 10 Operating System', '512 GB SSD', '39.62 cm (15.6 inch) Display', '1 Year Onsite Warranty', '₹61,990', 4.3)\n",
      "(159, 'Lenovo IdeaPad 3 Core i3 10th Gen - (8 GB/1 TB HDD/Windows 10 Home) 15IML05 Thin and Light Laptop', 'Intel Core i7 Processor (11th Gen)', '8 GB DDR4 RAM', '64 bit Windows 10 Operating System', '1 TB SSD', '39.62 cm (15.6 inch) Display', '1 Year Onsite Warranty', '₹59,990', 4.6)\n",
      "(160, 'Lenovo IdeaPad 3 Core i3 10th Gen - (8 GB/1 TB HDD/Windows 10 Home) 15IML05 Thin and Light Laptop', 'Intel Core i7 Processor (11th Gen)', '8 GB DDR4 RAM', '64 bit Windows 10 Operating System', '512 GB SSD', '39.62 cm (15.6 inch) Display', '1 Year International Travelers Warranty', '₹37,990', 4.5)\n",
      "(161, 'Lenovo IdeaPad 3 Core i3 10th Gen - (8 GB/1 TB HDD/Windows 10 Home) 15IML05 Thin and Light Laptop', 'Intel Core i7 Processor (11th Gen)', '8 GB DDR4 RAM', '64 bit Windows 10 Operating System', '1 TB HDD', '39.62 cm (15.6 inch) Display', '1 Year Onsite Warranty', '₹38,990', 4.5)\n",
      "(162, 'Lenovo IdeaPad 3 Core i3 10th Gen - (8 GB/1 TB HDD/Windows 10 Home) 15IML05 Thin and Light Laptop', 'Intel Core i7 Processor (11th Gen)', '8 GB DDR4 RAM', '64 bit Windows 10 Operating System', '512 GB SSD', '39.62 cm (15.6 Inch) Display', '1 Year International Travelers Warranty (ITW)', '₹69,990', 4.5)\n",
      "(163, 'Lenovo IdeaPad 3 Core i3 10th Gen - (8 GB/1 TB HDD/Windows 10 Home) 15IML05 Thin and Light Laptop', 'Intel Core i7 Processor (11th Gen)', '8 GB DDR4 RAM', '64 bit Windows 10 Operating System', '512 GB SSD', '39.62 cm (15.6 inch) Display', '1 Year Onsite Warranty', '₹72,990', 4.0)\n",
      "(164, 'Lenovo IdeaPad 3 Core i3 10th Gen - (8 GB/1 TB HDD/Windows 10 Home) 15IML05 Thin and Light Laptop', 'Intel Core i7 Processor (11th Gen)', '8 GB DDR4 RAM', '64 bit Windows 10 Operating System', '256 GB SSD', '39.62 cm (15.6 inches) Display', '1 Year Onsite Warranty', '₹59,990', 4.5)\n",
      "(165, 'Lenovo IdeaPad 3 Core i3 10th Gen - (8 GB/1 TB HDD/Windows 10 Home) 15IML05 Thin and Light Laptop', 'Intel Core i7 Processor (11th Gen)', '8 GB DDR4 RAM', '64 bit Windows 10 Operating System', '1 TB HDD', '39.62 cm (15.6 Inch) Display', '1 Year Onsite Warranty', '₹63,990', 4.4)\n",
      "(166, 'Lenovo IdeaPad 3 Core i3 10th Gen - (8 GB/1 TB HDD/Windows 10 Home) 15IML05 Thin and Light Laptop', 'Intel Core i7 Processor (11th Gen)', '8 GB DDR4 RAM', '64 bit Windows 10 Operating System', '512 GB SSD', '39.62 cm (15.6 inch) Display', '1 Year Onsite Warranty', '₹45,990', 4.3)\n",
      "(167, 'Lenovo IdeaPad 3 Core i3 10th Gen - (8 GB/1 TB HDD/Windows 10 Home) 15IML05 Thin and Light Laptop', 'Intel Core i7 Processor (11th Gen)', '8 GB DDR4 RAM', '64 bit Windows 10 Operating System', '512 GB SSD', '38.1 cm (15 inch) Display', '1 Year Onsite Warranty', '₹58,990', 4.2)\n",
      "(168, 'Lenovo IdeaPad 3 Core i3 10th Gen - (8 GB/1 TB HDD/Windows 10 Home) 15IML05 Thin and Light Laptop', 'Intel Core i7 Processor (11th Gen)', '8 GB DDR4 RAM', '64 bit Windows 10 Operating System', '512 GB SSD', '39.62 cm (15.6 inch) Display', '1 Year Onsite Warranty', '₹55,990', 4.3)\n",
      "(169, 'Lenovo IdeaPad 3 Core i3 10th Gen - (8 GB/1 TB HDD/Windows 10 Home) 15IML05 Thin and Light Laptop', 'Intel Core i7 Processor (11th Gen)', '8 GB DDR4 RAM', '64 bit Windows 10 Operating System', '512 GB SSD', '35.56 cm (14 inch) Touchscreen Display', '1 Year Onsite Warranty', '₹94,990', 4.6)\n",
      "(170, 'Lenovo IdeaPad 3 Core i3 10th Gen - (8 GB/1 TB HDD/Windows 10 Home) 15IML05 Thin and Light Laptop', 'Intel Core i7 Processor (11th Gen)', '8 GB DDR4 RAM', '64 bit Windows 10 Operating System', '512 GB SSD', '39.62 cm (15.6 Inch) Display', '1 Year Onsite Warranty', '₹39,990', 4.5)\n",
      "(171, 'Lenovo IdeaPad 3 Core i3 10th Gen - (8 GB/1 TB HDD/Windows 10 Home) 15IML05 Thin and Light Laptop', 'Intel Core i7 Processor (11th Gen)', '8 GB DDR4 RAM', '64 bit Windows 10 Operating System', '1 TB HDD|256 GB SSD', '39.62 cm (15.6 inch) Display', '1 Year Warranty Term', '₹38,990', 4.6)\n",
      "(172, 'Lenovo IdeaPad 3 Core i3 10th Gen - (8 GB/1 TB HDD/Windows 10 Home) 15IML05 Thin and Light Laptop', 'Intel Core i7 Processor (11th Gen)', '8 GB DDR4 RAM', 'Windows 10 Operating System', '1 TB HDD', '39.62 cm (15.6 inch) Display', '1 Year Onsite Warranty', '₹36,990', 4.3)\n",
      "(173, 'Lenovo IdeaPad 3 Core i3 10th Gen - (8 GB/1 TB HDD/Windows 10 Home) 15IML05 Thin and Light Laptop', 'Intel Core i7 Processor (11th Gen)', '8 GB DDR4 RAM', '64 bit Windows 10 Operating System', '1 TB SSD', '35.56 cm (14 inch) Display', '1 Year Onsite Warranty', '₹41,990', 4.0)\n",
      "(174, 'Lenovo IdeaPad 3 Core i3 10th Gen - (8 GB/1 TB HDD/Windows 10 Home) 15IML05 Thin and Light Laptop', 'Intel Core i7 Processor (11th Gen)', '8 GB DDR4 RAM', '64 bit Windows 10 Operating System', '256 GB SSD', '39.62 cm (15.6 inch) Display', '1 Year International Travelers Warranty (ITW)', '₹52,990', 1.0)\n",
      "(175, 'Lenovo IdeaPad 3 Core i3 10th Gen - (8 GB/1 TB HDD/Windows 10 Home) 15IML05 Thin and Light Laptop', 'Intel Core i7 Processor (11th Gen)', '8 GB DDR4 RAM', '64 bit Windows 10 Operating System', '256 GB SSD', '35.56 cm (14 inch) Touchscreen Display', '1 Year Onsite Warranty', '₹99,990', 4.5)\n",
      "(176, 'Lenovo IdeaPad 3 Core i3 10th Gen - (8 GB/1 TB HDD/Windows 10 Home) 15IML05 Thin and Light Laptop', 'Intel Core i7 Processor (11th Gen)', '8 GB DDR4 RAM', '64 bit Windows 10 Operating System', '256 GB SSD', '39.62 cm (15.6 inch) Display', '1 Year Onsite Warranty', '₹54,990', 4.0)\n",
      "(177, 'Lenovo IdeaPad 3 Core i3 10th Gen - (8 GB/1 TB HDD/Windows 10 Home) 15IML05 Thin and Light Laptop', 'Intel Core i7 Processor (11th Gen)', '8 GB DDR4 RAM', '64 bit Windows 10 Operating System', '256 GB SSD', '39.62 cm (15.6 inch) Display', '1 Year International Travelers Warranty (ITW)', '₹34,990', 4.0)\n",
      "(178, 'Lenovo IdeaPad 3 Core i3 10th Gen - (8 GB/1 TB HDD/Windows 10 Home) 15IML05 Thin and Light Laptop', 'Intel Core i7 Processor (11th Gen)', '8 GB DDR4 RAM', '64 bit Windows 10 Operating System', '512 GB SSD', '39.62 cm (15.6 inch) Display', '1 Year Onsite Warranty', '₹57,990', 4.0)\n",
      "(179, 'Lenovo IdeaPad 3 Core i3 10th Gen - (8 GB/1 TB HDD/Windows 10 Home) 15IML05 Thin and Light Laptop', 'Intel Core i7 Processor (11th Gen)', '8 GB DDR4 RAM', '64 bit Windows 10 Operating System', '512 GB SSD', '39.62 cm (15.6 inch) Display', '1 Year Onsite Warranty', '₹1,21,990', 5.0)\n",
      "(180, 'Lenovo IdeaPad 3 Core i3 10th Gen - (8 GB/1 TB HDD/Windows 10 Home) 15IML05 Thin and Light Laptop', 'Intel Core i7 Processor (11th Gen)', '8 GB DDR4 RAM', '64 bit Windows 10 Operating System', '512 GB SSD', '39.62 cm (15.6 inch) Display', '1 Year Onsite Warranty', '₹59,990', 1.0)\n",
      "(181, 'Lenovo IdeaPad 3 Core i3 10th Gen - (8 GB/1 TB HDD/Windows 10 Home) 15IML05 Thin and Light Laptop', 'Intel Core i7 Processor (11th Gen)', '8 GB DDR4 RAM', '64 bit Windows 10 Operating System', '256 GB SSD', '35.56 cm (14 inch) Display', '1 Year Onsite Warranty', '₹37,990', 4.4)\n",
      "(182, 'Lenovo IdeaPad 3 Core i3 10th Gen - (8 GB/1 TB HDD/Windows 10 Home) 15IML05 Thin and Light Laptop', 'Intel Core i7 Processor (11th Gen)', '8 GB DDR4 RAM', '64 bit Windows 10 Operating System', '512 GB SSD', '39.62 cm (15.6 inch) Display', '1 Year International Travelers Warranty', '₹61,990', 4.0)\n",
      "(183, 'Lenovo IdeaPad 3 Core i3 10th Gen - (8 GB/1 TB HDD/Windows 10 Home) 15IML05 Thin and Light Laptop', 'Intel Core i7 Processor (11th Gen)', '8 GB DDR4 RAM', '64 bit Windows 10 Operating System', '1 TB SSD', '39.62 cm (15.6 inch) Display', '1 Year Onsite Warranty', '₹59,990', 5.0)\n",
      "(184, 'Lenovo IdeaPad 3 Core i3 10th Gen - (8 GB/1 TB HDD/Windows 10 Home) 15IML05 Thin and Light Laptop', 'Intel Core i7 Processor (11th Gen)', '8 GB DDR4 RAM', '64 bit Windows 10 Operating System', '512 GB SSD', '39.62 cm (15.6 inch) Display', '1 Year International Travelers Warranty (ITW)', '₹37,990', 4.2)\n",
      "(185, 'Lenovo IdeaPad 3 Core i3 10th Gen - (8 GB/1 TB HDD/Windows 10 Home) 15IML05 Thin and Light Laptop', 'Intel Core i7 Processor (11th Gen)', '8 GB DDR4 RAM', '64 bit Windows 10 Operating System', '1 TB HDD', '39.62 cm (15.6 inch) Display', '1 Year Onsite Warranty', '₹38,990', 5.0)\n",
      "(186, 'Lenovo IdeaPad 3 Core i3 10th Gen - (8 GB/1 TB HDD/Windows 10 Home) 15IML05 Thin and Light Laptop', 'Intel Core i7 Processor (11th Gen)', '8 GB DDR4 RAM', '64 bit Windows 10 Operating System', '512 GB SSD', '39.62 cm (15.6 Inch) Display', '1 Year Onsite Warranty', '₹69,990', 1.0)\n",
      "(187, 'Lenovo IdeaPad 3 Core i3 10th Gen - (8 GB/1 TB HDD/Windows 10 Home) 15IML05 Thin and Light Laptop', 'Intel Core i7 Processor (11th Gen)', '8 GB DDR4 RAM', '64 bit Windows 10 Operating System', '512 GB SSD', '39.62 cm (15.6 inch) Display', '1 Year Onsite Warranty', '₹72,990', 4.2)\n",
      "(188, 'Lenovo IdeaPad 3 Core i3 10th Gen - (8 GB/1 TB HDD/Windows 10 Home) 15IML05 Thin and Light Laptop', 'Intel Core i7 Processor (11th Gen)', '8 GB DDR4 RAM', '64 bit Windows 10 Operating System', '256 GB SSD', '39.62 cm (15.6 inches) Display', '1 Year Onsite Warranty', '₹59,990', 4.3)\n",
      "(189, 'Lenovo IdeaPad 3 Core i3 10th Gen - (8 GB/1 TB HDD/Windows 10 Home) 15IML05 Thin and Light Laptop', 'Intel Core i7 Processor (11th Gen)', '8 GB DDR4 RAM', '64 bit Windows 10 Operating System', '1 TB HDD', '39.62 cm (15.6 Inch) Display', '1 Year Onsite Warranty', '₹63,990', 4.4)\n",
      "(190, 'Lenovo IdeaPad 3 Core i3 10th Gen - (8 GB/1 TB HDD/Windows 10 Home) 15IML05 Thin and Light Laptop', 'Intel Core i7 Processor (11th Gen)', '8 GB DDR4 RAM', '64 bit Windows 10 Operating System', '512 GB SSD', '39.62 cm (15.6 inch) Display', '1 Year Onsite Warranty', '₹45,990', 4.4)\n",
      "(191, 'Lenovo IdeaPad 3 Core i3 10th Gen - (8 GB/1 TB HDD/Windows 10 Home) 15IML05 Thin and Light Laptop', 'Intel Core i7 Processor (11th Gen)', '8 GB DDR4 RAM', '64 bit Windows 10 Operating System', '512 GB SSD', '38.1 cm (15 inch) Display', '1 Year Onsite Warranty', '₹58,990', 4.3)\n",
      "(192, 'Lenovo IdeaPad 3 Core i3 10th Gen - (8 GB/1 TB HDD/Windows 10 Home) 15IML05 Thin and Light Laptop', 'Intel Core i7 Processor (11th Gen)', '8 GB DDR4 RAM', '64 bit Windows 10 Operating System', '512 GB SSD', '39.62 cm (15.6 inch) Display', '1 Year Onsite Warranty', '₹55,990', 4.4)\n",
      "(193, 'Lenovo IdeaPad 3 Core i3 10th Gen - (8 GB/1 TB HDD/Windows 10 Home) 15IML05 Thin and Light Laptop', 'Intel Core i7 Processor (11th Gen)', '8 GB DDR4 RAM', '64 bit Windows 10 Operating System', '512 GB SSD', '35.56 cm (14 inch) Touchscreen Display', '1 Year Warranty Term', '₹94,990', 4.3)\n",
      "(194, 'Lenovo IdeaPad 3 Core i3 10th Gen - (8 GB/1 TB HDD/Windows 10 Home) 15IML05 Thin and Light Laptop', 'Intel Core i7 Processor (11th Gen)', '8 GB DDR4 RAM', '64 bit Windows 10 Operating System', '512 GB SSD', '39.62 cm (15.6 Inch) Display', '1 Year Onsite Warranty', '₹39,990', 4.6)\n",
      "(195, 'Lenovo IdeaPad 3 Core i3 10th Gen - (8 GB/1 TB HDD/Windows 10 Home) 15IML05 Thin and Light Laptop', 'Intel Core i7 Processor (11th Gen)', '8 GB DDR4 RAM', '64 bit Windows 10 Operating System', '1 TB HDD|256 GB SSD', '39.62 cm (15.6 inch) Display', '1 Year International Travelers Warranty (ITW)', '₹38,990', 4.3)\n",
      "(196, 'Lenovo IdeaPad 3 Core i3 10th Gen - (8 GB/1 TB HDD/Windows 10 Home) 15IML05 Thin and Light Laptop', 'Intel Core i7 Processor (11th Gen)', '8 GB DDR4 RAM', 'Windows 10 Operating System', '1 TB HDD', '39.62 cm (15.6 inch) Display', '1 Year Onsite Warranty', '₹36,990', 4.6)\n",
      "(197, 'Lenovo IdeaPad 3 Core i3 10th Gen - (8 GB/1 TB HDD/Windows 10 Home) 15IML05 Thin and Light Laptop', 'Intel Core i7 Processor (11th Gen)', '8 GB DDR4 RAM', '64 bit Windows 10 Operating System', '1 TB SSD', '35.56 cm (14 inch) Display', '1 Year Onsite Warranty', '₹41,990', 4.5)\n",
      "(198, 'Lenovo IdeaPad 3 Core i3 10th Gen - (8 GB/1 TB HDD/Windows 10 Home) 15IML05 Thin and Light Laptop', 'Intel Core i7 Processor (11th Gen)', '8 GB DDR4 RAM', '64 bit Windows 10 Operating System', '256 GB SSD', '39.62 cm (15.6 inch) Display', '1 Year Onsite Warranty', '₹52,990', 4.5)\n",
      "(199, 'Lenovo IdeaPad 3 Core i3 10th Gen - (8 GB/1 TB HDD/Windows 10 Home) 15IML05 Thin and Light Laptop', 'Intel Core i7 Processor (11th Gen)', '8 GB DDR4 RAM', '64 bit Windows 10 Operating System', '256 GB SSD', '35.56 cm (14 inch) Touchscreen Display', '1 Year International Travelers Warranty (ITW)', '₹99,990', 4.5)\n",
      "(200, 'Lenovo IdeaPad 3 Core i3 10th Gen - (8 GB/1 TB HDD/Windows 10 Home) 15IML05 Thin and Light Laptop', 'Intel Core i7 Processor (11th Gen)', '8 GB DDR4 RAM', '64 bit Windows 10 Operating System', '256 GB SSD', '39.62 cm (15.6 inch) Display', '1 Year Onsite Warranty', '₹54,990', 4.0)\n",
      "(201, 'Lenovo IdeaPad 3 Core i3 10th Gen - (8 GB/1 TB HDD/Windows 10 Home) 15IML05 Thin and Light Laptop', 'Intel Core i7 Processor (11th Gen)', '8 GB DDR4 RAM', '64 bit Windows 10 Operating System', '256 GB SSD', '39.62 cm (15.6 inch) Display', '1 Year Onsite Warranty', '₹34,990', 4.5)\n",
      "(202, 'Lenovo IdeaPad 3 Core i3 10th Gen - (8 GB/1 TB HDD/Windows 10 Home) 15IML05 Thin and Light Laptop', 'Intel Core i7 Processor (11th Gen)', '8 GB DDR4 RAM', '64 bit Windows 10 Operating System', '512 GB SSD', '39.62 cm (15.6 inch) Display', '1 Year Onsite Warranty', '₹57,990', 4.4)\n",
      "(203, 'Lenovo IdeaPad 3 Core i3 10th Gen - (8 GB/1 TB HDD/Windows 10 Home) 15IML05 Thin and Light Laptop', 'Intel Core i7 Processor (11th Gen)', '8 GB DDR4 RAM', '64 bit Windows 10 Operating System', '512 GB SSD', '39.62 cm (15.6 inch) Display', '1 Year Onsite Warranty', '₹1,21,990', 4.3)\n",
      "(204, 'Lenovo IdeaPad 3 Core i3 10th Gen - (8 GB/1 TB HDD/Windows 10 Home) 15IML05 Thin and Light Laptop', 'Intel Core i7 Processor (11th Gen)', '8 GB DDR4 RAM', '64 bit Windows 10 Operating System', '512 GB SSD', '35.56 cm (14 inch) Display', '1 Year International Travelers Warranty', '₹37,990', 4.2)\n",
      "(205, 'Lenovo IdeaPad 3 Core i3 10th Gen - (8 GB/1 TB HDD/Windows 10 Home) 15IML05 Thin and Light Laptop', 'Intel Core i7 Processor (11th Gen)', '8 GB DDR4 RAM', '64 bit Windows 10 Operating System', '256 GB SSD', '39.62 cm (15.6 inch) Display', '1 Year Onsite Warranty', '₹59,990', 4.3)\n",
      "(206, 'Lenovo IdeaPad 3 Core i3 10th Gen - (8 GB/1 TB HDD/Windows 10 Home) 15IML05 Thin and Light Laptop', 'Intel Core i7 Processor (11th Gen)', '8 GB DDR4 RAM', '64 bit Windows 10 Operating System', '512 GB SSD', '39.62 cm (15.6 inch) Display', '1 Year International Travelers Warranty (ITW)', '₹61,990', 4.6)\n",
      "(207, 'Lenovo IdeaPad 3 Core i3 10th Gen - (8 GB/1 TB HDD/Windows 10 Home) 15IML05 Thin and Light Laptop', 'Intel Core i7 Processor (11th Gen)', '8 GB DDR4 RAM', '64 bit Windows 10 Operating System', '1 TB SSD', '39.62 cm (15.6 inch) Display', '1 Year Onsite Warranty', '₹59,990', 4.5)\n",
      "(208, 'Lenovo IdeaPad 3 Core i3 10th Gen - (8 GB/1 TB HDD/Windows 10 Home) 15IML05 Thin and Light Laptop', 'Intel Core i7 Processor (11th Gen)', '8 GB DDR4 RAM', '64 bit Windows 10 Operating System', '1 TB HDD', '39.62 cm (15.6 inch) Display', '1 Year Onsite Warranty', '₹37,990', 4.6)\n",
      "(209, 'Lenovo IdeaPad 3 Core i3 10th Gen - (8 GB/1 TB HDD/Windows 10 Home) 15IML05 Thin and Light Laptop', 'Intel Core i7 Processor (11th Gen)', '8 GB DDR4 RAM', '64 bit Windows 10 Operating System', '512 GB SSD', '39.62 cm (15.6 inch) Display', '1 Year Onsite Warranty', '₹38,990', 4.3)\n",
      "(210, 'Lenovo IdeaPad 3 Core i3 10th Gen - (8 GB/1 TB HDD/Windows 10 Home) 15IML05 Thin and Light Laptop', 'Intel Core i7 Processor (11th Gen)', '8 GB DDR4 RAM', '64 bit Windows 10 Operating System', '512 GB SSD', '39.62 cm (15.6 inches) Display', '1 Year Onsite Warranty', '₹59,990', 4.0)\n",
      "(211, 'Lenovo IdeaPad 3 Core i3 10th Gen - (8 GB/1 TB HDD/Windows 10 Home) 15IML05 Thin and Light Laptop', 'Intel Core i7 Processor (11th Gen)', '8 GB DDR4 RAM', '64 bit Windows 10 Operating System', '512 GB SSD', '39.62 cm (15.6 inch) Display', '1 Year Onsite Warranty', '₹72,990', 1.0)\n",
      "(212, 'Lenovo IdeaPad 3 Core i3 10th Gen - (8 GB/1 TB HDD/Windows 10 Home) 15IML05 Thin and Light Laptop', 'Intel Core i7 Processor (11th Gen)', '8 GB DDR4 RAM', '64 bit Windows 10 Operating System', '256 GB SSD', '39.62 cm (15.6 Inch) Display', '1 Year Onsite Warranty', '₹69,990', 4.5)\n",
      "(213, 'Lenovo IdeaPad 3 Core i3 10th Gen - (8 GB/1 TB HDD/Windows 10 Home) 15IML05 Thin and Light Laptop', 'Intel Core i7 Processor (11th Gen)', '8 GB DDR4 RAM', '64 bit Windows 10 Operating System', '1 TB HDD', '39.62 cm (15.6 inch) Display', '1 Year Onsite Warranty', '₹45,990', 4.0)\n",
      "(214, 'Lenovo IdeaPad 3 Core i3 10th Gen - (8 GB/1 TB HDD/Windows 10 Home) 15IML05 Thin and Light Laptop', 'Intel Core i7 Processor (11th Gen)', '8 GB DDR4 RAM', '64 bit Windows 10 Operating System', '512 GB SSD', '39.62 cm (15.6 Inch) Display', '1 Year Onsite Warranty', '₹63,990', 4.0)\n",
      "(215, 'Lenovo IdeaPad 3 Core i3 10th Gen - (8 GB/1 TB HDD/Windows 10 Home) 15IML05 Thin and Light Laptop', 'Intel Core i7 Processor (11th Gen)', '8 GB DDR4 RAM', '64 bit Windows 10 Operating System', '512 GB SSD', '38.1 cm (15 inch) Display', '1 Year Warranty Term', '₹58,990', 4.0)\n",
      "(216, 'Lenovo IdeaPad 3 Core i3 10th Gen - (8 GB/1 TB HDD/Windows 10 Home) 15IML05 Thin and Light Laptop', 'Intel Core i7 Processor (11th Gen)', '8 GB DDR4 RAM', '64 bit Windows 10 Operating System', '512 GB SSD', '39.62 cm (15.6 inch) Display', '1 Year Onsite Warranty', '₹55,990', 5.0)\n",
      "(217, 'Lenovo IdeaPad 3 Core i3 10th Gen - (8 GB/1 TB HDD/Windows 10 Home) 15IML05 Thin and Light Laptop', 'Intel Core i7 Processor (11th Gen)', '8 GB DDR4 RAM', '64 bit Windows 10 Operating System', '512 GB SSD', '35.56 cm (14 inch) Touchscreen Display', '1 Year International Travelers Warranty (ITW)', '₹94,990', 1.0)\n",
      "(218, 'Lenovo IdeaPad 3 Core i3 10th Gen - (8 GB/1 TB HDD/Windows 10 Home) 15IML05 Thin and Light Laptop', 'Intel Core i7 Processor (11th Gen)', '8 GB DDR4 RAM', '64 bit Windows 10 Operating System', '512 GB SSD', '39.62 cm (15.6 Inch) Display', '1 Year Onsite Warranty', '₹39,990', 4.4)\n",
      "(219, 'Lenovo IdeaPad 3 Core i3 10th Gen - (8 GB/1 TB HDD/Windows 10 Home) 15IML05 Thin and Light Laptop', 'Intel Core i7 Processor (11th Gen)', '8 GB DDR4 RAM', '64 bit Windows 10 Operating System', '1 TB HDD|256 GB SSD', '39.62 cm (15.6 inch) Display', '1 Year Onsite Warranty', '₹38,990', 4.0)\n",
      "(220, 'Lenovo IdeaPad 3 Core i3 10th Gen - (8 GB/1 TB HDD/Windows 10 Home) 15IML05 Thin and Light Laptop', 'Intel Core i7 Processor (11th Gen)', '8 GB DDR4 RAM', 'Windows 10 Operating System', '1 TB HDD', '39.62 cm (15.6 inch) Display', '1 Year Onsite Warranty', '₹36,990', 5.0)\n",
      "(221, 'Lenovo IdeaPad 3 Core i3 10th Gen - (8 GB/1 TB HDD/Windows 10 Home) 15IML05 Thin and Light Laptop', 'Intel Core i7 Processor (11th Gen)', '8 GB DDR4 RAM', '64 bit Windows 10 Operating System', '1 TB SSD', '35.56 cm (14 inch) Display', '1 Year International Travelers Warranty (ITW)', '₹41,990', 4.2)\n",
      "(222, 'Lenovo IdeaPad 3 Core i3 10th Gen - (8 GB/1 TB HDD/Windows 10 Home) 15IML05 Thin and Light Laptop', 'Intel Core i7 Processor (11th Gen)', '8 GB DDR4 RAM', '64 bit Windows 10 Operating System', '256 GB SSD', '39.62 cm (15.6 inch) Display', '1 Year Onsite Warranty', '₹52,990', 5.0)\n",
      "(223, 'Lenovo IdeaPad 3 Core i3 10th Gen - (8 GB/1 TB HDD/Windows 10 Home) 15IML05 Thin and Light Laptop', 'Intel Core i7 Processor (11th Gen)', '8 GB DDR4 RAM', '64 bit Windows 10 Operating System', '256 GB SSD', '35.56 cm (14 inch) Touchscreen Display', '1 Year Onsite Warranty', '₹99,990', 1.0)\n",
      "(224, 'Lenovo IdeaPad 3 Core i3 10th Gen - (8 GB/1 TB HDD/Windows 10 Home) 15IML05 Thin and Light Laptop', 'Intel Core i7 Processor (11th Gen)', '8 GB DDR4 RAM', '64 bit Windows 10 Operating System', '256 GB SSD', '39.62 cm (15.6 inch) Display', '1 Year Onsite Warranty', '₹54,990', 4.2)\n",
      "(225, 'Lenovo IdeaPad 3 Core i3 10th Gen - (8 GB/1 TB HDD/Windows 10 Home) 15IML05 Thin and Light Laptop', 'Intel Core i7 Processor (11th Gen)', '8 GB DDR4 RAM', '64 bit Windows 10 Operating System', '256 GB SSD', '39.62 cm (15.6 inch) Display', '1 Year Onsite Warranty', '₹34,990', 4.3)\n",
      "(226, 'Lenovo IdeaPad 3 Core i3 10th Gen - (8 GB/1 TB HDD/Windows 10 Home) 15IML05 Thin and Light Laptop', 'Intel Core i7 Processor (11th Gen)', '8 GB DDR4 RAM', '64 bit Windows 10 Operating System', '512 GB SSD', '39.62 cm (15.6 inch) Display', '1 Year International Travelers Warranty', '₹57,990', 4.4)\n",
      "(227, 'Lenovo IdeaPad 3 Core i3 10th Gen - (8 GB/1 TB HDD/Windows 10 Home) 15IML05 Thin and Light Laptop', 'Intel Core i7 Processor (11th Gen)', '8 GB DDR4 RAM', '64 bit Windows 10 Operating System', '512 GB SSD', '39.62 cm (15.6 inch) Display', '1 Year Onsite Warranty', '₹1,21,990', 4.4)\n",
      "(228, 'Lenovo IdeaPad 3 Core i3 10th Gen - (8 GB/1 TB HDD/Windows 10 Home) 15IML05 Thin and Light Laptop', 'Intel Core i7 Processor (11th Gen)', '8 GB DDR4 RAM', '64 bit Windows 10 Operating System', '512 GB SSD', '35.56 cm (14 inch) Display', '1 Year International Travelers Warranty (ITW)', '₹37,990', 4.3)\n",
      "(229, 'Lenovo IdeaPad 3 Core i3 10th Gen - (8 GB/1 TB HDD/Windows 10 Home) 15IML05 Thin and Light Laptop', 'Intel Core i7 Processor (11th Gen)', '8 GB DDR4 RAM', '64 bit Windows 10 Operating System', '256 GB SSD', '39.62 cm (15.6 inch) Display', '1 Year Onsite Warranty', '₹59,990', 4.3)\n",
      "(230, 'Lenovo IdeaPad 3 Core i3 10th Gen - (8 GB/1 TB HDD/Windows 10 Home) 15IML05 Thin and Light Laptop', 'Intel Core i7 Processor (11th Gen)', '8 GB DDR4 RAM', '64 bit Windows 10 Operating System', '512 GB SSD', '39.62 cm (15.6 inch) Display', '1 Year Onsite Warranty', '₹61,990', 4.4)\n",
      "(231, 'Lenovo IdeaPad 3 Core i3 10th Gen - (8 GB/1 TB HDD/Windows 10 Home) 15IML05 Thin and Light Laptop', 'Intel Core i7 Processor (11th Gen)', '8 GB DDR4 RAM', '64 bit Windows 10 Operating System', '1 TB SSD', '39.62 cm (15.6 inch) Display', '1 Year Onsite Warranty', '₹59,990', 4.6)\n",
      "(232, 'Lenovo IdeaPad 3 Core i3 10th Gen - (8 GB/1 TB HDD/Windows 10 Home) 15IML05 Thin and Light Laptop', 'Intel Core i7 Processor (11th Gen)', '8 GB DDR4 RAM', '64 bit Windows 10 Operating System', '1 TB HDD', '39.62 cm (15.6 inch) Display', '1 Year Onsite Warranty', '₹37,990', 4.5)\n",
      "(233, 'Lenovo IdeaPad 3 Core i3 10th Gen - (8 GB/1 TB HDD/Windows 10 Home) 15IML05 Thin and Light Laptop', 'Intel Core i7 Processor (11th Gen)', '8 GB DDR4 RAM', '64 bit Windows 10 Operating System', '512 GB SSD', '39.62 cm (15.6 inch) Display', '1 Year Onsite Warranty', '₹38,990', 4.3)\n",
      "(234, 'Lenovo IdeaPad 3 Core i3 10th Gen - (8 GB/1 TB HDD/Windows 10 Home) 15IML05 Thin and Light Laptop', 'Intel Core i7 Processor (11th Gen)', '8 GB DDR4 RAM', '64 bit Windows 10 Operating System', '512 GB SSD', '39.62 cm (15.6 inches) Display', '1 Year Onsite Warranty', '₹59,990', 4.6)\n",
      "(235, 'Lenovo IdeaPad 3 Core i3 10th Gen - (8 GB/1 TB HDD/Windows 10 Home) 15IML05 Thin and Light Laptop', 'Intel Core i7 Processor (11th Gen)', '8 GB DDR4 RAM', '64 bit Windows 10 Operating System', '512 GB SSD', '39.62 cm (15.6 inch) Display', '1 Year Onsite Warranty', '₹72,990', 4.5)\n",
      "(236, 'Lenovo IdeaPad 3 Core i3 10th Gen - (8 GB/1 TB HDD/Windows 10 Home) 15IML05 Thin and Light Laptop', 'Intel Core i7 Processor (11th Gen)', '8 GB DDR4 RAM', '64 bit Windows 10 Operating System', '256 GB SSD', '39.62 cm (15.6 Inch) Display', '1 Year Onsite Warranty', '₹69,990', 4.5)\n",
      "(237, 'Lenovo IdeaPad 3 Core i3 10th Gen - (8 GB/1 TB HDD/Windows 10 Home) 15IML05 Thin and Light Laptop', 'Intel Core i7 Processor (11th Gen)', '8 GB DDR4 RAM', '64 bit Windows 10 Operating System', '1 TB HDD', '39.62 cm (15.6 inch) Display', '1 Year Warranty Term', '₹45,990', 4.0)\n",
      "(238, 'Lenovo IdeaPad 3 Core i3 10th Gen - (8 GB/1 TB HDD/Windows 10 Home) 15IML05 Thin and Light Laptop', 'Intel Core i7 Processor (11th Gen)', '8 GB DDR4 RAM', '64 bit Windows 10 Operating System', '512 GB SSD', '39.62 cm (15.6 Inch) Display', '1 Year Onsite Warranty', '₹63,990', 4.5)\n",
      "(239, 'Lenovo IdeaPad 3 Core i3 10th Gen - (8 GB/1 TB HDD/Windows 10 Home) 15IML05 Thin and Light Laptop', 'Intel Core i7 Processor (11th Gen)', '8 GB DDR4 RAM', '64 bit Windows 10 Operating System', '512 GB SSD', '38.1 cm (15 inch) Display', '1 Year International Travelers Warranty (ITW)', '₹58,990', 4.4)\n",
      "(240, 'Lenovo IdeaPad 3 Core i3 10th Gen - (8 GB/1 TB HDD/Windows 10 Home) 15IML05 Thin and Light Laptop', 'Intel Core i7 Processor (11th Gen)', '8 GB DDR4 RAM', '64 bit Windows 10 Operating System', '512 GB SSD', '39.62 cm (15.6 inch) Display', '1 Year Onsite Warranty', '₹55,990', 4.3)\n",
      "(241, 'Lenovo IdeaPad 3 Core i3 10th Gen - (8 GB/1 TB HDD/Windows 10 Home) 15IML05 Thin and Light Laptop', 'Intel Core i7 Processor (11th Gen)', '8 GB DDR4 RAM', '64 bit Windows 10 Operating System', '512 GB SSD', '35.56 cm (14 inch) Touchscreen Display', '1 Year Onsite Warranty', '₹94,990', 4.2)\n",
      "(242, 'Lenovo IdeaPad 3 Core i3 10th Gen - (8 GB/1 TB HDD/Windows 10 Home) 15IML05 Thin and Light Laptop', 'Intel Core i7 Processor (11th Gen)', '8 GB DDR4 RAM', '64 bit Windows 10 Operating System', '512 GB SSD', '39.62 cm (15.6 Inch) Display', '1 Year Onsite Warranty', '₹39,990', 4.6)\n",
      "(243, 'Lenovo IdeaPad 3 Core i3 10th Gen - (8 GB/1 TB HDD/Windows 10 Home) 15IML05 Thin and Light Laptop', 'Intel Core i7 Processor (11th Gen)', '8 GB DDR4 RAM', '64 bit Windows 10 Operating System', '1 TB HDD|256 GB SSD', '39.62 cm (15.6 inch) Display', '1 Year International Travelers Warranty (ITW)', '₹38,990', 4.3)\n",
      "(244, 'Lenovo IdeaPad 3 Core i3 10th Gen - (8 GB/1 TB HDD/Windows 10 Home) 15IML05 Thin and Light Laptop', 'Intel Core i7 Processor (11th Gen)', '8 GB DDR4 RAM', 'Windows 10 Operating System', '1 TB HDD', '39.62 cm (15.6 inch) Display', '1 Year Onsite Warranty', '₹36,990', 4.4)\n",
      "(245, 'Lenovo IdeaPad 3 Core i3 10th Gen - (8 GB/1 TB HDD/Windows 10 Home) 15IML05 Thin and Light Laptop', 'Intel Core i7 Processor (11th Gen)', '8 GB DDR4 RAM', '64 bit Windows 10 Operating System', '1 TB SSD', '35.56 cm (14 inch) Display', '1 Year Onsite Warranty', '₹41,990', 4.5)\n",
      "(246, 'Lenovo IdeaPad 3 Core i3 10th Gen - (8 GB/1 TB HDD/Windows 10 Home) 15IML05 Thin and Light Laptop', 'Intel Core i7 Processor (11th Gen)', '8 GB DDR4 RAM', '64 bit Windows 10 Operating System', '256 GB SSD', '39.62 cm (15.6 inch) Display', '1 Year Onsite Warranty', '₹52,990', 4.3)\n",
      "(247, 'Lenovo IdeaPad 3 Core i3 10th Gen - (8 GB/1 TB HDD/Windows 10 Home) 15IML05 Thin and Light Laptop', 'Intel Core i7 Processor (11th Gen)', '8 GB DDR4 RAM', '64 bit Windows 10 Operating System', '256 GB SSD', '39.62 cm (15.6 inch) Display', '1 Year International Travelers Warranty', '₹1,21,990', 4.0)\n",
      "(248, 'Lenovo IdeaPad 3 Core i3 10th Gen - (8 GB/1 TB HDD/Windows 10 Home) 15IML05 Thin and Light Laptop', 'Intel Core i7 Processor (11th Gen)', '8 GB DDR4 RAM', '64 bit Windows 10 Operating System', '256 GB SSD', '39.62 cm (15.6 inch) Display', '1 Year Onsite Warranty', '₹54,990', 1.0)\n",
      "(249, 'Lenovo IdeaPad 3 Core i3 10th Gen - (8 GB/1 TB HDD/Windows 10 Home) 15IML05 Thin and Light Laptop', 'Intel Core i7 Processor (11th Gen)', '8 GB DDR4 RAM', '64 bit Windows 10 Operating System', '256 GB SSD', '39.62 cm (15.6 inch) Display', '1 Year Onsite Warranty', '₹34,990', 4.5)\n",
      "(250, 'Lenovo IdeaPad 3 Core i3 10th Gen - (8 GB/1 TB HDD/Windows 10 Home) 15IML05 Thin and Light Laptop', 'Intel Core i7 Processor (11th Gen)', '8 GB DDR4 RAM', '64 bit Windows 10 Operating System', '512 GB SSD', '39.62 cm (15.6 inch) Display', '1 Year Onsite Warranty', '₹57,990', 4.0)\n",
      "(251, 'Lenovo IdeaPad 3 Core i3 10th Gen - (8 GB/1 TB HDD/Windows 10 Home) 15IML05 Thin and Light Laptop', 'Intel Core i7 Processor (11th Gen)', '8 GB DDR4 RAM', '64 bit Windows 10 Operating System', '1 TB SSD', '35.56 cm (14 inch) Touchscreen Display', '1 Year Onsite Warranty', '₹99,990', 4.0)\n",
      "(252, 'Lenovo IdeaPad 3 Core i3 10th Gen - (8 GB/1 TB HDD/Windows 10 Home) 15IML05 Thin and Light Laptop', 'Intel Core i7 Processor (11th Gen)', '8 GB DDR4 RAM', '64 bit Windows 10 Operating System', '512 GB SSD', '35.56 cm (14 inch) Display', '1 Year International Travelers Warranty (ITW)', '₹37,990', 4.0)\n",
      "(253, 'Lenovo IdeaPad 3 Core i3 10th Gen - (8 GB/1 TB HDD/Windows 10 Home) 15IML05 Thin and Light Laptop', 'Intel Core i7 Processor (11th Gen)', '8 GB DDR4 RAM', '64 bit Windows 10 Operating System', '256 GB SSD', '39.62 cm (15.6 inch) Display', '1 Year Onsite Warranty', '₹59,990', 5.0)\n",
      "(254, 'Lenovo IdeaPad 3 Core i3 10th Gen - (8 GB/1 TB HDD/Windows 10 Home) 15IML05 Thin and Light Laptop', 'Intel Core i7 Processor (11th Gen)', '8 GB DDR4 RAM', '64 bit Windows 10 Operating System', '512 GB SSD', '39.62 cm (15.6 inch) Display', '1 Year Onsite Warranty', '₹61,990', 1.0)\n",
      "(255, 'Lenovo IdeaPad 3 Core i3 10th Gen - (8 GB/1 TB HDD/Windows 10 Home) 15IML05 Thin and Light Laptop', 'Intel Core i7 Processor (11th Gen)', '8 GB DDR4 RAM', '64 bit Windows 10 Operating System', '512 GB SSD', '39.62 cm (15.6 inch) Display', '1 Year Onsite Warranty', '₹59,990', 4.4)\n",
      "(256, 'Lenovo IdeaPad 3 Core i3 10th Gen - (8 GB/1 TB HDD/Windows 10 Home) 15IML05 Thin and Light Laptop', 'Intel Core i7 Processor (11th Gen)', '8 GB DDR4 RAM', '64 bit Windows 10 Operating System', '1 TB HDD', '39.62 cm (15.6 inch) Display', '1 Year Onsite Warranty', '₹37,990', 4.0)\n",
      "(257, 'Lenovo IdeaPad 3 Core i3 10th Gen - (8 GB/1 TB HDD/Windows 10 Home) 15IML05 Thin and Light Laptop', 'Intel Core i7 Processor (11th Gen)', '8 GB DDR4 RAM', '64 bit Windows 10 Operating System', '512 GB SSD', '39.62 cm (15.6 inch) Display', '1 Year Onsite Warranty', '₹38,990', 5.0)\n",
      "(258, 'Lenovo IdeaPad 3 Core i3 10th Gen - (8 GB/1 TB HDD/Windows 10 Home) 15IML05 Thin and Light Laptop', 'Intel Core i7 Processor (11th Gen)', '8 GB DDR4 RAM', '64 bit Windows 10 Operating System', '512 GB SSD', '39.62 cm (15.6 inches) Display', '1 Year Onsite Warranty', '₹59,990', 4.2)\n",
      "(259, 'Lenovo IdeaPad 3 Core i3 10th Gen - (8 GB/1 TB HDD/Windows 10 Home) 15IML05 Thin and Light Laptop', 'Intel Core i7 Processor (11th Gen)', '8 GB DDR4 RAM', '64 bit Windows 10 Operating System', '512 GB SSD', '39.62 cm (15.6 inch) Display', '1 Year Warranty Term', '₹72,990', 5.0)\n",
      "(260, 'Lenovo IdeaPad 3 Core i3 10th Gen - (8 GB/1 TB HDD/Windows 10 Home) 15IML05 Thin and Light Laptop', 'Intel Core i7 Processor (11th Gen)', '8 GB DDR4 RAM', '64 bit Windows 10 Operating System', '256 GB SSD', '39.62 cm (15.6 Inch) Display', '1 Year Onsite Warranty', '₹69,990', 1.0)\n",
      "(261, 'Lenovo IdeaPad 3 Core i3 10th Gen - (8 GB/1 TB HDD/Windows 10 Home) 15IML05 Thin and Light Laptop', 'Intel Core i7 Processor (11th Gen)', '8 GB DDR4 RAM', '64 bit Windows 10 Operating System', '1 TB HDD', '39.62 cm (15.6 inch) Display', '1 Year International Travelers Warranty (ITW)', '₹45,990', 4.2)\n",
      "(262, 'Lenovo IdeaPad 3 Core i3 10th Gen - (8 GB/1 TB HDD/Windows 10 Home) 15IML05 Thin and Light Laptop', 'Intel Core i7 Processor (11th Gen)', '8 GB DDR4 RAM', '64 bit Windows 10 Operating System', '512 GB SSD', '39.62 cm (15.6 Inch) Display', '2 Year Warranty Term', '₹63,990', 4.3)\n",
      "(263, 'Lenovo IdeaPad 3 Core i3 10th Gen - (8 GB/1 TB HDD/Windows 10 Home) 15IML05 Thin and Light Laptop', 'Intel Core i7 Processor (11th Gen)', '8 GB DDR4 RAM', '64 bit Windows 10 Operating System', '512 GB SSD', '39.62 cm (15.6 inch) Display', '1 Year Onsite Warranty', '₹75,990', 4.4)\n",
      "(264, 'Lenovo IdeaPad 3 Core i3 10th Gen - (8 GB/1 TB HDD/Windows 10 Home) 15IML05 Thin and Light Laptop', 'Intel Core i7 Processor (11th Gen)', '8 GB DDR4 RAM', '64 bit Windows 10 Operating System', '512 GB SSD', '39.62 cm (15.6 inch) Display', '1 Year Onsite Warranty', '₹55,990', 4.4)\n",
      "(265, 'Lenovo IdeaPad 3 Core i3 10th Gen - (8 GB/1 TB HDD/Windows 10 Home) 15IML05 Thin and Light Laptop', 'Intel Core i7 Processor (11th Gen)', '8 GB DDR4 RAM', '64 bit Windows 10 Operating System', '512 GB SSD', '35.56 cm (14 inch) Touchscreen Display', '1 Year International Travelers Warranty (ITW)', '₹94,990', 4.3)\n",
      "(266, 'Lenovo IdeaPad 3 Core i3 10th Gen - (8 GB/1 TB HDD/Windows 10 Home) 15IML05 Thin and Light Laptop', 'Intel Core i7 Processor (11th Gen)', '8 GB DDR4 RAM', '64 bit Windows 10 Operating System', '512 GB SSD', '39.62 cm (15.6 Inch) Display', '1 Year Onsite Warranty', '₹39,990', 4.3)\n",
      "(267, 'Lenovo IdeaPad 3 Core i3 10th Gen - (8 GB/1 TB HDD/Windows 10 Home) 15IML05 Thin and Light Laptop', 'Intel Core i7 Processor (11th Gen)', '8 GB DDR4 RAM', '64 bit Windows 10 Operating System', '1 TB HDD|256 GB SSD', '39.62 cm (15.6 inch) Display', '1 Year Onsite Warranty', '₹38,990', 4.4)\n",
      "(268, 'Lenovo IdeaPad 3 Core i3 10th Gen - (8 GB/1 TB HDD/Windows 10 Home) 15IML05 Thin and Light Laptop', 'Intel Core i7 Processor (11th Gen)', '8 GB DDR4 RAM', 'Windows 10 Operating System', '1 TB HDD', '39.62 cm (15.6 inch) Display', '1 Year Onsite Warranty', '₹36,990', 4.6)\n",
      "(269, 'Lenovo IdeaPad 3 Core i3 10th Gen - (8 GB/1 TB HDD/Windows 10 Home) 15IML05 Thin and Light Laptop', 'Intel Core i7 Processor (11th Gen)', '8 GB DDR4 RAM', '64 bit Windows 10 Operating System', '1 TB SSD', '39.62 cm (15.6 inch) Display', '1 Year International Travelers Warranty', '₹52,990', 4.5)\n",
      "(270, 'Lenovo IdeaPad 3 Core i3 10th Gen - (8 GB/1 TB HDD/Windows 10 Home) 15IML05 Thin and Light Laptop', 'Intel Core i7 Processor (11th Gen)', '8 GB DDR4 RAM', '64 bit Windows 10 Operating System', '256 GB SSD', '35.56 cm (14 inch) Display', '1 Year Onsite Warranty', '₹41,990', 4.3)\n",
      "(271, 'Lenovo IdeaPad 3 Core i3 10th Gen - (8 GB/1 TB HDD/Windows 10 Home) 15IML05 Thin and Light Laptop', 'Intel Core i7 Processor (11th Gen)', '8 GB DDR4 RAM', '64 bit Windows 10 Operating System', '256 GB SSD', '35.56 cm (14 inch) Touchscreen Display', '1 Year Onsite Warranty', '₹99,990', 4.6)\n",
      "(272, 'Lenovo IdeaPad 3 Core i3 10th Gen - (8 GB/1 TB HDD/Windows 10 Home) 15IML05 Thin and Light Laptop', 'Intel Core i7 Processor (11th Gen)', '8 GB DDR4 RAM', '64 bit Windows 10 Operating System', '256 GB SSD', '39.62 cm (15.6 inch) Display', '1 Year Onsite Warranty', '₹34,990', 4.5)\n",
      "(273, 'Lenovo IdeaPad 3 Core i3 10th Gen - (8 GB/1 TB HDD/Windows 10 Home) 15IML05 Thin and Light Laptop', 'Intel Core i7 Processor (11th Gen)', '8 GB DDR4 RAM', '64 bit Windows 10 Operating System', '512 GB SSD', '39.62 cm (15.6 inch) Display', '1 Year Onsite Warranty', '₹57,990', 4.5)\n",
      "(274, 'Lenovo IdeaPad 3 Core i3 10th Gen - (8 GB/1 TB HDD/Windows 10 Home) 15IML05 Thin and Light Laptop', 'Intel Core i7 Processor (11th Gen)', '8 GB DDR4 RAM', '64 bit Windows 10 Operating System', '256 GB SSD', '39.62 cm (15.6 inch) Display', '1 Year International Travelers Warranty (ITW)', '₹54,990', 4.0)\n",
      "(275, 'Lenovo IdeaPad 3 Core i3 10th Gen - (8 GB/1 TB HDD/Windows 10 Home) 15IML05 Thin and Light Laptop', 'Intel Core i7 Processor (11th Gen)', '8 GB DDR4 RAM', '64 bit Windows 10 Operating System', '512 GB SSD', '39.62 cm (15.6 inch) Display', '1 Year Onsite Warranty', '₹1,21,990', 4.5)\n",
      "(276, 'Lenovo IdeaPad 3 Core i3 10th Gen - (8 GB/1 TB HDD/Windows 10 Home) 15IML05 Thin and Light Laptop', 'Intel Core i7 Processor (11th Gen)', '8 GB DDR4 RAM', '64 bit Windows 10 Operating System', '256 GB SSD', '39.62 cm (15.6 inch) Display', '1 Year Onsite Warranty', '₹59,990', 4.4)\n",
      "(277, 'Lenovo IdeaPad 3 Core i3 10th Gen - (8 GB/1 TB HDD/Windows 10 Home) 15IML05 Thin and Light Laptop', 'Intel Core i7 Processor (11th Gen)', '8 GB DDR4 RAM', '64 bit Windows 10 Operating System', '512 GB SSD', '35.56 cm (14 inch) Display', '1 Year Onsite Warranty', '₹37,990', 4.3)\n",
      "(278, 'Lenovo IdeaPad 3 Core i3 10th Gen - (8 GB/1 TB HDD/Windows 10 Home) 15IML05 Thin and Light Laptop', 'Intel Core i7 Processor (11th Gen)', '8 GB DDR4 RAM', '64 bit Windows 10 Operating System', '512 GB SSD', '39.62 cm (15.6 inch) Display', '1 Year Onsite Warranty', '₹61,990', 4.2)\n",
      "(279, 'Lenovo IdeaPad 3 Core i3 10th Gen - (8 GB/1 TB HDD/Windows 10 Home) 15IML05 Thin and Light Laptop', 'Intel Core i7 Processor (11th Gen)', '8 GB DDR4 RAM', '64 bit Windows 10 Operating System', '1 TB SSD', '39.62 cm (15.6 inch) Display', '1 Year Onsite Warranty', '₹59,990', 4.6)\n",
      "(280, 'Lenovo IdeaPad 3 Core i3 10th Gen - (8 GB/1 TB HDD/Windows 10 Home) 15IML05 Thin and Light Laptop', 'Intel Core i7 Processor (11th Gen)', '8 GB DDR4 RAM', '64 bit Windows 10 Operating System', '512 GB SSD', '39.62 cm (15.6 inch) Display', '1 Year Onsite Warranty', '₹37,990', 4.3)\n",
      "(281, 'Lenovo IdeaPad 3 Core i3 10th Gen - (8 GB/1 TB HDD/Windows 10 Home) 15IML05 Thin and Light Laptop', 'Intel Core i7 Processor (11th Gen)', '8 GB DDR4 RAM', '64 bit Windows 10 Operating System', '1 TB HDD', '39.62 cm (15.6 inch) Display', '1 Year Warranty Term', '₹38,990', 4.4)\n",
      "(282, 'Lenovo IdeaPad 3 Core i3 10th Gen - (8 GB/1 TB HDD/Windows 10 Home) 15IML05 Thin and Light Laptop', 'Intel Core i7 Processor (11th Gen)', '8 GB DDR4 RAM', '64 bit Windows 10 Operating System', '512 GB SSD', '39.62 cm (15.6 inches) Display', '1 Year Onsite Warranty', '₹59,990', 4.5)\n",
      "(283, 'Lenovo IdeaPad 3 Core i3 10th Gen - (8 GB/1 TB HDD/Windows 10 Home) 15IML05 Thin and Light Laptop', 'Intel Core i7 Processor (11th Gen)', '8 GB DDR4 RAM', '64 bit Windows 10 Operating System', '512 GB SSD', '39.62 cm (15.6 inch) Display', '1 Year International Travelers Warranty (ITW)', '₹72,990', 4.3)\n",
      "(284, 'Lenovo IdeaPad 3 Core i3 10th Gen - (8 GB/1 TB HDD/Windows 10 Home) 15IML05 Thin and Light Laptop', 'Intel Core i7 Processor (11th Gen)', '8 GB DDR4 RAM', '64 bit Windows 10 Operating System', '256 GB SSD', '39.62 cm (15.6 Inch) Display', '2 Year Warranty Term', '₹69,990', 4.0)\n",
      "(285, 'Lenovo IdeaPad 3 Core i3 10th Gen - (8 GB/1 TB HDD/Windows 10 Home) 15IML05 Thin and Light Laptop', 'Intel Core i7 Processor (11th Gen)', '8 GB DDR4 RAM', '64 bit Windows 10 Operating System', '1 TB HDD', '39.62 cm (15.6 inch) Display', '1 Year Onsite Warranty', '₹45,990', 1.0)\n",
      "(286, 'Lenovo IdeaPad 3 Core i3 10th Gen - (8 GB/1 TB HDD/Windows 10 Home) 15IML05 Thin and Light Laptop', 'Intel Core i7 Processor (11th Gen)', '8 GB DDR4 RAM', '64 bit Windows 10 Operating System', '512 GB SSD', '39.62 cm (15.6 inch) Display', '1 Year Onsite Warranty', '₹76,990', 4.5)\n",
      "(287, 'Lenovo IdeaPad 3 Core i3 10th Gen - (8 GB/1 TB HDD/Windows 10 Home) 15IML05 Thin and Light Laptop', 'Intel Core i7 Processor (11th Gen)', '8 GB DDR4 RAM', '64 bit Windows 10 Operating System', '512 GB SSD', '38.1 cm (15 inch) Display', '1 Year International Travelers Warranty (ITW)', '₹58,990', 4.0)\n",
      "(288, 'Lenovo IdeaPad 3 Core i3 10th Gen - (8 GB/1 TB HDD/Windows 10 Home) 15IML05 Thin and Light Laptop', 'Intel Core i7 Processor (11th Gen)', '8 GB DDR4 RAM', '64 bit Windows 10 Operating System', '512 GB SSD', '39.62 cm (15.6 inch) Display', '1 Year Onsite Warranty', '₹55,990', 4.0)\n",
      "(289, 'Lenovo IdeaPad 3 Core i3 10th Gen - (8 GB/1 TB HDD/Windows 10 Home) 15IML05 Thin and Light Laptop', 'Intel Core i7 Processor (11th Gen)', '8 GB DDR4 RAM', '64 bit Windows 10 Operating System', '512 GB SSD', '35.56 cm (14 inch) Touchscreen Display', '1 Year Onsite Warranty', '₹94,990', 4.0)\n",
      "(290, 'Lenovo IdeaPad 3 Core i3 10th Gen - (8 GB/1 TB HDD/Windows 10 Home) 15IML05 Thin and Light Laptop', 'Intel Core i7 Processor (11th Gen)', '8 GB DDR4 RAM', '64 bit Windows 10 Operating System', '512 GB SSD', '39.62 cm (15.6 Inch) Display', '1 Year Onsite Warranty', '₹39,990', 5.0)\n",
      "(291, 'Lenovo IdeaPad 3 Core i3 10th Gen - (8 GB/1 TB HDD/Windows 10 Home) 15IML05 Thin and Light Laptop', 'Intel Core i7 Processor (11th Gen)', '8 GB DDR4 RAM', '64 bit Windows 10 Operating System', 'PCI-e SSD (NVMe) ready,Cooler Boost,Matrix Display (Extend),Hi-Res Audio,Nahimic 3,144Hz Panel,Thin Bezel', '39.62 cm (15.6 inch) Display', '1 Year International Travelers Warranty', '₹38,990', 1.0)\n",
      "(292, 'Lenovo IdeaPad 3 Core i3 10th Gen - (8 GB/1 TB HDD/Windows 10 Home) 15IML05 Thin and Light Laptop', 'Intel Core i7 Processor (11th Gen)', '8 GB DDR4 RAM', 'Windows 10 Operating System', '1 TB HDD|256 GB SSD', '39.62 cm (15.6 inch) Display', '1 Year Onsite Warranty', '₹36,990', 4.4)\n",
      "(293, 'Lenovo IdeaPad 3 Core i3 10th Gen - (8 GB/1 TB HDD/Windows 10 Home) 15IML05 Thin and Light Laptop', 'Intel Core i7 Processor (11th Gen)', '8 GB DDR4 RAM', '64 bit Windows 10 Operating System', '1 TB HDD', '39.62 cm (15.6 inch) Display', '1 Year Onsite Warranty', '₹52,990', 4.0)\n",
      "(294, 'Lenovo IdeaPad 3 Core i3 10th Gen - (8 GB/1 TB HDD/Windows 10 Home) 15IML05 Thin and Light Laptop', 'Intel Core i7 Processor (11th Gen)', '8 GB DDR4 RAM', '64 bit Windows 10 Operating System', '1 TB SSD', '35.56 cm (14 inch) Display', '1 Year Onsite Warranty', '₹41,990', 5.0)\n",
      "(295, 'Lenovo IdeaPad 3 Core i3 10th Gen - (8 GB/1 TB HDD/Windows 10 Home) 15IML05 Thin and Light Laptop', 'Intel Core i7 Processor (11th Gen)', '8 GB DDR4 RAM', '64 bit Windows 10 Operating System', '256 GB SSD', '35.56 cm (14 inch) Touchscreen Display', '1 Year Onsite Warranty', '₹99,990', 4.2)\n",
      "(296, 'Lenovo IdeaPad 3 Core i3 10th Gen - (8 GB/1 TB HDD/Windows 10 Home) 15IML05 Thin and Light Laptop', 'Intel Core i7 Processor (11th Gen)', '8 GB DDR4 RAM', '64 bit Windows 10 Operating System', '256 GB SSD', '39.62 cm (15.6 inch) Display', '1 Year International Travelers Warranty (ITW)', '₹34,990', 5.0)\n",
      "(297, 'Lenovo IdeaPad 3 Core i3 10th Gen - (8 GB/1 TB HDD/Windows 10 Home) 15IML05 Thin and Light Laptop', 'Intel Core i7 Processor (11th Gen)', '8 GB DDR4 RAM', '64 bit Windows 10 Operating System', '256 GB SSD', '39.62 cm (15.6 inch) Display', '1 Year Onsite Warranty', '₹57,990', 1.0)\n",
      "(298, 'Lenovo IdeaPad 3 Core i3 10th Gen - (8 GB/1 TB HDD/Windows 10 Home) 15IML05 Thin and Light Laptop', 'Intel Core i7 Processor (11th Gen)', '8 GB DDR4 RAM', '64 bit Windows 10 Operating System', '512 GB SSD', '39.62 cm (15.6 inch) Display', '1 Year Onsite Warranty', '₹54,990', 4.2)\n",
      "(299, 'Lenovo IdeaPad 3 Core i3 10th Gen - (8 GB/1 TB HDD/Windows 10 Home) 15IML05 Thin and Light Laptop', 'Intel Core i7 Processor (11th Gen)', '8 GB DDR4 RAM', '64 bit Windows 10 Operating System', '256 GB SSD', '39.62 cm (15.6 inch) Display', '1 Year Onsite Warranty', '₹1,21,990', 4.3)\n",
      "(300, 'Lenovo IdeaPad 3 Core i3 10th Gen - (8 GB/1 TB HDD/Windows 10 Home) 15IML05 Thin and Light Laptop', 'Intel Core i7 Processor (11th Gen)', '8 GB DDR4 RAM', '64 bit Windows 10 Operating System', '512 GB SSD', '39.62 cm (15.6 inch) Display', '1 Year Onsite Warranty', '₹59,990', 4.4)\n",
      "(301, 'Lenovo IdeaPad 3 Core i3 10th Gen - (8 GB/1 TB HDD/Windows 10 Home) 15IML05 Thin and Light Laptop', 'Intel Core i7 Processor (11th Gen)', '8 GB DDR4 RAM', '64 bit Windows 10 Operating System', '256 GB SSD', '35.56 cm (14 inch) Display', '1 Year Onsite Warranty', '₹37,990', 4.4)\n",
      "(302, 'Lenovo IdeaPad 3 Core i3 10th Gen - (8 GB/1 TB HDD/Windows 10 Home) 15IML05 Thin and Light Laptop', 'Intel Core i7 Processor (11th Gen)', '8 GB DDR4 RAM', '64 bit Windows 10 Operating System', '512 GB SSD', '39.62 cm (15.6 inch) Display', '1 Year Onsite Warranty', '₹61,990', 4.3)\n",
      "(303, 'Lenovo IdeaPad 3 Core i3 10th Gen - (8 GB/1 TB HDD/Windows 10 Home) 15IML05 Thin and Light Laptop', 'Intel Core i7 Processor (11th Gen)', '8 GB DDR4 RAM', '64 bit Windows 10 Operating System', '512 GB SSD', '39.62 cm (15.6 inch) Display', '1 Year Warranty Term', '₹59,990', 4.3)\n",
      "(304, 'Lenovo IdeaPad 3 Core i3 10th Gen - (8 GB/1 TB HDD/Windows 10 Home) 15IML05 Thin and Light Laptop', 'Intel Core i7 Processor (11th Gen)', '8 GB DDR4 RAM', '64 bit Windows 10 Operating System', '1 TB SSD', '39.62 cm (15.6 inch) Display', '1 Year Onsite Warranty', '₹37,990', 4.4)\n",
      "(305, 'Lenovo IdeaPad 3 Core i3 10th Gen - (8 GB/1 TB HDD/Windows 10 Home) 15IML05 Thin and Light Laptop', 'Intel Core i7 Processor (11th Gen)', '8 GB DDR4 RAM', '64 bit Windows 10 Operating System', '512 GB SSD', '39.62 cm (15.6 inch) Display', '1 Year International Travelers Warranty (ITW)', '₹38,990', 4.6)\n",
      "(306, 'Lenovo IdeaPad 3 Core i3 10th Gen - (8 GB/1 TB HDD/Windows 10 Home) 15IML05 Thin and Light Laptop', 'Intel Core i7 Processor (11th Gen)', '8 GB DDR4 RAM', '64 bit Windows 10 Operating System', '1 TB HDD', '39.62 cm (15.6 inches) Display', '2 Year Warranty Term', '₹59,990', 4.5)\n",
      "(307, 'Lenovo IdeaPad 3 Core i3 10th Gen - (8 GB/1 TB HDD/Windows 10 Home) 15IML05 Thin and Light Laptop', 'Intel Core i7 Processor (11th Gen)', '8 GB DDR4 RAM', '64 bit Windows 10 Operating System', '512 GB SSD', '39.62 cm (15.6 inch) Display', '1 Year Onsite Warranty', '₹72,990', 4.3)\n",
      "(308, 'Lenovo IdeaPad 3 Core i3 10th Gen - (8 GB/1 TB HDD/Windows 10 Home) 15IML05 Thin and Light Laptop', 'Intel Core i7 Processor (11th Gen)', '8 GB DDR4 RAM', '64 bit Windows 10 Operating System', '512 GB SSD', '39.62 cm (15.6 Inch) Display', '1 Year Onsite Warranty', '₹69,990', 4.6)\n",
      "(309, 'Lenovo IdeaPad 3 Core i3 10th Gen - (8 GB/1 TB HDD/Windows 10 Home) 15IML05 Thin and Light Laptop', 'Intel Core i7 Processor (11th Gen)', '8 GB DDR4 RAM', '64 bit Windows 10 Operating System', '256 GB SSD', '39.62 cm (15.6 inch) Display', '1 Year International Travelers Warranty (ITW)', '₹45,990', 4.5)\n",
      "(310, 'Lenovo IdeaPad 3 Core i3 10th Gen - (8 GB/1 TB HDD/Windows 10 Home) 15IML05 Thin and Light Laptop', 'Intel Core i7 Processor (11th Gen)', '8 GB DDR4 RAM', '64 bit Windows 10 Operating System', '1 TB HDD', '39.62 cm (15.6 inch) Display', '1 Year Onsite Warranty', '₹76,990', 4.0)\n",
      "(311, 'Lenovo IdeaPad 3 Core i3 10th Gen - (8 GB/1 TB HDD/Windows 10 Home) 15IML05 Thin and Light Laptop', 'Intel Core i7 Processor (11th Gen)', '8 GB DDR4 RAM', '64 bit Windows 10 Operating System', '512 GB SSD', '38.1 cm (15 inch) Display', '1 Year Onsite Warranty', '₹58,990', 4.5)\n",
      "(312, 'Lenovo IdeaPad 3 Core i3 10th Gen - (8 GB/1 TB HDD/Windows 10 Home) 15IML05 Thin and Light Laptop', 'Intel Core i7 Processor (11th Gen)', '8 GB DDR4 RAM', '64 bit Windows 10 Operating System', '512 GB SSD', '39.62 cm (15.6 inch) Display', '1 Year Onsite Warranty', '₹55,990', 4.5)\n",
      "(313, 'Lenovo IdeaPad 3 Core i3 10th Gen - (8 GB/1 TB HDD/Windows 10 Home) 15IML05 Thin and Light Laptop', 'Intel Core i7 Processor (11th Gen)', '8 GB DDR4 RAM', '64 bit Windows 10 Operating System', '512 GB SSD', '35.56 cm (14 inch) Touchscreen Display', '1 Year International Travelers Warranty', '₹94,990', 4.4)\n",
      "(314, 'Lenovo IdeaPad 3 Core i3 10th Gen - (8 GB/1 TB HDD/Windows 10 Home) 15IML05 Thin and Light Laptop', 'Intel Core i7 Processor (11th Gen)', '8 GB DDR4 RAM', '64 bit Windows 10 Operating System', '512 GB SSD', '39.62 cm (15.6 Inch) Display', '1 Year Onsite Warranty', '₹39,990', 4.3)\n",
      "(315, 'Lenovo IdeaPad 3 Core i3 10th Gen - (8 GB/1 TB HDD/Windows 10 Home) 15IML05 Thin and Light Laptop', 'Intel Core i7 Processor (11th Gen)', '8 GB DDR4 RAM', '64 bit Windows 10 Operating System', '512 GB SSD', '39.62 cm (15.6 inch) Display', '1 Year Onsite Warranty', '₹38,990', 4.2)\n",
      "(316, 'Lenovo IdeaPad 3 Core i3 10th Gen - (8 GB/1 TB HDD/Windows 10 Home) 15IML05 Thin and Light Laptop', 'Intel Core i7 Processor (11th Gen)', '8 GB DDR4 RAM', 'Windows 10 Operating System', 'PCI-e SSD (NVMe) ready,Cooler Boost,Matrix Display (Extend),Hi-Res Audio,Nahimic 3,144Hz Panel,Thin Bezel', '39.62 cm (15.6 inch) Display', '1 Year Onsite Warranty', '₹36,990', 4.3)\n",
      "(317, 'Lenovo IdeaPad 3 Core i3 10th Gen - (8 GB/1 TB HDD/Windows 10 Home) 15IML05 Thin and Light Laptop', 'Intel Core i7 Processor (11th Gen)', '8 GB DDR4 RAM', '64 bit Windows 10 Operating System', '1 TB HDD|256 GB SSD', '39.62 cm (15.6 inch) Display', '1 Year Onsite Warranty', '₹52,990', 4.6)\n",
      "(318, 'Lenovo IdeaPad 3 Core i3 10th Gen - (8 GB/1 TB HDD/Windows 10 Home) 15IML05 Thin and Light Laptop', 'Intel Core i7 Processor (11th Gen)', '8 GB DDR4 RAM', '64 bit Windows 10 Operating System', '1 TB HDD', '35.56 cm (14 inch) Display', '1 Year International Travelers Warranty (ITW)', '₹41,990', 4.5)\n",
      "(319, 'Lenovo IdeaPad 3 Core i3 10th Gen - (8 GB/1 TB HDD/Windows 10 Home) 15IML05 Thin and Light Laptop', 'Intel Core i7 Processor (11th Gen)', '8 GB DDR4 RAM', '64 bit Windows 10 Operating System', '1 TB SSD', '39.62 cm (15.6 inch) Display', '1 Year Onsite Warranty', '₹1,21,990', 4.4)\n",
      "(320, 'Lenovo IdeaPad 3 Core i3 10th Gen - (8 GB/1 TB HDD/Windows 10 Home) 15IML05 Thin and Light Laptop', 'Intel Core i7 Processor (11th Gen)', '8 GB DDR4 RAM', '64 bit Windows 10 Operating System', '256 GB SSD', '39.62 cm (15.6 inch) Display', '1 Year Onsite Warranty', '₹34,990', 4.3)\n",
      "(321, 'Lenovo IdeaPad 3 Core i3 10th Gen - (8 GB/1 TB HDD/Windows 10 Home) 15IML05 Thin and Light Laptop', 'Intel Core i7 Processor (11th Gen)', '8 GB DDR4 RAM', '64 bit Windows 10 Operating System', '256 GB SSD', '39.62 cm (15.6 inch) Display', '1 Year Onsite Warranty', '₹57,990', 4.0)\n",
      "(322, 'Lenovo IdeaPad 3 Core i3 10th Gen - (8 GB/1 TB HDD/Windows 10 Home) 15IML05 Thin and Light Laptop', 'Intel Core i7 Processor (11th Gen)', '8 GB DDR4 RAM', '64 bit Windows 10 Operating System', '256 GB SSD', '39.62 cm (15.6 inch) Display', '1 Year Onsite Warranty', '₹54,990', 1.0)\n",
      "(323, 'Lenovo IdeaPad 3 Core i3 10th Gen - (8 GB/1 TB HDD/Windows 10 Home) 15IML05 Thin and Light Laptop', 'Intel Core i7 Processor (11th Gen)', '8 GB DDR4 RAM', '64 bit Windows 10 Operating System', '512 GB SSD', '35.56 cm (14 inch) Touchscreen Display', '1 Year Onsite Warranty', '₹99,990', 4.5)\n",
      "(324, 'Lenovo IdeaPad 3 Core i3 10th Gen - (8 GB/1 TB HDD/Windows 10 Home) 15IML05 Thin and Light Laptop', 'Intel Core i7 Processor (11th Gen)', '8 GB DDR4 RAM', '64 bit Windows 10 Operating System', '256 GB SSD', '39.62 cm (15.6 inch) Display', '1 Year Onsite Warranty', '₹59,990', 4.0)\n",
      "(325, 'Lenovo IdeaPad 3 Core i3 10th Gen - (8 GB/1 TB HDD/Windows 10 Home) 15IML05 Thin and Light Laptop', 'Intel Core i7 Processor (11th Gen)', '8 GB DDR4 RAM', '64 bit Windows 10 Operating System', '1 TB SSD', '35.56 cm (14 inch) Display', '1 Year Warranty Term', '₹37,990', 4.0)\n",
      "(326, 'Lenovo IdeaPad 3 Core i3 10th Gen - (8 GB/1 TB HDD/Windows 10 Home) 15IML05 Thin and Light Laptop', 'Intel Core i7 Processor (11th Gen)', '8 GB DDR4 RAM', '64 bit Windows 10 Operating System', '256 GB SSD', '39.62 cm (15.6 inch) Display', '1 Year Onsite Warranty', '₹61,990', 4.0)\n",
      "(327, 'Lenovo IdeaPad 3 Core i3 10th Gen - (8 GB/1 TB HDD/Windows 10 Home) 15IML05 Thin and Light Laptop', 'Intel Core i7 Processor (11th Gen)', '8 GB DDR4 RAM', '64 bit Windows 10 Operating System', '512 GB SSD', '39.62 cm (15.6 inch) Display', '1 Year International Travelers Warranty (ITW)', '₹59,990', 5.0)\n",
      "(328, 'Lenovo IdeaPad 3 Core i3 10th Gen - (8 GB/1 TB HDD/Windows 10 Home) 15IML05 Thin and Light Laptop', 'Intel Core i7 Processor (11th Gen)', '8 GB DDR4 RAM', '64 bit Windows 10 Operating System', '512 GB SSD', '39.62 cm (15.6 inch) Display', '2 Year Warranty Term', '₹37,990', 1.0)\n",
      "(329, 'Lenovo IdeaPad 3 Core i3 10th Gen - (8 GB/1 TB HDD/Windows 10 Home) 15IML05 Thin and Light Laptop', 'Intel Core i7 Processor (11th Gen)', '8 GB DDR4 RAM', '64 bit Windows 10 Operating System', '512 GB SSD', '39.62 cm (15.6 inch) Display', '1 Year Onsite Warranty', '₹38,990', 4.4)\n",
      "(330, 'Lenovo IdeaPad 3 Core i3 10th Gen - (8 GB/1 TB HDD/Windows 10 Home) 15IML05 Thin and Light Laptop', 'Intel Core i7 Processor (11th Gen)', '8 GB DDR4 RAM', '64 bit Windows 10 Operating System', '512 GB SSD', '39.62 cm (15.6 inches) Display', '1 Year Onsite Warranty', '₹59,990', 4.0)\n",
      "(331, 'Lenovo IdeaPad 3 Core i3 10th Gen - (8 GB/1 TB HDD/Windows 10 Home) 15IML05 Thin and Light Laptop', 'Intel Core i7 Processor (11th Gen)', '8 GB DDR4 RAM', '64 bit Windows 10 Operating System', '1 TB HDD', '39.62 cm (15.6 inch) Display', '1 Year International Travelers Warranty (ITW)', '₹72,990', 5.0)\n",
      "(332, 'Lenovo IdeaPad 3 Core i3 10th Gen - (8 GB/1 TB HDD/Windows 10 Home) 15IML05 Thin and Light Laptop', 'Intel Core i7 Processor (11th Gen)', '8 GB DDR4 RAM', '64 bit Windows 10 Operating System', '512 GB SSD', '39.62 cm (15.6 Inch) Display', '1 Year Onsite Warranty', '₹69,990', 4.2)\n",
      "(333, 'Lenovo IdeaPad 3 Core i3 10th Gen - (8 GB/1 TB HDD/Windows 10 Home) 15IML05 Thin and Light Laptop', 'Intel Core i7 Processor (11th Gen)', '8 GB DDR4 RAM', '64 bit Windows 10 Operating System', '512 GB SSD', '39.62 cm (15.6 inch) Display', '1 Year Onsite Warranty', '₹45,990', 5.0)\n",
      "(334, 'Lenovo IdeaPad 3 Core i3 10th Gen - (8 GB/1 TB HDD/Windows 10 Home) 15IML05 Thin and Light Laptop', 'Intel Core i7 Processor (11th Gen)', '8 GB DDR4 RAM', '64 bit Windows 10 Operating System', '256 GB SSD', '39.62 cm (15.6 inch) Display', '1 Year Onsite Warranty', '₹76,990', 1.0)\n",
      "(335, 'Lenovo IdeaPad 3 Core i3 10th Gen - (8 GB/1 TB HDD/Windows 10 Home) 15IML05 Thin and Light Laptop', 'Intel Core i7 Processor (11th Gen)', '8 GB DDR4 RAM', '64 bit Windows 10 Operating System', '1 TB HDD', '39.62 cm (15.6 inch) Display', '1 Year International Travelers Warranty', '₹75,990', 4.2)\n",
      "(336, 'Lenovo IdeaPad 3 Core i3 10th Gen - (8 GB/1 TB HDD/Windows 10 Home) 15IML05 Thin and Light Laptop', 'Intel Core i7 Processor (11th Gen)', '8 GB DDR4 RAM', '64 bit Windows 10 Operating System', '512 GB SSD', '39.62 cm (15.6 inch) Display', '1 Year Onsite Warranty', '₹55,990', 4.3)\n",
      "(337, 'Lenovo IdeaPad 3 Core i3 10th Gen - (8 GB/1 TB HDD/Windows 10 Home) 15IML05 Thin and Light Laptop', 'Intel Core i7 Processor (11th Gen)', '8 GB DDR4 RAM', '64 bit Windows 10 Operating System', '512 GB SSD', '35.56 cm (14 inch) Touchscreen Display', '1 Year Onsite Warranty', '₹94,990', 4.4)\n",
      "(338, 'Lenovo IdeaPad 3 Core i3 10th Gen - (8 GB/1 TB HDD/Windows 10 Home) 15IML05 Thin and Light Laptop', 'Intel Core i7 Processor (11th Gen)', '8 GB DDR4 RAM', '64 bit Windows 10 Operating System', '512 GB SSD', '39.62 cm (15.6 Inch) Display', '1 Year Onsite Warranty', '₹39,990', 4.4)\n",
      "(339, 'Lenovo IdeaPad 3 Core i3 10th Gen - (8 GB/1 TB HDD/Windows 10 Home) 15IML05 Thin and Light Laptop', 'Intel Core i7 Processor (11th Gen)', '8 GB DDR4 RAM', '64 bit Windows 10 Operating System', '512 GB SSD', '39.62 cm (15.6 inch) Display', '1 Year Onsite Warranty', '₹38,990', 4.3)\n",
      "(340, 'Lenovo IdeaPad 3 Core i3 10th Gen - (8 GB/1 TB HDD/Windows 10 Home) 15IML05 Thin and Light Laptop', 'Intel Core i7 Processor (11th Gen)', '8 GB DDR4 RAM', 'Windows 10 Operating System', '512 GB SSD', '39.62 cm (15.6 inch) Display', '1 Year International Travelers Warranty (ITW)', '₹36,990', 4.3)\n",
      "(341, 'Lenovo IdeaPad 3 Core i3 10th Gen - (8 GB/1 TB HDD/Windows 10 Home) 15IML05 Thin and Light Laptop', 'Intel Core i7 Processor (11th Gen)', '8 GB DDR4 RAM', '64 bit Windows 10 Operating System', 'PCI-e SSD (NVMe) ready,Cooler Boost,Matrix Display (Extend),Hi-Res Audio,Nahimic 3,144Hz Panel,Thin Bezel', '39.62 cm (15.6 inch) Display', '1 Year Onsite Warranty', '₹52,990', 4.4)\n",
      "(342, 'Lenovo IdeaPad 3 Core i3 10th Gen - (8 GB/1 TB HDD/Windows 10 Home) 15IML05 Thin and Light Laptop', 'Intel Core i7 Processor (11th Gen)', '8 GB DDR4 RAM', '64 bit Windows 10 Operating System', '1 TB HDD|256 GB SSD', '35.56 cm (14 inch) Display', '1 Year Onsite Warranty', '₹41,990', 4.6)\n",
      "(343, 'Lenovo IdeaPad 3 Core i3 10th Gen - (8 GB/1 TB HDD/Windows 10 Home) 15IML05 Thin and Light Laptop', 'Intel Core i7 Processor (11th Gen)', '8 GB DDR4 RAM', '64 bit Windows 10 Operating System', '1 TB HDD', '35.56 cm (14 inch) Touchscreen Display', '1 Year Onsite Warranty', '₹99,990', 4.5)\n",
      "(344, 'Lenovo IdeaPad 3 Core i3 10th Gen - (8 GB/1 TB HDD/Windows 10 Home) 15IML05 Thin and Light Laptop', 'Intel Core i7 Processor (11th Gen)', '8 GB DDR4 RAM', '64 bit Windows 10 Operating System', '1 TB SSD', '39.62 cm (15.6 inch) Display', '1 Year Onsite Warranty', '₹34,990', 4.3)\n",
      "(345, 'Lenovo IdeaPad 3 Core i3 10th Gen - (8 GB/1 TB HDD/Windows 10 Home) 15IML05 Thin and Light Laptop', 'Intel Core i7 Processor (11th Gen)', '8 GB DDR4 RAM', '64 bit Windows 10 Operating System', '256 GB SSD', '39.62 cm (15.6 inch) Display', '1 Year Onsite Warranty', '₹57,990', 4.6)\n",
      "(346, 'Lenovo IdeaPad 3 Core i3 10th Gen - (8 GB/1 TB HDD/Windows 10 Home) 15IML05 Thin and Light Laptop', 'Intel Core i7 Processor (11th Gen)', '8 GB DDR4 RAM', '64 bit Windows 10 Operating System', '256 GB SSD', '39.62 cm (15.6 inch) Display', '1 Year Onsite Warranty', '₹54,990', 4.5)\n",
      "(347, 'Lenovo IdeaPad 3 Core i3 10th Gen - (8 GB/1 TB HDD/Windows 10 Home) 15IML05 Thin and Light Laptop', 'Intel Core i7 Processor (11th Gen)', '8 GB DDR4 RAM', '64 bit Windows 10 Operating System', '256 GB SSD', '39.62 cm (15.6 inch) Display', '1 Year Warranty Term', '₹1,21,990', 4.0)\n",
      "(348, 'Lenovo IdeaPad 3 Core i3 10th Gen - (8 GB/1 TB HDD/Windows 10 Home) 15IML05 Thin and Light Laptop', 'Intel Core i7 Processor (11th Gen)', '8 GB DDR4 RAM', '64 bit Windows 10 Operating System', '512 GB SSD', '39.62 cm (15.6 inch) Display', '1 Year Onsite Warranty', '₹59,990', 4.5)\n",
      "(349, 'Lenovo IdeaPad 3 Core i3 10th Gen - (8 GB/1 TB HDD/Windows 10 Home) 15IML05 Thin and Light Laptop', 'Intel Core i7 Processor (11th Gen)', '8 GB DDR4 RAM', '64 bit Windows 10 Operating System', '256 GB SSD', '35.56 cm (14 inch) Display', '1 Year International Travelers Warranty (ITW)', '₹37,990', 4.5)\n",
      "(350, 'Lenovo IdeaPad 3 Core i3 10th Gen - (8 GB/1 TB HDD/Windows 10 Home) 15IML05 Thin and Light Laptop', 'Intel Core i7 Processor (11th Gen)', '8 GB DDR4 RAM', '64 bit Windows 10 Operating System', '512 GB SSD', '39.62 cm (15.6 inch) Display', '2 Year Warranty Term', '₹61,990', 4.4)\n",
      "(351, 'Lenovo IdeaPad 3 Core i3 10th Gen - (8 GB/1 TB HDD/Windows 10 Home) 15IML05 Thin and Light Laptop', 'Intel Core i7 Processor (11th Gen)', '8 GB DDR4 RAM', '64 bit Windows 10 Operating System', '256 GB SSD', '39.62 cm (15.6 inch) Display', '1 Year Onsite Warranty', '₹59,990', 4.3)\n",
      "(352, 'Lenovo IdeaPad 3 Core i3 10th Gen - (8 GB/1 TB HDD/Windows 10 Home) 15IML05 Thin and Light Laptop', 'Intel Core i7 Processor (11th Gen)', '8 GB DDR4 RAM', '64 bit Windows 10 Operating System', '512 GB SSD', '39.62 cm (15.6 inch) Display', '1 Year Onsite Warranty', '₹37,990', 4.2)\n",
      "(353, 'Lenovo IdeaPad 3 Core i3 10th Gen - (8 GB/1 TB HDD/Windows 10 Home) 15IML05 Thin and Light Laptop', 'Intel Core i7 Processor (11th Gen)', '8 GB DDR4 RAM', '64 bit Windows 10 Operating System', '512 GB SSD', '39.62 cm (15.6 inch) Display', '1 Year International Travelers Warranty (ITW)', '₹38,990', 4.3)\n",
      "(354, 'Lenovo IdeaPad 3 Core i3 10th Gen - (8 GB/1 TB HDD/Windows 10 Home) 15IML05 Thin and Light Laptop', 'Intel Core i7 Processor (11th Gen)', '8 GB DDR4 RAM', '64 bit Windows 10 Operating System', '1 TB SSD', '39.62 cm (15.6 inches) Display', '1 Year Onsite Warranty', '₹59,990', 4.6)\n",
      "(355, 'Lenovo IdeaPad 3 Core i3 10th Gen - (8 GB/1 TB HDD/Windows 10 Home) 15IML05 Thin and Light Laptop', 'Intel Core i7 Processor (11th Gen)', '8 GB DDR4 RAM', '64 bit Windows 10 Operating System', '512 GB SSD', '39.62 cm (15.6 inch) Display', '1 Year Onsite Warranty', '₹72,990', 4.5)\n",
      "(356, 'Lenovo IdeaPad 3 Core i3 10th Gen - (8 GB/1 TB HDD/Windows 10 Home) 15IML05 Thin and Light Laptop', 'Intel Core i7 Processor (11th Gen)', '8 GB DDR4 RAM', '64 bit Windows 10 Operating System', '1 TB HDD', '39.62 cm (15.6 Inch) Display', '1 Year Onsite Warranty', '₹69,990', 4.4)\n",
      "(357, 'Lenovo IdeaPad 3 Core i3 10th Gen - (8 GB/1 TB HDD/Windows 10 Home) 15IML05 Thin and Light Laptop', 'Intel Core i7 Processor (11th Gen)', '8 GB DDR4 RAM', '64 bit Windows 10 Operating System', '512 GB SSD', '39.62 cm (15.6 inch) Display', '1 Year Onsite Warranty', '₹45,990', 4.3)\n",
      "(358, 'Lenovo IdeaPad 3 Core i3 10th Gen - (8 GB/1 TB HDD/Windows 10 Home) 15IML05 Thin and Light Laptop', 'Intel Core i7 Processor (11th Gen)', '8 GB DDR4 RAM', '64 bit Windows 10 Operating System', '512 GB SSD', '39.62 cm (15.6 inch) Display', '1 Year International Travelers Warranty', '₹76,990', 4.0)\n",
      "(359, 'Lenovo IdeaPad 3 Core i3 10th Gen - (8 GB/1 TB HDD/Windows 10 Home) 15IML05 Thin and Light Laptop', 'Intel Core i7 Processor (11th Gen)', '8 GB DDR4 RAM', '64 bit Windows 10 Operating System', '256 GB SSD', '38.1 cm (15 inch) Display', '1 Year Onsite Warranty', '₹58,990', 1.0)\n",
      "(360, 'Lenovo IdeaPad 3 Core i3 10th Gen - (8 GB/1 TB HDD/Windows 10 Home) 15IML05 Thin and Light Laptop', 'Intel Core i7 Processor (11th Gen)', '8 GB DDR4 RAM', '64 bit Windows 10 Operating System', '1 TB HDD', '39.62 cm (15.6 inch) Display', '1 Year International Travelers Warranty (ITW)', '₹55,990', 4.5)\n",
      "(361, 'Lenovo IdeaPad 3 Core i3 10th Gen - (8 GB/1 TB HDD/Windows 10 Home) 15IML05 Thin and Light Laptop', 'Intel Core i7 Processor (11th Gen)', '8 GB DDR4 RAM', '64 bit Windows 10 Operating System', '512 GB SSD', '35.56 cm (14 inch) Touchscreen Display', '1 Year Onsite Warranty', '₹94,990', 4.0)\n",
      "(362, 'Lenovo IdeaPad 3 Core i3 10th Gen - (8 GB/1 TB HDD/Windows 10 Home) 15IML05 Thin and Light Laptop', 'Intel Core i7 Processor (11th Gen)', '8 GB DDR4 RAM', '64 bit Windows 10 Operating System', '512 GB SSD', '39.62 cm (15.6 Inch) Display', '1 Year Onsite Warranty', '₹39,990', 4.0)\n",
      "(363, 'Lenovo IdeaPad 3 Core i3 10th Gen - (8 GB/1 TB HDD/Windows 10 Home) 15IML05 Thin and Light Laptop', 'Intel Core i7 Processor (11th Gen)', '8 GB DDR4 RAM', '64 bit Windows 10 Operating System', '512 GB SSD', '39.62 cm (15.6 inch) Display', '1 Year Onsite Warranty', '₹38,990', 4.0)\n",
      "(364, 'Lenovo IdeaPad 3 Core i3 10th Gen - (8 GB/1 TB HDD/Windows 10 Home) 15IML05 Thin and Light Laptop', 'Intel Core i7 Processor (11th Gen)', '8 GB DDR4 RAM', 'Windows 10 Operating System', '512 GB SSD', '39.62 cm (15.6 inch) Display', '1 Year Onsite Warranty', '₹36,990', 5.0)\n",
      "(365, 'Lenovo IdeaPad 3 Core i3 10th Gen - (8 GB/1 TB HDD/Windows 10 Home) 15IML05 Thin and Light Laptop', 'Intel Core i7 Processor (11th Gen)', '8 GB DDR4 RAM', '64 bit Windows 10 Operating System', '512 GB SSD', '39.62 cm (15.6 inch) Display', '1 Year Onsite Warranty', '₹52,990', 1.0)\n",
      "(366, 'Lenovo IdeaPad 3 Core i3 10th Gen - (8 GB/1 TB HDD/Windows 10 Home) 15IML05 Thin and Light Laptop', 'Intel Core i7 Processor (11th Gen)', '8 GB DDR4 RAM', '64 bit Windows 10 Operating System', 'PCI-e SSD (NVMe) ready,Cooler Boost,Matrix Display (Extend),Hi-Res Audio,Nahimic 3,144Hz Panel,Thin Bezel', '35.56 cm (14 inch) Display', '1 Year Onsite Warranty', '₹41,990', 4.4)\n",
      "(367, 'Lenovo IdeaPad 3 Core i3 10th Gen - (8 GB/1 TB HDD/Windows 10 Home) 15IML05 Thin and Light Laptop', 'Intel Core i7 Processor (11th Gen)', '8 GB DDR4 RAM', '64 bit Windows 10 Operating System', '1 TB HDD|256 GB SSD', '35.56 cm (14 inch) Touchscreen Display', '1 Year Onsite Warranty', '₹99,990', 4.0)\n",
      "(368, 'Lenovo IdeaPad 3 Core i3 10th Gen - (8 GB/1 TB HDD/Windows 10 Home) 15IML05 Thin and Light Laptop', 'Intel Core i7 Processor (11th Gen)', '8 GB DDR4 RAM', '64 bit Windows 10 Operating System', '1 TB HDD', '39.62 cm (15.6 inch) Display', '1 Year Onsite Warranty', '₹34,990', 5.0)\n",
      "(369, 'Lenovo IdeaPad 3 Core i3 10th Gen - (8 GB/1 TB HDD/Windows 10 Home) 15IML05 Thin and Light Laptop', 'Intel Core i7 Processor (11th Gen)', '8 GB DDR4 RAM', '64 bit Windows 10 Operating System', '1 TB SSD', '39.62 cm (15.6 inch) Display', '1 Year Warranty Term', '₹57,990', 4.2)\n",
      "(370, 'Lenovo IdeaPad 3 Core i3 10th Gen - (8 GB/1 TB HDD/Windows 10 Home) 15IML05 Thin and Light Laptop', 'Intel Core i7 Processor (11th Gen)', '8 GB DDR4 RAM', '64 bit Windows 10 Operating System', '256 GB SSD', '39.62 cm (15.6 inch) Display', '1 Year Onsite Warranty', '₹54,990', 5.0)\n",
      "(371, 'Lenovo IdeaPad 3 Core i3 10th Gen - (8 GB/1 TB HDD/Windows 10 Home) 15IML05 Thin and Light Laptop', 'Intel Core i7 Processor (11th Gen)', '8 GB DDR4 RAM', '64 bit Windows 10 Operating System', '256 GB SSD', '39.62 cm (15.6 inch) Display', '1 Year International Travelers Warranty (ITW)', '₹1,21,990', 1.0)\n",
      "(372, 'Lenovo IdeaPad 3 Core i3 10th Gen - (8 GB/1 TB HDD/Windows 10 Home) 15IML05 Thin and Light Laptop', 'Intel Core i7 Processor (11th Gen)', '8 GB DDR4 RAM', '64 bit Windows 10 Operating System', '256 GB SSD', '39.62 cm (15.6 inch) Display', '1 Year Onsite Warranty', '₹59,990', 4.2)\n",
      "(373, 'Lenovo IdeaPad 3 Core i3 10th Gen - (8 GB/1 TB HDD/Windows 10 Home) 15IML05 Thin and Light Laptop', 'Intel Core i7 Processor (11th Gen)', '8 GB DDR4 RAM', '64 bit Windows 10 Operating System', '512 GB SSD', '35.56 cm (14 inch) Display', '1 Year Onsite Warranty', '₹37,990', 4.3)\n",
      "(374, 'Lenovo IdeaPad 3 Core i3 10th Gen - (8 GB/1 TB HDD/Windows 10 Home) 15IML05 Thin and Light Laptop', 'Intel Core i7 Processor (11th Gen)', '8 GB DDR4 RAM', '64 bit Windows 10 Operating System', '256 GB SSD', '39.62 cm (15.6 inch) Display', '1 Year Onsite Warranty', '₹61,990', 4.4)\n",
      "(375, 'Lenovo IdeaPad 3 Core i3 10th Gen - (8 GB/1 TB HDD/Windows 10 Home) 15IML05 Thin and Light Laptop', 'Intel Core i7 Processor (11th Gen)', '8 GB DDR4 RAM', '64 bit Windows 10 Operating System', '512 GB SSD', '39.62 cm (15.6 inch) Display', '1 Year International Travelers Warranty (ITW)', '₹59,990', 4.4)\n",
      "(376, 'Lenovo IdeaPad 3 Core i3 10th Gen - (8 GB/1 TB HDD/Windows 10 Home) 15IML05 Thin and Light Laptop', 'Intel Core i7 Processor (11th Gen)', '8 GB DDR4 RAM', '64 bit Windows 10 Operating System', '256 GB SSD', '39.62 cm (15.6 inch) Display', '1 Year Onsite Warranty', '₹37,990', 4.3)\n",
      "(377, 'Lenovo IdeaPad 3 Core i3 10th Gen - (8 GB/1 TB HDD/Windows 10 Home) 15IML05 Thin and Light Laptop', 'Intel Core i7 Processor (11th Gen)', '8 GB DDR4 RAM', '64 bit Windows 10 Operating System', '512 GB SSD', '39.62 cm (15.6 inch) Display', '1 Year Onsite Warranty', '₹38,990', 4.3)\n",
      "(378, 'Lenovo IdeaPad 3 Core i3 10th Gen - (8 GB/1 TB HDD/Windows 10 Home) 15IML05 Thin and Light Laptop', 'Intel Core i7 Processor (11th Gen)', '8 GB DDR4 RAM', '64 bit Windows 10 Operating System', '512 GB SSD', '39.62 cm (15.6 inches) Display', '1 Year Onsite Warranty', '₹59,990', 4.4)\n",
      "(379, 'Lenovo IdeaPad 3 Core i3 10th Gen - (8 GB/1 TB HDD/Windows 10 Home) 15IML05 Thin and Light Laptop', 'Intel Core i7 Processor (11th Gen)', '8 GB DDR4 RAM', '64 bit Windows 10 Operating System', '1 TB SSD', '39.62 cm (15.6 inch) Display', '1 Year Onsite Warranty', '₹72,990', 4.5)\n",
      "(380, 'Lenovo IdeaPad 3 Core i3 10th Gen - (8 GB/1 TB HDD/Windows 10 Home) 15IML05 Thin and Light Laptop', 'Intel Core i7 Processor (11th Gen)', '8 GB DDR4 RAM', '64 bit Windows 10 Operating System', '512 GB SSD', '39.62 cm (15.6 Inch) Display', '1 Year International Travelers Warranty', '₹69,990', 4.5)\n",
      "(381, 'Lenovo IdeaPad 3 Core i3 10th Gen - (8 GB/1 TB HDD/Windows 10 Home) 15IML05 Thin and Light Laptop', 'Intel Core i7 Processor (11th Gen)', '8 GB DDR4 RAM', '64 bit Windows 10 Operating System', '1 TB HDD', '39.62 cm (15.6 inch) Display', '1 Year Onsite Warranty', '₹45,990', 4.3)\n",
      "(382, 'Lenovo IdeaPad 3 Core i3 10th Gen - (8 GB/1 TB HDD/Windows 10 Home) 15IML05 Thin and Light Laptop', 'Intel Core i7 Processor (11th Gen)', '8 GB DDR4 RAM', '64 bit Windows 10 Operating System', '512 GB SSD', '39.62 cm (15.6 inch) Display', '1 Year International Travelers Warranty (ITW)', '₹76,990', 4.6)\n",
      "(383, 'Lenovo IdeaPad 3 Core i3 10th Gen - (8 GB/1 TB HDD/Windows 10 Home) 15IML05 Thin and Light Laptop', 'Intel Core i7 Processor (11th Gen)', '8 GB DDR4 RAM', '64 bit Windows 10 Operating System', '512 GB SSD', '38.1 cm (15 inch) Display', '1 Year Onsite Warranty', '₹58,990', 4.6)\n",
      "(384, 'Lenovo IdeaPad 3 Core i3 10th Gen - (8 GB/1 TB HDD/Windows 10 Home) 15IML05 Thin and Light Laptop', 'Intel Core i7 Processor (11th Gen)', '8 GB DDR4 RAM', '64 bit Windows 10 Operating System', '256 GB SSD', '39.62 cm (15.6 inch) Display', '1 Year Onsite Warranty', '₹55,990', 4.0)\n",
      "(385, 'Lenovo IdeaPad 3 Core i3 10th Gen - (8 GB/1 TB HDD/Windows 10 Home) 15IML05 Thin and Light Laptop', 'Intel Core i7 Processor (11th Gen)', '8 GB DDR4 RAM', '64 bit Windows 10 Operating System', '1 TB HDD', '35.56 cm (14 inch) Touchscreen Display', '1 Year Onsite Warranty', '₹94,990', 4.5)\n",
      "(386, 'Lenovo IdeaPad 3 Core i3 10th Gen - (8 GB/1 TB HDD/Windows 10 Home) 15IML05 Thin and Light Laptop', 'Intel Core i7 Processor (11th Gen)', '8 GB DDR4 RAM', '64 bit Windows 10 Operating System', '512 GB SSD', '39.62 cm (15.6 Inch) Display', '1 Year Onsite Warranty', '₹39,990', 4.5)\n",
      "(387, 'Lenovo IdeaPad 3 Core i3 10th Gen - (8 GB/1 TB HDD/Windows 10 Home) 15IML05 Thin and Light Laptop', 'Intel Core i7 Processor (11th Gen)', '8 GB DDR4 RAM', '64 bit Windows 10 Operating System', '512 GB SSD', '39.62 cm (15.6 inch) Display', '1 Year Onsite Warranty', '₹38,990', 4.4)\n",
      "(388, 'Lenovo IdeaPad 3 Core i3 10th Gen - (8 GB/1 TB HDD/Windows 10 Home) 15IML05 Thin and Light Laptop', 'Intel Core i7 Processor (11th Gen)', '8 GB DDR4 RAM', 'Windows 10 Operating System', '512 GB SSD', '39.62 cm (15.6 inch) Display', '1 Year Onsite Warranty', '₹36,990', 4.3)\n",
      "(389, 'Lenovo IdeaPad 3 Core i3 10th Gen - (8 GB/1 TB HDD/Windows 10 Home) 15IML05 Thin and Light Laptop', 'Intel Core i7 Processor (11th Gen)', '8 GB DDR4 RAM', '64 bit Windows 10 Operating System', '512 GB SSD', '35.56 cm (14 inch) Display', '1 Year Onsite Warranty', '₹41,990', 4.2)\n",
      "(390, 'Lenovo IdeaPad 3 Core i3 10th Gen - (8 GB/1 TB HDD/Windows 10 Home) 15IML05 Thin and Light Laptop', 'Intel Core i7 Processor (11th Gen)', '8 GB DDR4 RAM', '64 bit Windows 10 Operating System', '512 GB SSD', '39.62 cm (15.6 inch) Display', '1 Year Onsite Warranty', '₹52,990', 4.3)\n",
      "(391, 'Lenovo IdeaPad 3 Core i3 10th Gen - (8 GB/1 TB HDD/Windows 10 Home) 15IML05 Thin and Light Laptop', 'Intel Core i7 Processor (11th Gen)', '8 GB DDR4 RAM', '64 bit Windows 10 Operating System', 'PCI-e SSD (NVMe) ready,Cooler Boost,Matrix Display (Extend),Hi-Res Audio,Nahimic 3,144Hz Panel,Thin Bezel', '35.56 cm (14 inch) Touchscreen Display', '1 Year Warranty Term', '₹99,990', 4.6)\n",
      "(392, 'Lenovo IdeaPad 3 Core i3 10th Gen - (8 GB/1 TB HDD/Windows 10 Home) 15IML05 Thin and Light Laptop', 'Intel Core i7 Processor (11th Gen)', '8 GB DDR4 RAM', '64 bit Windows 10 Operating System', '1 TB HDD|256 GB SSD', '39.62 cm (15.6 inch) Display', '1 Year Onsite Warranty', '₹54,990', 4.5)\n",
      "(393, 'Lenovo IdeaPad 3 Core i3 10th Gen - (8 GB/1 TB HDD/Windows 10 Home) 15IML05 Thin and Light Laptop', 'Intel Core i7 Processor (11th Gen)', '8 GB DDR4 RAM', '64 bit Windows 10 Operating System', '1 TB HDD', '39.62 cm (15.6 inch) Display', '1 Year International Travelers Warranty (ITW)', '₹34,990', 4.4)\n",
      "(394, 'Lenovo IdeaPad 3 Core i3 10th Gen - (8 GB/1 TB HDD/Windows 10 Home) 15IML05 Thin and Light Laptop', 'Intel Core i7 Processor (11th Gen)', '8 GB DDR4 RAM', '64 bit Windows 10 Operating System', '1 TB SSD', '39.62 cm (15.6 inch) Display', '1 Year Onsite Warranty', '₹57,990', 4.5)\n",
      "(395, 'Lenovo IdeaPad 3 Core i3 10th Gen - (8 GB/1 TB HDD/Windows 10 Home) 15IML05 Thin and Light Laptop', 'Intel Core i7 Processor (11th Gen)', '8 GB DDR4 RAM', '64 bit Windows 10 Operating System', '256 GB SSD', '39.62 cm (15.6 inch) Display', '1 Year Onsite Warranty', '₹1,21,990', 4.3)\n",
      "(396, 'Lenovo IdeaPad 3 Core i3 10th Gen - (8 GB/1 TB HDD/Windows 10 Home) 15IML05 Thin and Light Laptop', 'Intel Core i7 Processor (11th Gen)', '8 GB DDR4 RAM', '64 bit Windows 10 Operating System', '256 GB SSD', '35.56 cm (14 inch) Display', '1 Year Onsite Warranty', '₹37,990', 4.0)\n",
      "(397, 'Lenovo IdeaPad 3 Core i3 10th Gen - (8 GB/1 TB HDD/Windows 10 Home) 15IML05 Thin and Light Laptop', 'Intel Core i7 Processor (11th Gen)', '8 GB DDR4 RAM', '64 bit Windows 10 Operating System', '256 GB SSD', '39.62 cm (15.6 inch) Display', '1 Year International Travelers Warranty (ITW)', '₹59,990', 1.0)\n",
      "(398, 'Lenovo IdeaPad 3 Core i3 10th Gen - (8 GB/1 TB HDD/Windows 10 Home) 15IML05 Thin and Light Laptop', 'Intel Core i7 Processor (11th Gen)', '8 GB DDR4 RAM', '64 bit Windows 10 Operating System', '256 GB SSD', '39.62 cm (15.6 inch) Display', '1 Year Onsite Warranty', '₹61,990', 4.5)\n",
      "(399, 'Lenovo IdeaPad 3 Core i3 10th Gen - (8 GB/1 TB HDD/Windows 10 Home) 15IML05 Thin and Light Laptop', 'Intel Core i7 Processor (11th Gen)', '8 GB DDR4 RAM', '64 bit Windows 10 Operating System', '512 GB SSD', '39.62 cm (15.6 inch) Display', '1 Year Onsite Warranty', '₹59,990', 4.0)\n",
      "(400, 'Lenovo IdeaPad 3 Core i3 10th Gen - (8 GB/1 TB HDD/Windows 10 Home) 15IML05 Thin and Light Laptop', 'Intel Core i7 Processor (11th Gen)', '8 GB DDR4 RAM', '64 bit Windows 10 Operating System', '512 GB SSD', '39.62 cm (15.6 inch) Display', '1 Year Onsite Warranty', '₹37,990', 4.0)\n",
      "(401, 'Lenovo IdeaPad 3 Core i3 10th Gen - (8 GB/1 TB HDD/Windows 10 Home) 15IML05 Thin and Light Laptop', 'Intel Core i7 Processor (11th Gen)', '8 GB DDR4 RAM', '64 bit Windows 10 Operating System', '512 GB SSD', '39.62 cm (15.6 inch) Display', '1 Year Onsite Warranty', '₹38,990', 4.0)\n",
      "(402, 'Lenovo IdeaPad 3 Core i3 10th Gen - (8 GB/1 TB HDD/Windows 10 Home) 15IML05 Thin and Light Laptop', 'Intel Core i7 Processor (11th Gen)', '8 GB DDR4 RAM', '64 bit Windows 10 Operating System', '256 GB SSD', '39.62 cm (15.6 inches) Display', '1 Year International Travelers Warranty', '₹59,990', 5.0)\n",
      "(403, 'Lenovo IdeaPad 3 Core i3 10th Gen - (8 GB/1 TB HDD/Windows 10 Home) 15IML05 Thin and Light Laptop', 'Intel Core i7 Processor (11th Gen)', '8 GB DDR4 RAM', '64 bit Windows 10 Operating System', '512 GB SSD', '39.62 cm (15.6 inch) Display', '1 Year Onsite Warranty', '₹72,990', 1.0)\n",
      "(404, 'Lenovo IdeaPad 3 Core i3 10th Gen - (8 GB/1 TB HDD/Windows 10 Home) 15IML05 Thin and Light Laptop', 'Intel Core i7 Processor (11th Gen)', '8 GB DDR4 RAM', '64 bit Windows 10 Operating System', '1 TB SSD', '39.62 cm (15.6 Inch) Display', '1 Year International Travelers Warranty (ITW)', '₹69,990', 4.4)\n",
      "(405, 'Lenovo IdeaPad 3 Core i3 10th Gen - (8 GB/1 TB HDD/Windows 10 Home) 15IML05 Thin and Light Laptop', 'Intel Core i7 Processor (11th Gen)', '8 GB DDR4 RAM', '64 bit Windows 10 Operating System', '1 TB HDD', '39.62 cm (15.6 inch) Display', '1 Year Onsite Warranty', '₹45,990', 4.0)\n",
      "(406, 'Lenovo IdeaPad 3 Core i3 10th Gen - (8 GB/1 TB HDD/Windows 10 Home) 15IML05 Thin and Light Laptop', 'Intel Core i7 Processor (11th Gen)', '8 GB DDR4 RAM', '64 bit Windows 10 Operating System', '512 GB SSD', '39.62 cm (15.6 Inch) Display', '1 Year Onsite Warranty', '₹63,990', 5.0)\n",
      "(407, 'Lenovo IdeaPad 3 Core i3 10th Gen - (8 GB/1 TB HDD/Windows 10 Home) 15IML05 Thin and Light Laptop', 'Intel Core i7 Processor (11th Gen)', '8 GB DDR4 RAM', '64 bit Windows 10 Operating System', '512 GB SSD', '38.1 cm (15 inch) Display', '1 Year Onsite Warranty', '₹58,990', 4.2)\n",
      "(408, 'Lenovo IdeaPad 3 Core i3 10th Gen - (8 GB/1 TB HDD/Windows 10 Home) 15IML05 Thin and Light Laptop', 'Intel Core i7 Processor (11th Gen)', '8 GB DDR4 RAM', '64 bit Windows 10 Operating System', '512 GB SSD', '39.62 cm (15.6 inch) Display', '1 Year Onsite Warranty', '₹55,990', 5.0)\n",
      "(409, 'Lenovo IdeaPad 3 Core i3 10th Gen - (8 GB/1 TB HDD/Windows 10 Home) 15IML05 Thin and Light Laptop', 'Intel Core i7 Processor (11th Gen)', '8 GB DDR4 RAM', '64 bit Windows 10 Operating System', '256 GB SSD', '35.56 cm (14 inch) Touchscreen Display', '1 Year Onsite Warranty', '₹94,990', 1.0)\n",
      "(410, 'Lenovo IdeaPad 3 Core i3 10th Gen - (8 GB/1 TB HDD/Windows 10 Home) 15IML05 Thin and Light Laptop', 'Intel Core i7 Processor (11th Gen)', '8 GB DDR4 RAM', '64 bit Windows 10 Operating System', '1 TB HDD', '39.62 cm (15.6 Inch) Display', '1 Year Onsite Warranty', '₹39,990', 4.2)\n",
      "(411, 'Lenovo IdeaPad 3 Core i3 10th Gen - (8 GB/1 TB HDD/Windows 10 Home) 15IML05 Thin and Light Laptop', 'Intel Core i7 Processor (11th Gen)', '8 GB DDR4 RAM', '64 bit Windows 10 Operating System', '512 GB SSD', '39.62 cm (15.6 inch) Display', '1 Year Onsite Warranty', '₹38,990', 4.3)\n",
      "(412, 'Lenovo IdeaPad 3 Core i3 10th Gen - (8 GB/1 TB HDD/Windows 10 Home) 15IML05 Thin and Light Laptop', 'Intel Core i7 Processor (11th Gen)', '8 GB DDR4 RAM', 'Windows 10 Operating System', '512 GB SSD', '39.62 cm (15.6 inch) Display', '1 Year Onsite Warranty', '₹36,990', 4.4)\n",
      "(413, 'Lenovo IdeaPad 3 Core i3 10th Gen - (8 GB/1 TB HDD/Windows 10 Home) 15IML05 Thin and Light Laptop', 'Intel Core i7 Processor (11th Gen)', '8 GB DDR4 RAM', '64 bit Windows 10 Operating System', '512 GB SSD', '35.56 cm (14 inch) Display', '1 Year Warranty Term', '₹41,990', 4.4)\n",
      "(414, 'Lenovo IdeaPad 3 Core i3 10th Gen - (8 GB/1 TB HDD/Windows 10 Home) 15IML05 Thin and Light Laptop', 'Intel Core i7 Processor (11th Gen)', '8 GB DDR4 RAM', '64 bit Windows 10 Operating System', '512 GB SSD', '39.62 cm (15.6 inch) Display', '1 Year Onsite Warranty', '₹52,990', 4.3)\n",
      "(415, 'Lenovo IdeaPad 3 Core i3 10th Gen - (8 GB/1 TB HDD/Windows 10 Home) 15IML05 Thin and Light Laptop', 'Intel Core i7 Processor (11th Gen)', '8 GB DDR4 RAM', '64 bit Windows 10 Operating System', '512 GB SSD', '39.62 cm (15.6 inch) Display', '1 Year International Travelers Warranty (ITW)', '₹1,21,990', 4.4)\n",
      "(416, 'Lenovo IdeaPad 3 Core i3 10th Gen - (8 GB/1 TB HDD/Windows 10 Home) 15IML05 Thin and Light Laptop', 'Intel Core i7 Processor (11th Gen)', '8 GB DDR4 RAM', '64 bit Windows 10 Operating System', '1 TB HDD|256 GB SSD', '39.62 cm (15.6 inch) Display', '1 Year Onsite Warranty', '₹54,990', 4.3)\n",
      "(417, 'Lenovo IdeaPad 3 Core i3 10th Gen - (8 GB/1 TB HDD/Windows 10 Home) 15IML05 Thin and Light Laptop', 'Intel Core i7 Processor (11th Gen)', '8 GB DDR4 RAM', '64 bit Windows 10 Operating System', '1 TB HDD', '39.62 cm (15.6 inch) Display', '1 Year Onsite Warranty', '₹34,990', 4.6)\n",
      "(418, 'Lenovo IdeaPad 3 Core i3 10th Gen - (8 GB/1 TB HDD/Windows 10 Home) 15IML05 Thin and Light Laptop', 'Intel Core i7 Processor (11th Gen)', '8 GB DDR4 RAM', '64 bit Windows 10 Operating System', '1 TB SSD', '39.62 cm (15.6 inch) Display', '1 Year Onsite Warranty', '₹57,990', 4.3)\n",
      "(419, 'Lenovo IdeaPad 3 Core i3 10th Gen - (8 GB/1 TB HDD/Windows 10 Home) 15IML05 Thin and Light Laptop', 'Intel Core i7 Processor (11th Gen)', '8 GB DDR4 RAM', '64 bit Windows 10 Operating System', '256 GB SSD', '35.56 cm (14 inch) Touchscreen Display', '1 Year International Travelers Warranty (ITW)', '₹99,990', 4.6)\n",
      "(420, 'Lenovo IdeaPad 3 Core i3 10th Gen - (8 GB/1 TB HDD/Windows 10 Home) 15IML05 Thin and Light Laptop', 'Intel Core i7 Processor (11th Gen)', '8 GB DDR4 RAM', '64 bit Windows 10 Operating System', '256 GB SSD', '35.56 cm (14 inch) Display', '1 Year Onsite Warranty', '₹37,990', 4.5)\n",
      "(421, 'Lenovo IdeaPad 3 Core i3 10th Gen - (8 GB/1 TB HDD/Windows 10 Home) 15IML05 Thin and Light Laptop', 'Intel Core i7 Processor (11th Gen)', '8 GB DDR4 RAM', '64 bit Windows 10 Operating System', '256 GB SSD', '39.62 cm (15.6 inch) Display', '1 Year Onsite Warranty', '₹59,990', 4.5)\n",
      "(422, 'Lenovo IdeaPad 3 Core i3 10th Gen - (8 GB/1 TB HDD/Windows 10 Home) 15IML05 Thin and Light Laptop', 'Intel Core i7 Processor (11th Gen)', '8 GB DDR4 RAM', '64 bit Windows 10 Operating System', '256 GB SSD', '39.62 cm (15.6 inch) Display', '1 Year Onsite Warranty', '₹61,990', 4.5)\n",
      "(423, 'Lenovo IdeaPad 3 Core i3 10th Gen - (8 GB/1 TB HDD/Windows 10 Home) 15IML05 Thin and Light Laptop', 'Intel Core i7 Processor (11th Gen)', '8 GB DDR4 RAM', '64 bit Windows 10 Operating System', '512 GB SSD', '39.62 cm (15.6 inch) Display', '1 Year Onsite Warranty', '₹59,990', 4.0)\n",
      "(424, 'Lenovo IdeaPad 3 Core i3 10th Gen - (8 GB/1 TB HDD/Windows 10 Home) 15IML05 Thin and Light Laptop', 'Intel Core i7 Processor (11th Gen)', '8 GB DDR4 RAM', '64 bit Windows 10 Operating System', '1 TB SSD', '39.62 cm (15.6 inch) Display', '1 Year International Travelers Warranty', '₹37,990', 4.5)\n"
     ]
    }
   ],
   "source": [
    "for row in c.fetchall():\n",
    "    print(row)"
   ]
  },
  {
   "cell_type": "code",
   "execution_count": 24,
   "metadata": {
    "colab": {
     "base_uri": "https://localhost:8080/",
     "height": 33
    },
    "colab_type": "code",
    "executionInfo": {
     "elapsed": 1257,
     "status": "ok",
     "timestamp": 1601036428147,
     "user": {
      "displayName": "Shabbir Governor",
      "photoUrl": "https://lh3.googleusercontent.com/a-/AOh14GgG7YXnGlLzQEi0NEdesJ1XL80D1VttfZm-jIGU=s64",
      "userId": "06507395772645635637"
     },
     "user_tz": -330
    },
    "id": "VSsz52a0RXvd",
    "outputId": "14981842-f85c-4c5b-f4a3-0f47bf6f9c5d"
   },
   "outputs": [
    {
     "data": {
      "text/plain": [
       "<sqlite3.Cursor at 0x25b64ded260>"
      ]
     },
     "execution_count": 24,
     "metadata": {},
     "output_type": "execute_result"
    }
   ],
   "source": [
    "c.execute('''  \n",
    "SELECT RAM, Display,  Price FROM laptop20 limit 5\n",
    "          ''')"
   ]
  },
  {
   "cell_type": "code",
   "execution_count": 25,
   "metadata": {
    "colab": {
     "base_uri": "https://localhost:8080/",
     "height": 100
    },
    "colab_type": "code",
    "executionInfo": {
     "elapsed": 1056,
     "status": "ok",
     "timestamp": 1601036460882,
     "user": {
      "displayName": "Shabbir Governor",
      "photoUrl": "https://lh3.googleusercontent.com/a-/AOh14GgG7YXnGlLzQEi0NEdesJ1XL80D1VttfZm-jIGU=s64",
      "userId": "06507395772645635637"
     },
     "user_tz": -330
    },
    "id": "Xm_bg46dUpvx",
    "outputId": "a0036b14-f226-4082-8906-8ffb907c3042"
   },
   "outputs": [
    {
     "name": "stdout",
     "output_type": "stream",
     "text": [
      "('8 GB DDR4 RAM', '39.62 cm (15.6 inch) Display', '₹55,990')\n",
      "('8 GB DDR4 RAM', '35.56 cm (14 inch) Touchscreen Display', '₹94,990')\n",
      "('8 GB DDR4 RAM', '39.62 cm (15.6 Inch) Display', '₹39,990')\n",
      "('8 GB DDR4 RAM', '39.62 cm (15.6 inch) Display', '₹38,990')\n",
      "('8 GB DDR4 RAM', '39.62 cm (15.6 inch) Display', '₹36,990')\n"
     ]
    }
   ],
   "source": [
    "for row in c.fetchall():\n",
    "    print(row)"
   ]
  }
 ],
 "metadata": {
  "colab": {
   "authorship_tag": "ABX9TyPCmmIurKXD97nzXOsMwa/d",
   "collapsed_sections": [],
   "name": "FlipkartYoutube20.ipynb",
   "provenance": []
  },
  "kernelspec": {
   "display_name": "Python 3 (ipykernel)",
   "language": "python",
   "name": "python3"
  },
  "language_info": {
   "codemirror_mode": {
    "name": "ipython",
    "version": 3
   },
   "file_extension": ".py",
   "mimetype": "text/x-python",
   "name": "python",
   "nbconvert_exporter": "python",
   "pygments_lexer": "ipython3",
   "version": "3.9.7"
  }
 },
 "nbformat": 4,
 "nbformat_minor": 1
}
